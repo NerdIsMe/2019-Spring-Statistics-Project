{
 "cells": [
  {
   "cell_type": "code",
   "execution_count": 1,
   "metadata": {},
   "outputs": [],
   "source": [
    "import numpy as np\n",
    "import pandas as pd\n",
    "import multiprocessing as mp\n",
    "from datetime import datetime"
   ]
  },
  {
   "cell_type": "code",
   "execution_count": 2,
   "metadata": {},
   "outputs": [],
   "source": [
    "def Semester_Record(courses):\n",
    "    grades = courses[0]\n",
    "    v_info = courses[1]\n",
    "    records = courses[2]\n",
    "    student_id = courses[3]\n",
    "    # 開一個 table 存等一下計算的資料\n",
    "    student_info = pd.DataFrame(data = grades.drop(0)['student_id'])\n",
    "    \n",
    "    # 計算總觀看時間\n",
    "    total_spent_time = [] # 總觀看時間\n",
    "    total_watch_video_time = [] # 觀看的總影片時間\n",
    "    \n",
    "    for i in student_info['student_id']:\n",
    "        watch_record_i = records[records['student_id'] == int(i)]\n",
    "        # 抓出有在看的資料\n",
    "        real_watch_i = watch_record_i[(watch_record_i['end'] > watch_record_i['start']) & (watch_record_i['playback_rate'] != 0)]\n",
    "        video_time_i = real_watch_i['end'] - real_watch_i['start']# 觀看紀錄 的 影片時間(end - start)\n",
    "        total_watch_video_time.append(sum(video_time_i))\n",
    "        total_spent_time.append(sum(video_time_i/real_watch_i['playback_rate']))\n",
    "\n",
    "    student_info['total_watch_time'] = total_spent_time\n",
    "    \n",
    "    # 計算撥放速度\n",
    "    total_spent_time = [x if x!= 0 else 1 for x in total_spent_time]\n",
    "    avg_playback_rate = [i/j for (i,j) in zip(total_watch_video_time, total_spent_time)]\n",
    "    student_info['avg_playback_rate'] = avg_playback_rate\n",
    "    \n",
    "    # 計算影片平均觀看次數\n",
    "    length_l = list(v_info['meta'])# length of each lecture\n",
    "    length_l = [int(i.split('n=>')[1].split('}')[0]) for i in length_l]\n",
    "    total_length_l = sum(length_l)\n",
    "    student_info['avg_freq'] = student_info['total_watch_time']/(total_length_l/student_info['avg_playback_rate'])\n",
    "    \n",
    "    return student_info"
   ]
  },
  {
   "cell_type": "markdown",
   "metadata": {},
   "source": [
    "### DSAP107 data"
   ]
  },
  {
   "cell_type": "code",
   "execution_count": 3,
   "metadata": {},
   "outputs": [],
   "source": [
    "DSAP107_grades = pd.read_csv('data/DSAP107 grades.csv')\n",
    "DSAP107_v_info = pd.read_excel('data/DSAP107 videos_sep.xlsx', sheet_name = 'video info')\n",
    "DSAP107_records = pd.read_excel('data/DSAP107 videos_sep.xlsx', sheet_name = 'watching records')\n",
    "DSAP107_student_id = pd.read_excel('data/DSAP107 videos_sep.xlsx', sheet_name = 'student id')"
   ]
  },
  {
   "cell_type": "markdown",
   "metadata": {},
   "source": [
    "### DSAP108 data"
   ]
  },
  {
   "cell_type": "code",
   "execution_count": 4,
   "metadata": {},
   "outputs": [],
   "source": [
    "DSAP108_grades = pd.read_csv('data/DSAP108 grades.csv')\n",
    "DSAP108_v_info = pd.read_excel('data/DSAP108 videos_sep.xlsx', sheet_name = 'video info')\n",
    "DSAP108_records = pd.read_excel('data/DSAP108 videos_sep.xlsx', sheet_name = 'watching records')\n",
    "DSAP108_student_id = pd.read_excel('data/DSAP108 videos_sep.xlsx', sheet_name = 'student id')"
   ]
  },
  {
   "cell_type": "markdown",
   "metadata": {},
   "source": [
    "### OR107 data"
   ]
  },
  {
   "cell_type": "code",
   "execution_count": 5,
   "metadata": {},
   "outputs": [],
   "source": [
    "OR107_grades = pd.read_csv('data/OR107 grades.csv')\n",
    "OR107_v_info = pd.read_excel('data/OR107 videos_sep.xlsx', sheet_name = 'video info')\n",
    "OR107_records = pd.read_excel('data/OR107 videos_sep.xlsx', sheet_name = 'watching records')\n",
    "OR107_student_id = pd.read_excel('data/OR107 videos_sep.xlsx', sheet_name = 'student id')"
   ]
  },
  {
   "cell_type": "markdown",
   "metadata": {},
   "source": [
    "### OR108 data"
   ]
  },
  {
   "cell_type": "code",
   "execution_count": 10,
   "metadata": {},
   "outputs": [
    {
     "name": "stdout",
     "output_type": "stream",
     "text": [
      "1\n"
     ]
    }
   ],
   "source": [
    "'''\n",
    "OR108_grades = pd.read_csv('data/OR108 grades.csv')\n",
    "OR108_v_info = pd.read_excel('data/OR108 videos_sep.xlsx', sheet_name = 'video info')\n",
    "OR108_records = pd.read_excel('data/OR108 videos_sep.xlsx', sheet_name = 'watching records')\n",
    "OR108_student_id = pd.read_excel('data/OR108 videos_sep.xlsx', sheet_name = 'student id')\n",
    "'''\n",
    "print('1')"
   ]
  },
  {
   "cell_type": "code",
   "execution_count": 9,
   "metadata": {},
   "outputs": [],
   "source": [
    "def main(courses):\n",
    "    pool = mp.Pool()\n",
    "    pool.map(Semester_Record, courses)\n",
    "    pool.close()\n",
    "    pool.join()"
   ]
  },
  {
   "cell_type": "code",
   "execution_count": null,
   "metadata": {},
   "outputs": [],
   "source": [
    "if __name__ == '__main__':\n",
    "    c1 = [DSAP107_grades, DSAP107_v_info, DSAP107_records, DSAP107_student_id]\n",
    "    c2 = [DSAP108_grades, DSAP108_v_info, DSAP108_records, DSAP108_student_id]\n",
    "    c3 = [OR107_grades, OR107_v_info, OR107_records, OR107_student_id]\n",
    "    courses = [c1, c2, c3]\n",
    "    \n",
    "    main(courses)"
   ]
  },
  {
   "cell_type": "code",
   "execution_count": null,
   "metadata": {},
   "outputs": [],
   "source": []
  }
 ],
 "metadata": {
  "kernelspec": {
   "display_name": "Python 3",
   "language": "python",
   "name": "python3"
  },
  "language_info": {
   "codemirror_mode": {
    "name": "ipython",
    "version": 3
   },
   "file_extension": ".py",
   "mimetype": "text/x-python",
   "name": "python",
   "nbconvert_exporter": "python",
   "pygments_lexer": "ipython3",
   "version": "3.6.10"
  }
 },
 "nbformat": 4,
 "nbformat_minor": 4
}
