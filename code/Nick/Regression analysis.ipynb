{
 "cells": [
  {
   "cell_type": "code",
   "execution_count": 1,
   "metadata": {},
   "outputs": [],
   "source": [
    "from matplotlib import pyplot as plt\n",
    "%matplotlib inline\n",
    "# 設定圖形大小; DPI越大圖越大\n",
    "plt.rcParams[\"figure.dpi\"] = 100\n",
    "import seaborn as sns\n",
    "\n",
    "import pandas as pd\n",
    "import numpy as np\n",
    "import scipy.stats as stats\n",
    "import statsmodels.api as sm\n",
    "import statsmodels.stats.api as sms\n",
    "import statsmodels.formula.api as smf\n",
    "import statsmodels.stats.multicomp as smm\n",
    "import statsmodels\n",
    "import statsmodels.stats.outliers_influence as sso"
   ]
  },
  {
   "cell_type": "code",
   "execution_count": 2,
   "metadata": {},
   "outputs": [],
   "source": [
    "def check_coef(df, threshold=0):\n",
    "    import seaborn as sns\n",
    "    df_coef = df.corr()\n",
    "    sns.heatmap(df.corr(), annot=True)\n",
    "    plt.show()"
   ]
  },
  {
   "cell_type": "code",
   "execution_count": 3,
   "metadata": {},
   "outputs": [],
   "source": [
    "def draw_simple_reg_line(df, x_labels, y_label):\n",
    "    #Do not plot confidence internval, for now. \n",
    "    for xi in x_labels:\n",
    "        _ = sns.regplot(x=xi, y= y_label, data = df, color = 'r', ci = None)\n",
    "        plt.show()"
   ]
  },
  {
   "cell_type": "code",
   "execution_count": 4,
   "metadata": {},
   "outputs": [],
   "source": [
    "def scatter_plot(df,x_label, y_label):\n",
    "    y = df[y_label].values\n",
    "    for xi in x_label:\n",
    "        x = df[xi].values\n",
    "        _ = plt.plot(x, y, 'o', color = 'b')\n",
    "        plt.xlabel(xi)\n",
    "        plt.ylabel(y_label)\n",
    "        plt.title(xi+\" to \"+y_label)\n",
    "        plt.show()"
   ]
  },
  {
   "cell_type": "code",
   "execution_count": 5,
   "metadata": {},
   "outputs": [],
   "source": [
    "# x_labels must be a list\n",
    "def linear_regression(df, x_labels, y_label):\n",
    "    x_param = ''\n",
    "    for x in x_labels:\n",
    "        x_param+=\"Q(\\\"{}\\\")+\".format(x)\n",
    "    x_param = x_param[:-1]\n",
    "    y_label  = \"Q(\\\"\"+y_label+\"\\\")\"\n",
    "    df1_result = smf.ols(y_label+\"~\"+x_param, data = df).fit()\n",
    "    print(df1_result.summary())\n",
    "    return df1_result"
   ]
  },
  {
   "cell_type": "code",
   "execution_count": 6,
   "metadata": {},
   "outputs": [],
   "source": [
    "def check_outlier(df, x_label, y_label, df1_result):\n",
    "    import statsmodels.stats.outliers_influence as sso\n",
    "\n",
    "    x = df[x_label].values\n",
    "    st, data, ss2 = sso.summary_table(df1_result, alpha=0.05)\n",
    "    y = data[:, 10]\n",
    "\n",
    "    plt.plot(x, y, 'o', color = 'gray')\n",
    "    plt.axhline(y=2, color = 'red')\n",
    "    plt.axhline(y=-2, color = 'red')\n",
    "    plt.show()\n",
    "    return st, data, ss2"
   ]
  },
  {
   "cell_type": "code",
   "execution_count": 7,
   "metadata": {},
   "outputs": [],
   "source": [
    "def check_influential_observ(df1, x_label, y_label, df1_result):\n",
    "    st, data, ss2 = sso.summary_table(df1_result, alpha=0.05)\n",
    "    x = df1[x_label].values\n",
    "    cook_dist = data[:, 11]\n",
    "    print(cook_dist)\n",
    "    plt.plot(x, cook_dist, 'o', color = 'gray')\n",
    "    plt.axhline(y=1, color=\"red\")\n",
    "    plt.show()"
   ]
  },
  {
   "cell_type": "code",
   "execution_count": 8,
   "metadata": {},
   "outputs": [],
   "source": [
    "def check_norm(resid, bins='auto'):\n",
    "    # Run Shapiro test\n",
    "    stat, p = stats.shapiro(resid)\n",
    "    print(f'Shapiro test: statistics = {stat:.4f}, p = {p:.4f}\\n')\n",
    "    \n",
    "    # Draw historgram\n",
    "    print('Histogram')\n",
    "    plt.hist(resid, bins=bins)\n",
    "    plt.show()\n",
    "    \n",
    "    # Draw QQ plot\n",
    "    print('QQ plot')\n",
    "    fig = sm.qqplot(resid, stats.norm, fit=True, line='45')\n",
    "    plt.show()"
   ]
  },
  {
   "cell_type": "code",
   "execution_count": 9,
   "metadata": {},
   "outputs": [],
   "source": [
    "def getEquation(df_result):\n",
    "    print(\"y = \",end=\"\")\n",
    "    text = ''\n",
    "    for name, coef in zip(df_result.params.index, df_result.params):\n",
    "        text+=\"{:.3f} * {} + \".format(coef, name)\n",
    "    text = text[:-2]\n",
    "    print(text)"
   ]
  },
  {
   "cell_type": "code",
   "execution_count": 10,
   "metadata": {},
   "outputs": [],
   "source": [
    "def reg_analysis(df, x_labels, y_label):\n",
    "    df.fillna(value=0, inplace=True)\n",
    "    display(df.describe())\n",
    "    check_coef(df[x_labels])\n",
    "    print(\"1 if larger than 0.5...\")\n",
    "    scatter_plot(df,x_labels, y_label)\n",
    "    df_result = linear_regression(df, x_labels, y_label)\n",
    "    getEquation(df_result)\n",
    "    print(\"Residual Test...\")\n",
    "    print(\"Normality\")\n",
    "    check_norm(df_result.resid_pearson)\n",
    "    print(\"Influential Observations\")\n",
    "    check_influential_observ(df, 'student_id', y_label, df_result)\n",
    "    print(\"Outliers\")\n",
    "    st, data, ss2 = check_outlier(df, 'student_id', y_label, df_result)\n",
    "    return st, data, ss2"
   ]
  },
  {
   "cell_type": "code",
   "execution_count": 11,
   "metadata": {},
   "outputs": [],
   "source": [
    "def _std_helper(df_col):\n",
    "    return (df_col - df_col.mean())/df_col.std()"
   ]
  },
  {
   "cell_type": "code",
   "execution_count": 12,
   "metadata": {},
   "outputs": [],
   "source": [
    "def _norm_helper(df_col):\n",
    "    return (df_col - df_col.min())/(df_col.max()-df_col.min())"
   ]
  },
  {
   "cell_type": "code",
   "execution_count": 13,
   "metadata": {},
   "outputs": [],
   "source": [
    "def standardize(df, x_labels):\n",
    "    for x_label in x_labels:\n",
    "        df[x_label] = _std_helper(df[x_label])\n",
    "    return df"
   ]
  },
  {
   "cell_type": "code",
   "execution_count": 14,
   "metadata": {},
   "outputs": [],
   "source": [
    "def normalize(df, x_labels):\n",
    "    for x_label in x_labels:\n",
    "        df[x_label] = _norm_helper(df[x_label])\n",
    "    return df"
   ]
  },
  {
   "cell_type": "code",
   "execution_count": 15,
   "metadata": {},
   "outputs": [],
   "source": [
    "#forward_selection(input_df = df18_6, depv = 'Score', indepv = ['Drive', 'Fair', 'Green', 'Putt', 'Sand'])\n",
    "def forward_selection(input_df, x_labels, y_label, VERBOSE=True):\n",
    "    selected = []\n",
    "    candidates = x_labels.copy()\n",
    "\n",
    "    best_adjr2 = -1\n",
    "    best_subset = []\n",
    "    while len(candidates) > 0:\n",
    "        if(VERBOSE):\n",
    "            print(\"Current Candidates: \", candidates)\n",
    "        tmp_indep_subset = []\n",
    "        tmp_model_adjr = []\n",
    "        tmp_model_nindep = []\n",
    "\n",
    "        for acandidate in candidates:\n",
    "            tmplist = selected.copy()\n",
    "            tmplist.append(acandidate)\n",
    "            \n",
    "            modelstr =  \"Q(\\\"{}\\\")\".format(y_label)+ \" ~ \" + \"+\".join([\"Q(\\\"{}\\\")\".format(x_label) for x_label in tmplist])\n",
    "            result6tmp = smf.ols(modelstr, data=input_df).fit()\n",
    "            #print(df18_result6tmp.summary())\n",
    "            tmp_indep_subset.append(tmplist)\n",
    "            tmp_model_adjr.append(result6tmp.rsquared_adj)\n",
    "            tmp_model_nindep.append(len(tmplist))\n",
    "        \n",
    "        #find the best element\n",
    "        tmp_adjr2 = np.array(tmp_model_adjr)\n",
    "        tmpind = tmp_adjr2.argmax()\n",
    "        this_adjr2 = tmp_adjr2[tmpind]\n",
    "        selected = tmp_indep_subset[tmpind]\n",
    "\n",
    "        if this_adjr2 <= 0:\n",
    "            raise(\"Encounterd negative Adj R2. Stop.\")\n",
    "        if(VERBOSE):\n",
    "            print(\"===============\")\n",
    "            print(\"Current best model: \", selected)\n",
    "            print(\"Current best AdjR2: \", this_adjr2)\n",
    "\n",
    "\n",
    "        if this_adjr2 > best_adjr2:\n",
    "            #print(\" best result updated\")\n",
    "            best_adjr2 = this_adjr2\n",
    "            best_subset = selected\n",
    "\n",
    "\n",
    "        candidates = set(candidates) - set(selected)\n",
    "        candidates = list(candidates)\n",
    "\n",
    "    #print out the best result\n",
    "    if(VERBOSE):\n",
    "        print(\"best_adjr2 = \", best_adjr2)\n",
    "        print(\"best_subset = \", best_subset)\n",
    "\n",
    "    #run the best model again\n",
    "    modelstr = \"Q(\\\"{}\\\")\".format(y_label) + \" ~ \" + \"+\".join([\"Q(\\\"{}\\\")\".format(x_label) for x_label in best_subset])\n",
    "    result6b = smf.ols(modelstr, data=input_df).fit()\n",
    "    \n",
    "    from statsmodels.stats.outliers_influence import variance_inflation_factor\n",
    "\n",
    "    variables = result6b.model.exog\n",
    "    vif = [variance_inflation_factor(variables, i) for i in range(variables.shape[1])]\n",
    "    \n",
    "    if(VERBOSE):\n",
    "        print(result6b.summary())\n",
    "    return best_adjr2, best_subset, vif"
   ]
  },
  {
   "cell_type": "markdown",
   "metadata": {},
   "source": [
    "## DSAP107"
   ]
  },
  {
   "cell_type": "code",
   "execution_count": 16,
   "metadata": {},
   "outputs": [],
   "source": [
    "DSAP107 = pd.read_excel('../../data/Semester weekly regression 2.0/DSAP107.xlsx')"
   ]
  },
  {
   "cell_type": "code",
   "execution_count": 17,
   "metadata": {},
   "outputs": [
    {
     "data": {
      "text/plain": [
       "105"
      ]
     },
     "execution_count": 17,
     "metadata": {},
     "output_type": "execute_result"
    }
   ],
   "source": [
    "len(DSAP107)"
   ]
  },
  {
   "cell_type": "code",
   "execution_count": 19,
   "metadata": {},
   "outputs": [
    {
     "data": {
      "text/plain": [
       "Index(['Unnamed: 0', 'student_id', 'Section', 'Homework 0 (1554)',\n",
       "       'Homework 1 (1475)', 'Homework 2 (1750)', 'Homework 3 (1808)',\n",
       "       'Homework 4 (1859)', 'Homework 5 (1954)', 'Homework 6 (2053)',\n",
       "       'Homework 7 (2129)', 'Homework8 (2232)', 'Quiz (1582)',\n",
       "       'Midterm (2042)', 'Final (2346)', 'total_watch_time', 'watch_freq',\n",
       "       'backward_sec', 'backward_times', 'forward_sec', 'forward_times',\n",
       "       'pause_freq', 'period 0', 'period 1', 'period 2', 'period 3',\n",
       "       'period 4', 'period 5', 'avg_playback_rate'],\n",
       "      dtype='object')"
      ]
     },
     "execution_count": 19,
     "metadata": {},
     "output_type": "execute_result"
    }
   ],
   "source": [
    "DSAP107.columns"
   ]
  },
  {
   "cell_type": "markdown",
   "metadata": {},
   "source": [
    "## Prepare Ys"
   ]
  },
  {
   "cell_type": "code",
   "execution_count": 20,
   "metadata": {},
   "outputs": [],
   "source": [
    "HW = ['Homework 0 (1554)',\n",
    "       'Homework 1 (1475)', 'Homework 2 (1750)', 'Homework 3 (1808)',\n",
    "       'Homework 4 (1859)', 'Homework 5 (1954)', 'Homework 6 (2053)',\n",
    "       'Homework 7 (2129)', 'Homework8 (2232)']\n",
    "\n",
    "DSAP107['HW_sum'] = 0\n",
    "for hw in HW:\n",
    "    DSAP107['HW_sum'] +=DSAP107[hw]\n",
    "DSAP107['HW_mean'] = DSAP107['HW_sum']/len(HW)\n",
    "DSAP107['midterm'] = DSAP107['Midterm (2042)']\n",
    "DSAP107['final'] = DSAP107['Final (2346)']"
   ]
  },
  {
   "cell_type": "markdown",
   "metadata": {},
   "source": [
    "## Subtract useful columns"
   ]
  },
  {
   "cell_type": "code",
   "execution_count": 21,
   "metadata": {},
   "outputs": [],
   "source": [
    "sub_cols = ['student_id','midterm', 'final', 'HW_mean', 'total_watch_time', 'watch_freq',\n",
    "       'backward_sec', 'backward_times', 'forward_sec', 'forward_times',\n",
    "       'pause_freq', 'period 0', 'period 1', 'period 2', 'period 3',\n",
    "       'period 4', 'period 5', 'avg_playback_rate']\n",
    "DSAP107_sub = DSAP107[sub_cols]"
   ]
  },
  {
   "cell_type": "markdown",
   "metadata": {},
   "source": [
    "# Preprocess"
   ]
  },
  {
   "cell_type": "markdown",
   "metadata": {},
   "source": [
    "### remove total_watch_time==0 "
   ]
  },
  {
   "cell_type": "code",
   "execution_count": 22,
   "metadata": {},
   "outputs": [
    {
     "data": {
      "text/html": [
       "<div>\n",
       "<style scoped>\n",
       "    .dataframe tbody tr th:only-of-type {\n",
       "        vertical-align: middle;\n",
       "    }\n",
       "\n",
       "    .dataframe tbody tr th {\n",
       "        vertical-align: top;\n",
       "    }\n",
       "\n",
       "    .dataframe thead th {\n",
       "        text-align: right;\n",
       "    }\n",
       "</style>\n",
       "<table border=\"1\" class=\"dataframe\">\n",
       "  <thead>\n",
       "    <tr style=\"text-align: right;\">\n",
       "      <th></th>\n",
       "      <th>student_id</th>\n",
       "      <th>midterm</th>\n",
       "      <th>final</th>\n",
       "      <th>HW_mean</th>\n",
       "      <th>total_watch_time</th>\n",
       "      <th>watch_freq</th>\n",
       "      <th>backward_sec</th>\n",
       "      <th>backward_times</th>\n",
       "      <th>forward_sec</th>\n",
       "      <th>forward_times</th>\n",
       "      <th>pause_freq</th>\n",
       "      <th>period 0</th>\n",
       "      <th>period 1</th>\n",
       "      <th>period 2</th>\n",
       "      <th>period 3</th>\n",
       "      <th>period 4</th>\n",
       "      <th>period 5</th>\n",
       "      <th>avg_playback_rate</th>\n",
       "    </tr>\n",
       "  </thead>\n",
       "  <tbody>\n",
       "    <tr>\n",
       "      <th>37</th>\n",
       "      <td>101</td>\n",
       "      <td>0</td>\n",
       "      <td>0.0</td>\n",
       "      <td>0.0</td>\n",
       "      <td>0.0</td>\n",
       "      <td>0.0</td>\n",
       "      <td>0</td>\n",
       "      <td>0</td>\n",
       "      <td>0</td>\n",
       "      <td>0</td>\n",
       "      <td>0</td>\n",
       "      <td>0.0</td>\n",
       "      <td>0.0</td>\n",
       "      <td>0.0</td>\n",
       "      <td>0.0</td>\n",
       "      <td>0.0</td>\n",
       "      <td>0.0</td>\n",
       "      <td>0.0</td>\n",
       "    </tr>\n",
       "    <tr>\n",
       "      <th>48</th>\n",
       "      <td>112</td>\n",
       "      <td>0</td>\n",
       "      <td>0.0</td>\n",
       "      <td>0.0</td>\n",
       "      <td>0.0</td>\n",
       "      <td>0.0</td>\n",
       "      <td>0</td>\n",
       "      <td>0</td>\n",
       "      <td>0</td>\n",
       "      <td>0</td>\n",
       "      <td>0</td>\n",
       "      <td>0.0</td>\n",
       "      <td>0.0</td>\n",
       "      <td>0.0</td>\n",
       "      <td>0.0</td>\n",
       "      <td>0.0</td>\n",
       "      <td>0.0</td>\n",
       "      <td>0.0</td>\n",
       "    </tr>\n",
       "    <tr>\n",
       "      <th>56</th>\n",
       "      <td>120</td>\n",
       "      <td>0</td>\n",
       "      <td>0.0</td>\n",
       "      <td>0.0</td>\n",
       "      <td>0.0</td>\n",
       "      <td>0.0</td>\n",
       "      <td>0</td>\n",
       "      <td>0</td>\n",
       "      <td>0</td>\n",
       "      <td>0</td>\n",
       "      <td>0</td>\n",
       "      <td>0.0</td>\n",
       "      <td>0.0</td>\n",
       "      <td>0.0</td>\n",
       "      <td>0.0</td>\n",
       "      <td>0.0</td>\n",
       "      <td>0.0</td>\n",
       "      <td>0.0</td>\n",
       "    </tr>\n",
       "    <tr>\n",
       "      <th>67</th>\n",
       "      <td>131</td>\n",
       "      <td>0</td>\n",
       "      <td>0.0</td>\n",
       "      <td>0.0</td>\n",
       "      <td>0.0</td>\n",
       "      <td>0.0</td>\n",
       "      <td>0</td>\n",
       "      <td>0</td>\n",
       "      <td>0</td>\n",
       "      <td>0</td>\n",
       "      <td>0</td>\n",
       "      <td>0.0</td>\n",
       "      <td>0.0</td>\n",
       "      <td>0.0</td>\n",
       "      <td>0.0</td>\n",
       "      <td>0.0</td>\n",
       "      <td>0.0</td>\n",
       "      <td>0.0</td>\n",
       "    </tr>\n",
       "    <tr>\n",
       "      <th>71</th>\n",
       "      <td>135</td>\n",
       "      <td>0</td>\n",
       "      <td>0.0</td>\n",
       "      <td>0.0</td>\n",
       "      <td>0.0</td>\n",
       "      <td>0.0</td>\n",
       "      <td>0</td>\n",
       "      <td>0</td>\n",
       "      <td>0</td>\n",
       "      <td>0</td>\n",
       "      <td>0</td>\n",
       "      <td>0.0</td>\n",
       "      <td>0.0</td>\n",
       "      <td>0.0</td>\n",
       "      <td>0.0</td>\n",
       "      <td>0.0</td>\n",
       "      <td>0.0</td>\n",
       "      <td>0.0</td>\n",
       "    </tr>\n",
       "    <tr>\n",
       "      <th>88</th>\n",
       "      <td>152</td>\n",
       "      <td>0</td>\n",
       "      <td>0.0</td>\n",
       "      <td>0.0</td>\n",
       "      <td>0.0</td>\n",
       "      <td>0.0</td>\n",
       "      <td>0</td>\n",
       "      <td>0</td>\n",
       "      <td>0</td>\n",
       "      <td>0</td>\n",
       "      <td>0</td>\n",
       "      <td>0.0</td>\n",
       "      <td>0.0</td>\n",
       "      <td>0.0</td>\n",
       "      <td>0.0</td>\n",
       "      <td>0.0</td>\n",
       "      <td>0.0</td>\n",
       "      <td>0.0</td>\n",
       "    </tr>\n",
       "  </tbody>\n",
       "</table>\n",
       "</div>"
      ],
      "text/plain": [
       "    student_id  midterm  final  HW_mean  total_watch_time  watch_freq  \\\n",
       "37         101        0    0.0      0.0               0.0         0.0   \n",
       "48         112        0    0.0      0.0               0.0         0.0   \n",
       "56         120        0    0.0      0.0               0.0         0.0   \n",
       "67         131        0    0.0      0.0               0.0         0.0   \n",
       "71         135        0    0.0      0.0               0.0         0.0   \n",
       "88         152        0    0.0      0.0               0.0         0.0   \n",
       "\n",
       "    backward_sec  backward_times  forward_sec  forward_times  pause_freq  \\\n",
       "37             0               0            0              0           0   \n",
       "48             0               0            0              0           0   \n",
       "56             0               0            0              0           0   \n",
       "67             0               0            0              0           0   \n",
       "71             0               0            0              0           0   \n",
       "88             0               0            0              0           0   \n",
       "\n",
       "    period 0  period 1  period 2  period 3  period 4  period 5  \\\n",
       "37       0.0       0.0       0.0       0.0       0.0       0.0   \n",
       "48       0.0       0.0       0.0       0.0       0.0       0.0   \n",
       "56       0.0       0.0       0.0       0.0       0.0       0.0   \n",
       "67       0.0       0.0       0.0       0.0       0.0       0.0   \n",
       "71       0.0       0.0       0.0       0.0       0.0       0.0   \n",
       "88       0.0       0.0       0.0       0.0       0.0       0.0   \n",
       "\n",
       "    avg_playback_rate  \n",
       "37                0.0  \n",
       "48                0.0  \n",
       "56                0.0  \n",
       "67                0.0  \n",
       "71                0.0  \n",
       "88                0.0  "
      ]
     },
     "execution_count": 22,
     "metadata": {},
     "output_type": "execute_result"
    }
   ],
   "source": [
    "DSAP107_sub[DSAP107_sub['total_watch_time']<=0]"
   ]
  },
  {
   "cell_type": "code",
   "execution_count": 23,
   "metadata": {},
   "outputs": [],
   "source": [
    "DSAP107_sub = DSAP107_sub[DSAP107_sub['total_watch_time']>0]"
   ]
  },
  {
   "cell_type": "code",
   "execution_count": 24,
   "metadata": {},
   "outputs": [
    {
     "data": {
      "text/plain": [
       "99"
      ]
     },
     "execution_count": 24,
     "metadata": {},
     "output_type": "execute_result"
    }
   ],
   "source": [
    "len(DSAP107_sub)"
   ]
  },
  {
   "cell_type": "markdown",
   "metadata": {},
   "source": [
    "## Defined Ys and Xs labels"
   ]
  },
  {
   "cell_type": "code",
   "execution_count": 25,
   "metadata": {},
   "outputs": [],
   "source": [
    "y_label_final = 'final'\n",
    "y_label_mid = 'midterm'\n",
    "y_label_hw = 'HW_mean'\n",
    "y_labels = [y_label_final, y_label_mid, y_label_hw]"
   ]
  },
  {
   "cell_type": "markdown",
   "metadata": {},
   "source": [
    "### basis Xs"
   ]
  },
  {
   "cell_type": "code",
   "execution_count": 26,
   "metadata": {},
   "outputs": [],
   "source": [
    "x_labels_basis = ['total_watch_time','avg_playback_rate']"
   ]
  },
  {
   "cell_type": "markdown",
   "metadata": {},
   "source": [
    "### collinear Xs"
   ]
  },
  {
   "cell_type": "code",
   "execution_count": 27,
   "metadata": {},
   "outputs": [],
   "source": [
    "x_label_actions = ['backward_times', 'forward_times','pause_freq', 'sum_action_times', 'backward_sec', 'forward_sec', 'sum_action_sec']"
   ]
  },
  {
   "cell_type": "markdown",
   "metadata": {},
   "source": [
    "### period Xs"
   ]
  },
  {
   "cell_type": "code",
   "execution_count": 30,
   "metadata": {},
   "outputs": [],
   "source": [
    "x_labels_period_sec = ['period {}'.format(i) for i in range(6)]\n",
    "x_labels_period_percent = ['period {}_p'.format(i) for i in range(6)]\n",
    "x_labels_period_type = ['period {}_type'.format(i) for i in range(6)]\n",
    "x_labels_period = [x_labels_period_sec, x_labels_period_percent, x_labels_period_type]"
   ]
  },
  {
   "cell_type": "code",
   "execution_count": 31,
   "metadata": {},
   "outputs": [],
   "source": [
    "x_labels_permutations = []\n",
    "for action_time in x_label_actions:\n",
    "    for period in x_labels_period:\n",
    "        x_labels_permutations.append(x_labels_basis+[action_time]+period)"
   ]
  },
  {
   "cell_type": "code",
   "execution_count": 32,
   "metadata": {},
   "outputs": [
    {
     "data": {
      "text/plain": [
       "21"
      ]
     },
     "execution_count": 32,
     "metadata": {},
     "output_type": "execute_result"
    }
   ],
   "source": [
    "len(x_labels_permutations)"
   ]
  },
  {
   "cell_type": "markdown",
   "metadata": {},
   "source": [
    "## Prepare Xs"
   ]
  },
  {
   "cell_type": "markdown",
   "metadata": {},
   "source": [
    "### calculate period percentage (x_labels_period_percent)"
   ]
  },
  {
   "cell_type": "code",
   "execution_count": 33,
   "metadata": {},
   "outputs": [],
   "source": [
    "for i in range(6):\n",
    "    DSAP107_sub.loc[:,'period '+str(i)+\"_p\"] = DSAP107_sub['period '+str(i)]/DSAP107_sub['total_watch_time']"
   ]
  },
  {
   "cell_type": "markdown",
   "metadata": {},
   "source": [
    "### calculate period type (x_labels_period_type)"
   ]
  },
  {
   "cell_type": "code",
   "execution_count": 34,
   "metadata": {},
   "outputs": [],
   "source": [
    "for i in range(6):\n",
    "    DSAP107_sub['period '+str(i)+'_type'] = [0 for i in range((DSAP107_sub.shape[0]))]\n",
    "    DSAP107_sub.loc[ (DSAP107_sub['period '+str(i)+\"_p\"]) > (DSAP107_sub.describe()['period '+str(i)+\"_p\"]['50%']), 'period '+str(i)+'_type'] = 1"
   ]
  },
  {
   "cell_type": "markdown",
   "metadata": {},
   "source": [
    "### add up all actions (x_label_actions_sec_sum and x_label_actions_times_sum)"
   ]
  },
  {
   "cell_type": "code",
   "execution_count": 35,
   "metadata": {},
   "outputs": [],
   "source": [
    "# DSAP107_sub.loc[:,'thinking_times'] = DSAP107_sub['backward_times']+DSAP107_sub['pause_freq']\n",
    "# DSAP107_sub.loc[:,'boring_times'] = DSAP107_sub['forward_times']+DSAP107_sub['pause_freq']\n",
    "DSAP107_sub.loc[:,'sum_action_times'] = DSAP107_sub['forward_times']+DSAP107_sub['backward_times']+DSAP107_sub['pause_freq']\n",
    "DSAP107_sub.loc[:,'sum_action_sec'] = DSAP107_sub['forward_sec']+DSAP107_sub['backward_sec']"
   ]
  },
  {
   "cell_type": "markdown",
   "metadata": {},
   "source": [
    "## Test Regression"
   ]
  },
  {
   "cell_type": "code",
   "execution_count": 36,
   "metadata": {},
   "outputs": [
    {
     "name": "stdout",
     "output_type": "stream",
     "text": [
      "There are 63 regression tests\n"
     ]
    }
   ],
   "source": [
    "print(\"There are {} regression tests\".format(len(y_labels)*len(x_labels_permutations)))"
   ]
  },
  {
   "cell_type": "code",
   "execution_count": 38,
   "metadata": {},
   "outputs": [
    {
     "name": "stdout",
     "output_type": "stream",
     "text": [
      "Current Y: final\n",
      "best_adjr2 =  0.43480748969625704\n",
      "best_subset =  ['total_watch_time', 'avg_playback_rate', 'period 4_p', 'backward_sec']\n",
      "best_vif =  [32.381811932127476, 1.8035779566280623, 1.064792185578849, 1.027930454383058, 1.8356940281872114]\n",
      "------------------------------------------------------------------------------------------------------------------------------------------------------\n",
      "Current Y: midterm\n",
      "best_adjr2 =  0.2943174869739147\n",
      "best_subset =  ['total_watch_time', 'avg_playback_rate', 'period 2_type']\n",
      "best_vif =  [30.108319307188808, 1.0859412639618806, 1.018557163003682, 1.1039627339289033]\n",
      "------------------------------------------------------------------------------------------------------------------------------------------------------\n",
      "Current Y: HW_mean\n",
      "best_adjr2 =  0.44518676993795014\n",
      "best_subset =  ['total_watch_time', 'avg_playback_rate', 'period 5_type', 'backward_sec']\n",
      "best_vif =  [33.44685933921371, 1.8060949594942728, 1.0440738544306427, 1.042169763374903, 1.8512598510973626]\n",
      "------------------------------------------------------------------------------------------------------------------------------------------------------\n"
     ]
    }
   ],
   "source": [
    "best_adj_lis=[]\n",
    "best_subset_lis = []\n",
    "best_vif_lis = []\n",
    "for y_label in y_labels:\n",
    "    current_best_adj = 0\n",
    "    current_best_subset = []\n",
    "    current_bes_vif = []\n",
    "    print(\"Current Y: {}\".format(y_label))\n",
    "    for x_labels in x_labels_permutations:\n",
    "        best_adjr2, best_subset, vif = forward_selection(DSAP107_sub, x_labels, y_label, False)\n",
    "        if(current_best_adj < best_adjr2):\n",
    "            current_best_adj = best_adjr2\n",
    "            current_best_subset = best_subset\n",
    "            current_bes_vif = vif\n",
    "    \n",
    "    best_adj_lis.append(current_best_adj)\n",
    "    best_subset_lis.append(current_best_subset)\n",
    "    best_vif_lis.append(best_vif_lis)\n",
    "    print(\"best_adjr2 = \", current_best_adj)\n",
    "    print(\"best_subset = \", current_best_subset)\n",
    "    print(\"best_vif = \", current_bes_vif)\n",
    "    print(\"------------------------------------------------------------------------------------------------------------------------------------------------------\")    "
   ]
  },
  {
   "cell_type": "code",
   "execution_count": 41,
   "metadata": {},
   "outputs": [
    {
     "name": "stdout",
     "output_type": "stream",
     "text": [
      "Y: final\n",
      "Xs: ['total_watch_time', 'avg_playback_rate', 'period 4_p', 'backward_sec']\n",
      "R_adj: 0.43480748969625704\n"
     ]
    },
    {
     "data": {
      "image/png": "[encoded data removed]",
      "text/plain": [
       "<Figure size 600x400 with 2 Axes>"
      ]
     },
     "metadata": {
      "needs_background": "light"
     },
     "output_type": "display_data"
    },
    {
     "name": "stdout",
     "output_type": "stream",
     "text": [
      "Y: midterm\n",
      "Xs: ['total_watch_time', 'avg_playback_rate', 'period 2_type']\n",
      "R_adj: 0.2943174869739147\n"
     ]
    },
    {
     "data": {
      "image/png": "[encoded data removed]",
      "text/plain": [
       "<Figure size 600x400 with 2 Axes>"
      ]
     },
     "metadata": {
      "needs_background": "light"
     },
     "output_type": "display_data"
    },
    {
     "name": "stdout",
     "output_type": "stream",
     "text": [
      "Y: HW_mean\n",
      "Xs: ['total_watch_time', 'avg_playback_rate', 'period 5_type', 'backward_sec']\n",
      "R_adj: 0.44518676993795014\n"
     ]
    },
    {
     "data": {
      "image/png": "[encoded data removed]",
      "text/plain": [
       "<Figure size 600x400 with 2 Axes>"
      ]
     },
     "metadata": {
      "needs_background": "light"
     },
     "output_type": "display_data"
    }
   ],
   "source": [
    "for i in range(len(y_labels)):\n",
    "    print(\"Y: {}\".format(y_labels[i]))\n",
    "    print(\"Xs: {}\".format(best_subset_lis[i]))\n",
    "    print(\"R_adj: {}\".format(best_adj_lis[i]))\n",
    "    check_coef(DSAP107_sub[[y_labels[i]]+best_subset_lis[i]])"
   ]
  },
  {
   "cell_type": "markdown",
   "metadata": {},
   "source": [
    "# 以下是舊進度"
   ]
  },
  {
   "cell_type": "markdown",
   "metadata": {},
   "source": [
    "******"
   ]
  },
  {
   "cell_type": "code",
   "execution_count": 96,
   "metadata": {
    "collapsed": true,
    "jupyter": {
     "outputs_hidden": true
    }
   },
   "outputs": [
    {
     "data": {
      "text/html": [
       "<div>\n",
       "<style scoped>\n",
       "    .dataframe tbody tr th:only-of-type {\n",
       "        vertical-align: middle;\n",
       "    }\n",
       "\n",
       "    .dataframe tbody tr th {\n",
       "        vertical-align: top;\n",
       "    }\n",
       "\n",
       "    .dataframe thead th {\n",
       "        text-align: right;\n",
       "    }\n",
       "</style>\n",
       "<table border=\"1\" class=\"dataframe\">\n",
       "  <thead>\n",
       "    <tr style=\"text-align: right;\">\n",
       "      <th></th>\n",
       "      <th>student_id</th>\n",
       "      <th>midterm</th>\n",
       "      <th>final</th>\n",
       "      <th>total_watch_time</th>\n",
       "      <th>watch_freq</th>\n",
       "      <th>backward_sec</th>\n",
       "      <th>backward_times</th>\n",
       "      <th>forward_sec</th>\n",
       "      <th>forward_times</th>\n",
       "      <th>pause_freq</th>\n",
       "      <th>period 0</th>\n",
       "      <th>period 1</th>\n",
       "      <th>period 2</th>\n",
       "      <th>period 3</th>\n",
       "      <th>period 4</th>\n",
       "      <th>period 5</th>\n",
       "      <th>avg_playback_rate</th>\n",
       "      <th>thinking_times</th>\n",
       "      <th>all_actions</th>\n",
       "    </tr>\n",
       "  </thead>\n",
       "  <tbody>\n",
       "    <tr>\n",
       "      <th>count</th>\n",
       "      <td>99.000000</td>\n",
       "      <td>99.000000</td>\n",
       "      <td>99.000000</td>\n",
       "      <td>99.000000</td>\n",
       "      <td>99.000000</td>\n",
       "      <td>99.000000</td>\n",
       "      <td>99.000000</td>\n",
       "      <td>99.000000</td>\n",
       "      <td>99.000000</td>\n",
       "      <td>99.000000</td>\n",
       "      <td>99.000000</td>\n",
       "      <td>99.000000</td>\n",
       "      <td>99.000000</td>\n",
       "      <td>99.000000</td>\n",
       "      <td>99.000000</td>\n",
       "      <td>99.000000</td>\n",
       "      <td>99.000000</td>\n",
       "      <td>99.000000</td>\n",
       "      <td>99.000000</td>\n",
       "    </tr>\n",
       "    <tr>\n",
       "      <th>mean</th>\n",
       "      <td>115.444444</td>\n",
       "      <td>50.737374</td>\n",
       "      <td>50.792929</td>\n",
       "      <td>19782.400120</td>\n",
       "      <td>0.842786</td>\n",
       "      <td>6496.010101</td>\n",
       "      <td>168.949495</td>\n",
       "      <td>6018.939394</td>\n",
       "      <td>241.808081</td>\n",
       "      <td>270.838384</td>\n",
       "      <td>0.158256</td>\n",
       "      <td>0.020499</td>\n",
       "      <td>0.097366</td>\n",
       "      <td>0.318966</td>\n",
       "      <td>0.206674</td>\n",
       "      <td>0.198238</td>\n",
       "      <td>1.523980</td>\n",
       "      <td>439.787879</td>\n",
       "      <td>681.595960</td>\n",
       "    </tr>\n",
       "    <tr>\n",
       "      <th>std</th>\n",
       "      <td>31.018501</td>\n",
       "      <td>40.677825</td>\n",
       "      <td>33.149246</td>\n",
       "      <td>11896.444354</td>\n",
       "      <td>0.483959</td>\n",
       "      <td>8362.678571</td>\n",
       "      <td>192.383512</td>\n",
       "      <td>7888.688435</td>\n",
       "      <td>403.309211</td>\n",
       "      <td>302.472488</td>\n",
       "      <td>0.183040</td>\n",
       "      <td>0.106119</td>\n",
       "      <td>0.127823</td>\n",
       "      <td>0.228651</td>\n",
       "      <td>0.152590</td>\n",
       "      <td>0.184034</td>\n",
       "      <td>0.299293</td>\n",
       "      <td>446.817597</td>\n",
       "      <td>813.828179</td>\n",
       "    </tr>\n",
       "    <tr>\n",
       "      <th>min</th>\n",
       "      <td>64.000000</td>\n",
       "      <td>0.000000</td>\n",
       "      <td>0.000000</td>\n",
       "      <td>1.000000</td>\n",
       "      <td>0.000049</td>\n",
       "      <td>0.000000</td>\n",
       "      <td>0.000000</td>\n",
       "      <td>0.000000</td>\n",
       "      <td>0.000000</td>\n",
       "      <td>1.000000</td>\n",
       "      <td>0.000000</td>\n",
       "      <td>0.000000</td>\n",
       "      <td>0.000000</td>\n",
       "      <td>0.000000</td>\n",
       "      <td>0.000000</td>\n",
       "      <td>0.000000</td>\n",
       "      <td>1.000000</td>\n",
       "      <td>1.000000</td>\n",
       "      <td>1.000000</td>\n",
       "    </tr>\n",
       "    <tr>\n",
       "      <th>25%</th>\n",
       "      <td>88.500000</td>\n",
       "      <td>0.000000</td>\n",
       "      <td>0.000000</td>\n",
       "      <td>13327.808333</td>\n",
       "      <td>0.626238</td>\n",
       "      <td>975.000000</td>\n",
       "      <td>32.000000</td>\n",
       "      <td>1134.500000</td>\n",
       "      <td>20.000000</td>\n",
       "      <td>82.500000</td>\n",
       "      <td>0.021742</td>\n",
       "      <td>0.000000</td>\n",
       "      <td>0.000000</td>\n",
       "      <td>0.172791</td>\n",
       "      <td>0.095914</td>\n",
       "      <td>0.066494</td>\n",
       "      <td>1.280673</td>\n",
       "      <td>134.000000</td>\n",
       "      <td>170.500000</td>\n",
       "    </tr>\n",
       "    <tr>\n",
       "      <th>50%</th>\n",
       "      <td>115.000000</td>\n",
       "      <td>74.000000</td>\n",
       "      <td>61.500000</td>\n",
       "      <td>19484.266667</td>\n",
       "      <td>0.875151</td>\n",
       "      <td>3965.000000</td>\n",
       "      <td>83.000000</td>\n",
       "      <td>2828.000000</td>\n",
       "      <td>80.000000</td>\n",
       "      <td>167.000000</td>\n",
       "      <td>0.098693</td>\n",
       "      <td>0.000000</td>\n",
       "      <td>0.049382</td>\n",
       "      <td>0.288328</td>\n",
       "      <td>0.204301</td>\n",
       "      <td>0.163837</td>\n",
       "      <td>1.493685</td>\n",
       "      <td>306.000000</td>\n",
       "      <td>436.000000</td>\n",
       "    </tr>\n",
       "    <tr>\n",
       "      <th>75%</th>\n",
       "      <td>142.500000</td>\n",
       "      <td>86.000000</td>\n",
       "      <td>77.000000</td>\n",
       "      <td>26655.741667</td>\n",
       "      <td>1.094102</td>\n",
       "      <td>9043.000000</td>\n",
       "      <td>250.500000</td>\n",
       "      <td>7180.500000</td>\n",
       "      <td>305.000000</td>\n",
       "      <td>352.500000</td>\n",
       "      <td>0.227235</td>\n",
       "      <td>0.000000</td>\n",
       "      <td>0.166718</td>\n",
       "      <td>0.410788</td>\n",
       "      <td>0.304145</td>\n",
       "      <td>0.284685</td>\n",
       "      <td>1.772643</td>\n",
       "      <td>637.500000</td>\n",
       "      <td>839.000000</td>\n",
       "    </tr>\n",
       "    <tr>\n",
       "      <th>max</th>\n",
       "      <td>168.000000</td>\n",
       "      <td>98.000000</td>\n",
       "      <td>91.500000</td>\n",
       "      <td>69769.233333</td>\n",
       "      <td>2.687745</td>\n",
       "      <td>47268.000000</td>\n",
       "      <td>869.000000</td>\n",
       "      <td>46298.000000</td>\n",
       "      <td>2353.000000</td>\n",
       "      <td>2282.000000</td>\n",
       "      <td>0.998600</td>\n",
       "      <td>1.000000</td>\n",
       "      <td>0.760000</td>\n",
       "      <td>1.000000</td>\n",
       "      <td>0.674660</td>\n",
       "      <td>0.991624</td>\n",
       "      <td>2.380491</td>\n",
       "      <td>2539.000000</td>\n",
       "      <td>4678.000000</td>\n",
       "    </tr>\n",
       "  </tbody>\n",
       "</table>\n",
       "</div>"
      ],
      "text/plain": [
       "       student_id    midterm      final  total_watch_time  watch_freq  \\\n",
       "count   99.000000  99.000000  99.000000         99.000000   99.000000   \n",
       "mean   115.444444  50.737374  50.792929      19782.400120    0.842786   \n",
       "std     31.018501  40.677825  33.149246      11896.444354    0.483959   \n",
       "min     64.000000   0.000000   0.000000          1.000000    0.000049   \n",
       "25%     88.500000   0.000000   0.000000      13327.808333    0.626238   \n",
       "50%    115.000000  74.000000  61.500000      19484.266667    0.875151   \n",
       "75%    142.500000  86.000000  77.000000      26655.741667    1.094102   \n",
       "max    168.000000  98.000000  91.500000      69769.233333    2.687745   \n",
       "\n",
       "       backward_sec  backward_times   forward_sec  forward_times   pause_freq  \\\n",
       "count     99.000000       99.000000     99.000000      99.000000    99.000000   \n",
       "mean    6496.010101      168.949495   6018.939394     241.808081   270.838384   \n",
       "std     8362.678571      192.383512   7888.688435     403.309211   302.472488   \n",
       "min        0.000000        0.000000      0.000000       0.000000     1.000000   \n",
       "25%      975.000000       32.000000   1134.500000      20.000000    82.500000   \n",
       "50%     3965.000000       83.000000   2828.000000      80.000000   167.000000   \n",
       "75%     9043.000000      250.500000   7180.500000     305.000000   352.500000   \n",
       "max    47268.000000      869.000000  46298.000000    2353.000000  2282.000000   \n",
       "\n",
       "        period 0   period 1   period 2   period 3   period 4   period 5  \\\n",
       "count  99.000000  99.000000  99.000000  99.000000  99.000000  99.000000   \n",
       "mean    0.158256   0.020499   0.097366   0.318966   0.206674   0.198238   \n",
       "std     0.183040   0.106119   0.127823   0.228651   0.152590   0.184034   \n",
       "min     0.000000   0.000000   0.000000   0.000000   0.000000   0.000000   \n",
       "25%     0.021742   0.000000   0.000000   0.172791   0.095914   0.066494   \n",
       "50%     0.098693   0.000000   0.049382   0.288328   0.204301   0.163837   \n",
       "75%     0.227235   0.000000   0.166718   0.410788   0.304145   0.284685   \n",
       "max     0.998600   1.000000   0.760000   1.000000   0.674660   0.991624   \n",
       "\n",
       "       avg_playback_rate  thinking_times  all_actions  \n",
       "count          99.000000       99.000000    99.000000  \n",
       "mean            1.523980      439.787879   681.595960  \n",
       "std             0.299293      446.817597   813.828179  \n",
       "min             1.000000        1.000000     1.000000  \n",
       "25%             1.280673      134.000000   170.500000  \n",
       "50%             1.493685      306.000000   436.000000  \n",
       "75%             1.772643      637.500000   839.000000  \n",
       "max             2.380491     2539.000000  4678.000000  "
      ]
     },
     "metadata": {},
     "output_type": "display_data"
    },
    {
     "name": "stdout",
     "output_type": "stream",
     "text": [
      "1 if larger than 0.5...\n"
     ]
    },
    {
     "data": {
      "image/png": "[encoded data removed]",
      "text/plain": [
       "<Figure size 600x400 with 2 Axes>"
      ]
     },
     "metadata": {
      "needs_background": "light"
     },
     "output_type": "display_data"
    },
    {
     "data": {
      "image/png": "[encoded data removed]",
      "text/plain": [
       "<Figure size 600x400 with 1 Axes>"
      ]
     },
     "metadata": {
      "needs_background": "light"
     },
     "output_type": "display_data"
    },
    {
     "data": {
      "image/png": "[encoded data removed]",
      "text/plain": [
       "<Figure size 600x400 with 1 Axes>"
      ]
     },
     "metadata": {
      "needs_background": "light"
     },
     "output_type": "display_data"
    },
    {
     "name": "stdout",
     "output_type": "stream",
     "text": [
      "                            OLS Regression Results                            \n",
      "==============================================================================\n",
      "Dep. Variable:             Q(\"final\")   R-squared:                       0.449\n",
      "Model:                            OLS   Adj. R-squared:                  0.432\n",
      "Method:                 Least Squares   F-statistic:                     25.81\n",
      "Date:                Tue, 16 Jun 2020   Prob (F-statistic):           2.69e-12\n",
      "Time:                        10:22:20   Log-Likelihood:                -457.07\n",
      "No. Observations:                  99   AIC:                             922.1\n",
      "Df Residuals:                      95   BIC:                             932.5\n",
      "Df Model:                           3                                         \n",
      "Covariance Type:            nonrobust                                         \n",
      "==========================================================================================\n",
      "                             coef    std err          t      P>|t|      [0.025      0.975]\n",
      "------------------------------------------------------------------------------------------\n",
      "Intercept                -34.9925     13.831     -2.530      0.013     -62.451      -7.534\n",
      "Q(\"total_watch_time\")      0.0016      0.000      7.537      0.000       0.001       0.002\n",
      "Q(\"avg_playback_rate\")    39.3534      8.538      4.609      0.000      22.404      56.303\n",
      "Q(\"period 4\")            -28.4280     16.770     -1.695      0.093     -61.721       4.865\n",
      "==============================================================================\n",
      "Omnibus:                        5.164   Durbin-Watson:                   1.863\n",
      "Prob(Omnibus):                  0.076   Jarque-Bera (JB):                4.461\n",
      "Skew:                          -0.431   Prob(JB):                        0.107\n",
      "Kurtosis:                       2.418   Cond. No.                     1.55e+05\n",
      "==============================================================================\n",
      "\n",
      "Warnings:\n",
      "[1] Standard Errors assume that the covariance matrix of the errors is correctly specified.\n",
      "[2] The condition number is large, 1.55e+05. This might indicate that there are\n",
      "strong multicollinearity or other numerical problems.\n",
      "y = -34.993 * Intercept + 0.002 * Q(\"total_watch_time\") + 39.353 * Q(\"avg_playback_rate\") + -28.428 * Q(\"period 4\") \n",
      "Residual Test...\n",
      "Normality\n",
      "Shapiro test: statistics = 0.9671, p = 0.0140\n",
      "\n",
      "Histogram\n"
     ]
    },
    {
     "data": {
      "image/png": "[encoded data removed]",
      "text/plain": [
       "<Figure size 600x400 with 1 Axes>"
      ]
     },
     "metadata": {
      "needs_background": "light"
     },
     "output_type": "display_data"
    },
    {
     "name": "stdout",
     "output_type": "stream",
     "text": [
      "QQ plot\n"
     ]
    },
    {
     "data": {
      "image/png": "[encoded data removed]",
      "text/plain": [
       "<Figure size 600x400 with 1 Axes>"
      ]
     },
     "metadata": {
      "needs_background": "light"
     },
     "output_type": "display_data"
    },
    {
     "name": "stdout",
     "output_type": "stream",
     "text": [
      "Influential Observations\n",
      "[9.44224125e-03 3.36387615e-03 6.23271568e-03 2.52952941e-03\n",
      " 7.21600702e-04 2.80038414e-02 2.20685570e-03 1.91204521e-02\n",
      " 9.25116743e-04 6.59737237e-03 5.95449348e-07 4.47508396e-03\n",
      " 7.88096058e-03 3.37886365e-03 1.53126753e-02 6.92375767e-03\n",
      " 1.10315882e-05 6.26841065e-03 7.18181193e-04 1.35095028e-02\n",
      " 2.56749173e-04 6.18747963e-04 1.05903054e-04 7.29595681e-04\n",
      " 4.07798773e-03 1.81379256e-02 1.58859617e-02 1.09068956e-02\n",
      " 6.97678659e-03 3.77600556e-03 9.27465509e-03 4.14511937e-04\n",
      " 1.17427482e-03 4.39856868e-03 3.99912207e-03 1.64390512e-03\n",
      " 4.15901123e-02 1.07691353e-02 3.55536503e-03 5.54920932e-02\n",
      " 9.01024979e-03 1.09147172e-02 9.28009972e-04 1.02119671e-02\n",
      " 7.04120061e-06 8.49134461e-03 3.14483967e-06 7.01542802e-04\n",
      " 3.32440910e-02 2.07908355e-02 3.14105277e-01 1.09559168e-04\n",
      " 1.43125154e-04 3.23461123e-04 1.53925235e-02 3.20585817e-02\n",
      " 1.76362727e-03 1.10770248e-02 1.66477910e-02 4.42097121e-02\n",
      " 5.80520630e-03 8.13013711e-04 3.19378650e-03 1.95741358e-02\n",
      " 1.47227962e-04 2.59246867e-02 4.06929575e-03 2.45303732e-02\n",
      " 5.22250071e-03 2.51167771e-03 8.28386709e-04 4.67134541e-03\n",
      " 3.05428940e-03 2.15184221e-03 2.64968872e-02 2.90799609e-05\n",
      " 4.08515401e-03 9.99372728e-03 3.00727297e-06 1.81442111e-04\n",
      " 7.23061598e-04 8.74579099e-03 8.05881807e-03 1.14149920e-02\n",
      " 1.13302128e-02 7.76513956e-03 6.37512860e-03 6.11861860e-03\n",
      " 7.26068906e-03 1.17981972e-04 9.64802221e-03 1.03569102e-02\n",
      " 1.80588280e-05 4.17112874e-03 6.21815325e-03 4.99426711e-03\n",
      " 1.79860518e-02 1.84630745e-04 3.17622275e-03]\n"
     ]
    },
    {
     "data": {
      "image/png": "[encoded data removed]",
      "text/plain": [
       "<Figure size 600x400 with 1 Axes>"
      ]
     },
     "metadata": {
      "needs_background": "light"
     },
     "output_type": "display_data"
    },
    {
     "name": "stdout",
     "output_type": "stream",
     "text": [
      "Outliers\n"
     ]
    },
    {
     "data": {
      "image/png": "[encoded data removed]",
      "text/plain": [
       "<Figure size 600x400 with 1 Axes>"
      ]
     },
     "metadata": {
      "needs_background": "light"
     },
     "output_type": "display_data"
    }
   ],
   "source": [
    "x_labels_best = ['total_watch_time', 'avg_playback_rate', 'period 5_type', 'backward_sec', 'forward_sec', 'pause_freq', 'backward_times', 'forward_times', 'period 3_type']\n",
    "st, data, ss2 = reg_analysis(DSAP107_sub, x_labels_best, y_label)"
   ]
  },
  {
   "cell_type": "markdown",
   "metadata": {},
   "source": [
    "## Standarized numbers"
   ]
  },
  {
   "cell_type": "code",
   "execution_count": 35,
   "metadata": {},
   "outputs": [],
   "source": [
    "DSAP107_sub = standardize(DSAP107_sub, x_labels)"
   ]
  },
  {
   "cell_type": "markdown",
   "metadata": {},
   "source": [
    "## Normalize numbers"
   ]
  },
  {
   "cell_type": "code",
   "execution_count": 54,
   "metadata": {},
   "outputs": [],
   "source": [
    "DSAP107_sub = normalize(DSAP107_sub, x_labels)"
   ]
  },
  {
   "cell_type": "code",
   "execution_count": 61,
   "metadata": {},
   "outputs": [],
   "source": [
    "DSAP107_sub['backward_sec'] = -DSAP107_sub['backward_sec']"
   ]
  },
  {
   "cell_type": "markdown",
   "metadata": {},
   "source": [
    "## Split students with zeros either in their midterm or final"
   ]
  },
  {
   "cell_type": "code",
   "execution_count": 80,
   "metadata": {},
   "outputs": [],
   "source": [
    "DSAP107_sub_dropzero = DSAP107_sub[ (DSAP107_sub['final'] !=0) & (DSAP107_sub['midterm'] !=0)]\n",
    "DSAP107_sub_zero = DSAP107_sub[ (DSAP107_sub['final'] ==0) | (DSAP107_sub['midterm'] ==0)]\n",
    "# DSAP107_sub_dropzero.reset_index(drop=True, inplace=True)"
   ]
  },
  {
   "cell_type": "markdown",
   "metadata": {},
   "source": [
    "## Check the outliers"
   ]
  },
  {
   "cell_type": "code",
   "execution_count": null,
   "metadata": {},
   "outputs": [],
   "source": [
    "outliers = pd.DataFrame(data[(abs(data[:,10]))>2])"
   ]
  },
  {
   "cell_type": "code",
   "execution_count": null,
   "metadata": {},
   "outputs": [],
   "source": [
    "outliers"
   ]
  },
  {
   "cell_type": "code",
   "execution_count": 354,
   "metadata": {
    "scrolled": true
   },
   "outputs": [
    {
     "data": {
      "text/html": [
       "<div>\n",
       "<style scoped>\n",
       "    .dataframe tbody tr th:only-of-type {\n",
       "        vertical-align: middle;\n",
       "    }\n",
       "\n",
       "    .dataframe tbody tr th {\n",
       "        vertical-align: top;\n",
       "    }\n",
       "\n",
       "    .dataframe thead th {\n",
       "        text-align: right;\n",
       "    }\n",
       "</style>\n",
       "<table border=\"1\" class=\"dataframe\">\n",
       "  <thead>\n",
       "    <tr style=\"text-align: right;\">\n",
       "      <th></th>\n",
       "      <th>student_id</th>\n",
       "      <th>Midterm (2042)</th>\n",
       "      <th>Final (2346)</th>\n",
       "      <th>total_watch_time</th>\n",
       "      <th>watch_freq</th>\n",
       "      <th>backward_sec</th>\n",
       "      <th>backward_times</th>\n",
       "      <th>forward_sec</th>\n",
       "      <th>forward_times</th>\n",
       "      <th>pause_freq</th>\n",
       "      <th>period 0</th>\n",
       "      <th>period 1</th>\n",
       "      <th>period 2</th>\n",
       "      <th>period 3</th>\n",
       "      <th>period 4</th>\n",
       "      <th>period 5</th>\n",
       "      <th>avg_playback_rate</th>\n",
       "    </tr>\n",
       "  </thead>\n",
       "  <tbody>\n",
       "    <tr>\n",
       "      <th>20.0</th>\n",
       "      <td>87</td>\n",
       "      <td>0</td>\n",
       "      <td>0.0</td>\n",
       "      <td>14.000000</td>\n",
       "      <td>0.002193</td>\n",
       "      <td>0</td>\n",
       "      <td>0</td>\n",
       "      <td>100</td>\n",
       "      <td>4</td>\n",
       "      <td>2</td>\n",
       "      <td>0.000000</td>\n",
       "      <td>1.0</td>\n",
       "      <td>0.000000</td>\n",
       "      <td>0.000000</td>\n",
       "      <td>0.000000</td>\n",
       "      <td>0.000000</td>\n",
       "      <td>1.000000</td>\n",
       "    </tr>\n",
       "    <tr>\n",
       "      <th>35.0</th>\n",
       "      <td>108</td>\n",
       "      <td>13</td>\n",
       "      <td>0.0</td>\n",
       "      <td>14514.733333</td>\n",
       "      <td>0.540704</td>\n",
       "      <td>5051</td>\n",
       "      <td>64</td>\n",
       "      <td>5789</td>\n",
       "      <td>357</td>\n",
       "      <td>138</td>\n",
       "      <td>0.074242</td>\n",
       "      <td>0.0</td>\n",
       "      <td>0.185526</td>\n",
       "      <td>0.286509</td>\n",
       "      <td>0.132178</td>\n",
       "      <td>0.321545</td>\n",
       "      <td>1.277874</td>\n",
       "    </tr>\n",
       "    <tr>\n",
       "      <th>44.0</th>\n",
       "      <td>117</td>\n",
       "      <td>87</td>\n",
       "      <td>57.0</td>\n",
       "      <td>14376.400000</td>\n",
       "      <td>0.768865</td>\n",
       "      <td>702</td>\n",
       "      <td>47</td>\n",
       "      <td>1332</td>\n",
       "      <td>21</td>\n",
       "      <td>125</td>\n",
       "      <td>0.163764</td>\n",
       "      <td>0.0</td>\n",
       "      <td>0.251303</td>\n",
       "      <td>0.356077</td>\n",
       "      <td>0.101252</td>\n",
       "      <td>0.127605</td>\n",
       "      <td>1.893729</td>\n",
       "    </tr>\n",
       "    <tr>\n",
       "      <th>50.0</th>\n",
       "      <td>126</td>\n",
       "      <td>0</td>\n",
       "      <td>0.0</td>\n",
       "      <td>2638.500000</td>\n",
       "      <td>0.167370</td>\n",
       "      <td>27</td>\n",
       "      <td>1</td>\n",
       "      <td>0</td>\n",
       "      <td>0</td>\n",
       "      <td>12</td>\n",
       "      <td>0.461626</td>\n",
       "      <td>0.0</td>\n",
       "      <td>0.000000</td>\n",
       "      <td>0.000000</td>\n",
       "      <td>0.485882</td>\n",
       "      <td>0.052492</td>\n",
       "      <td>1.977639</td>\n",
       "    </tr>\n",
       "  </tbody>\n",
       "</table>\n",
       "</div>"
      ],
      "text/plain": [
       "      student_id  Midterm (2042)  Final (2346)  total_watch_time  watch_freq  \\\n",
       "20.0          87               0           0.0         14.000000    0.002193   \n",
       "35.0         108              13           0.0      14514.733333    0.540704   \n",
       "44.0         117              87          57.0      14376.400000    0.768865   \n",
       "50.0         126               0           0.0       2638.500000    0.167370   \n",
       "\n",
       "      backward_sec  backward_times  forward_sec  forward_times  pause_freq  \\\n",
       "20.0             0               0          100              4           2   \n",
       "35.0          5051              64         5789            357         138   \n",
       "44.0           702              47         1332             21         125   \n",
       "50.0            27               1            0              0          12   \n",
       "\n",
       "      period 0  period 1  period 2  period 3  period 4  period 5  \\\n",
       "20.0  0.000000       1.0  0.000000  0.000000  0.000000  0.000000   \n",
       "35.0  0.074242       0.0  0.185526  0.286509  0.132178  0.321545   \n",
       "44.0  0.163764       0.0  0.251303  0.356077  0.101252  0.127605   \n",
       "50.0  0.461626       0.0  0.000000  0.000000  0.485882  0.052492   \n",
       "\n",
       "      avg_playback_rate  \n",
       "20.0           1.000000  \n",
       "35.0           1.277874  \n",
       "44.0           1.893729  \n",
       "50.0           1.977639  "
      ]
     },
     "execution_count": 354,
     "metadata": {},
     "output_type": "execute_result"
    }
   ],
   "source": [
    "DSAP107_sub.loc[list(outliers[0])]"
   ]
  },
  {
   "cell_type": "markdown",
   "metadata": {},
   "source": [
    "## check influential observations"
   ]
  },
  {
   "cell_type": "code",
   "execution_count": 355,
   "metadata": {},
   "outputs": [],
   "source": [
    "influ_obs = pd.DataFrame(data[ (abs(data[:,11]))>1])"
   ]
  },
  {
   "cell_type": "code",
   "execution_count": 356,
   "metadata": {},
   "outputs": [
    {
     "data": {
      "text/html": [
       "<div>\n",
       "<style scoped>\n",
       "    .dataframe tbody tr th:only-of-type {\n",
       "        vertical-align: middle;\n",
       "    }\n",
       "\n",
       "    .dataframe tbody tr th {\n",
       "        vertical-align: top;\n",
       "    }\n",
       "\n",
       "    .dataframe thead th {\n",
       "        text-align: right;\n",
       "    }\n",
       "</style>\n",
       "<table border=\"1\" class=\"dataframe\">\n",
       "  <thead>\n",
       "    <tr style=\"text-align: right;\">\n",
       "      <th></th>\n",
       "      <th>0</th>\n",
       "      <th>1</th>\n",
       "      <th>2</th>\n",
       "      <th>3</th>\n",
       "      <th>4</th>\n",
       "      <th>5</th>\n",
       "      <th>6</th>\n",
       "      <th>7</th>\n",
       "      <th>8</th>\n",
       "      <th>9</th>\n",
       "      <th>10</th>\n",
       "      <th>11</th>\n",
       "    </tr>\n",
       "  </thead>\n",
       "  <tbody>\n",
       "    <tr>\n",
       "      <th>0</th>\n",
       "      <td>21.0</td>\n",
       "      <td>0.0</td>\n",
       "      <td>11.506457</td>\n",
       "      <td>23.354519</td>\n",
       "      <td>-34.96171</td>\n",
       "      <td>57.974624</td>\n",
       "      <td>-56.200761</td>\n",
       "      <td>79.213675</td>\n",
       "      <td>-11.506457</td>\n",
       "      <td>8.192188</td>\n",
       "      <td>-1.404565</td>\n",
       "      <td>1.336116</td>\n",
       "    </tr>\n",
       "  </tbody>\n",
       "</table>\n",
       "</div>"
      ],
      "text/plain": [
       "      0    1          2          3         4          5          6          7  \\\n",
       "0  21.0  0.0  11.506457  23.354519 -34.96171  57.974624 -56.200761  79.213675   \n",
       "\n",
       "           8         9        10        11  \n",
       "0 -11.506457  8.192188 -1.404565  1.336116  "
      ]
     },
     "execution_count": 356,
     "metadata": {},
     "output_type": "execute_result"
    }
   ],
   "source": [
    "influ_obs"
   ]
  },
  {
   "cell_type": "code",
   "execution_count": 357,
   "metadata": {},
   "outputs": [
    {
     "data": {
      "text/html": [
       "<div>\n",
       "<style scoped>\n",
       "    .dataframe tbody tr th:only-of-type {\n",
       "        vertical-align: middle;\n",
       "    }\n",
       "\n",
       "    .dataframe tbody tr th {\n",
       "        vertical-align: top;\n",
       "    }\n",
       "\n",
       "    .dataframe thead th {\n",
       "        text-align: right;\n",
       "    }\n",
       "</style>\n",
       "<table border=\"1\" class=\"dataframe\">\n",
       "  <thead>\n",
       "    <tr style=\"text-align: right;\">\n",
       "      <th></th>\n",
       "      <th>0</th>\n",
       "      <th>1</th>\n",
       "      <th>2</th>\n",
       "      <th>3</th>\n",
       "      <th>4</th>\n",
       "      <th>5</th>\n",
       "      <th>6</th>\n",
       "      <th>7</th>\n",
       "      <th>8</th>\n",
       "      <th>9</th>\n",
       "      <th>10</th>\n",
       "      <th>11</th>\n",
       "    </tr>\n",
       "  </thead>\n",
       "  <tbody>\n",
       "    <tr>\n",
       "      <th>0</th>\n",
       "      <td>21.0</td>\n",
       "      <td>0.0</td>\n",
       "      <td>11.506457</td>\n",
       "      <td>23.354519</td>\n",
       "      <td>-34.96171</td>\n",
       "      <td>57.974624</td>\n",
       "      <td>-56.200761</td>\n",
       "      <td>79.213675</td>\n",
       "      <td>-11.506457</td>\n",
       "      <td>8.192188</td>\n",
       "      <td>-1.404565</td>\n",
       "      <td>1.336116</td>\n",
       "    </tr>\n",
       "  </tbody>\n",
       "</table>\n",
       "</div>"
      ],
      "text/plain": [
       "      0    1          2          3         4          5          6          7  \\\n",
       "0  21.0  0.0  11.506457  23.354519 -34.96171  57.974624 -56.200761  79.213675   \n",
       "\n",
       "           8         9        10        11  \n",
       "0 -11.506457  8.192188 -1.404565  1.336116  "
      ]
     },
     "execution_count": 357,
     "metadata": {},
     "output_type": "execute_result"
    }
   ],
   "source": [
    "influ_obs"
   ]
  },
  {
   "cell_type": "code",
   "execution_count": 358,
   "metadata": {},
   "outputs": [
    {
     "data": {
      "text/html": [
       "<div>\n",
       "<style scoped>\n",
       "    .dataframe tbody tr th:only-of-type {\n",
       "        vertical-align: middle;\n",
       "    }\n",
       "\n",
       "    .dataframe tbody tr th {\n",
       "        vertical-align: top;\n",
       "    }\n",
       "\n",
       "    .dataframe thead th {\n",
       "        text-align: right;\n",
       "    }\n",
       "</style>\n",
       "<table border=\"1\" class=\"dataframe\">\n",
       "  <thead>\n",
       "    <tr style=\"text-align: right;\">\n",
       "      <th></th>\n",
       "      <th>student_id</th>\n",
       "      <th>Midterm (2042)</th>\n",
       "      <th>Final (2346)</th>\n",
       "      <th>total_watch_time</th>\n",
       "      <th>watch_freq</th>\n",
       "      <th>backward_sec</th>\n",
       "      <th>backward_times</th>\n",
       "      <th>forward_sec</th>\n",
       "      <th>forward_times</th>\n",
       "      <th>pause_freq</th>\n",
       "      <th>period 0</th>\n",
       "      <th>period 1</th>\n",
       "      <th>period 2</th>\n",
       "      <th>period 3</th>\n",
       "      <th>period 4</th>\n",
       "      <th>period 5</th>\n",
       "      <th>avg_playback_rate</th>\n",
       "    </tr>\n",
       "  </thead>\n",
       "  <tbody>\n",
       "    <tr>\n",
       "      <th>21.0</th>\n",
       "      <td>91</td>\n",
       "      <td>0</td>\n",
       "      <td>0.0</td>\n",
       "      <td>3111.05</td>\n",
       "      <td>0.11756</td>\n",
       "      <td>686</td>\n",
       "      <td>40</td>\n",
       "      <td>753</td>\n",
       "      <td>90</td>\n",
       "      <td>41</td>\n",
       "      <td>0.148653</td>\n",
       "      <td>0.0</td>\n",
       "      <td>0.0</td>\n",
       "      <td>0.0</td>\n",
       "      <td>0.0</td>\n",
       "      <td>0.851347</td>\n",
       "      <td>1.332348</td>\n",
       "    </tr>\n",
       "  </tbody>\n",
       "</table>\n",
       "</div>"
      ],
      "text/plain": [
       "      student_id  Midterm (2042)  Final (2346)  total_watch_time  watch_freq  \\\n",
       "21.0          91               0           0.0           3111.05     0.11756   \n",
       "\n",
       "      backward_sec  backward_times  forward_sec  forward_times  pause_freq  \\\n",
       "21.0           686              40          753             90          41   \n",
       "\n",
       "      period 0  period 1  period 2  period 3  period 4  period 5  \\\n",
       "21.0  0.148653       0.0       0.0       0.0       0.0  0.851347   \n",
       "\n",
       "      avg_playback_rate  \n",
       "21.0           1.332348  "
      ]
     },
     "execution_count": 358,
     "metadata": {},
     "output_type": "execute_result"
    }
   ],
   "source": [
    "DSAP107_sub.loc[list(influ_obs[0])]"
   ]
  },
  {
   "cell_type": "markdown",
   "metadata": {},
   "source": [
    "## Extract outliers and influential data"
   ]
  },
  {
   "cell_type": "code",
   "execution_count": 359,
   "metadata": {
    "scrolled": true
   },
   "outputs": [
    {
     "data": {
      "text/html": [
       "<div>\n",
       "<style scoped>\n",
       "    .dataframe tbody tr th:only-of-type {\n",
       "        vertical-align: middle;\n",
       "    }\n",
       "\n",
       "    .dataframe tbody tr th {\n",
       "        vertical-align: top;\n",
       "    }\n",
       "\n",
       "    .dataframe thead th {\n",
       "        text-align: right;\n",
       "    }\n",
       "</style>\n",
       "<table border=\"1\" class=\"dataframe\">\n",
       "  <thead>\n",
       "    <tr style=\"text-align: right;\">\n",
       "      <th></th>\n",
       "      <th>student_id</th>\n",
       "      <th>Midterm (2042)</th>\n",
       "      <th>Final (2346)</th>\n",
       "      <th>total_watch_time</th>\n",
       "      <th>watch_freq</th>\n",
       "      <th>backward_sec</th>\n",
       "      <th>backward_times</th>\n",
       "      <th>forward_sec</th>\n",
       "      <th>forward_times</th>\n",
       "      <th>pause_freq</th>\n",
       "      <th>period 0</th>\n",
       "      <th>period 1</th>\n",
       "      <th>period 2</th>\n",
       "      <th>period 3</th>\n",
       "      <th>period 4</th>\n",
       "      <th>period 5</th>\n",
       "      <th>avg_playback_rate</th>\n",
       "    </tr>\n",
       "  </thead>\n",
       "  <tbody>\n",
       "    <tr>\n",
       "      <th>20.0</th>\n",
       "      <td>87</td>\n",
       "      <td>0</td>\n",
       "      <td>0.0</td>\n",
       "      <td>14.000000</td>\n",
       "      <td>0.002193</td>\n",
       "      <td>0</td>\n",
       "      <td>0</td>\n",
       "      <td>100</td>\n",
       "      <td>4</td>\n",
       "      <td>2</td>\n",
       "      <td>0.000000</td>\n",
       "      <td>1.0</td>\n",
       "      <td>0.000000</td>\n",
       "      <td>0.000000</td>\n",
       "      <td>0.000000</td>\n",
       "      <td>0.000000</td>\n",
       "      <td>1.000000</td>\n",
       "    </tr>\n",
       "    <tr>\n",
       "      <th>35.0</th>\n",
       "      <td>108</td>\n",
       "      <td>13</td>\n",
       "      <td>0.0</td>\n",
       "      <td>14514.733333</td>\n",
       "      <td>0.540704</td>\n",
       "      <td>5051</td>\n",
       "      <td>64</td>\n",
       "      <td>5789</td>\n",
       "      <td>357</td>\n",
       "      <td>138</td>\n",
       "      <td>0.074242</td>\n",
       "      <td>0.0</td>\n",
       "      <td>0.185526</td>\n",
       "      <td>0.286509</td>\n",
       "      <td>0.132178</td>\n",
       "      <td>0.321545</td>\n",
       "      <td>1.277874</td>\n",
       "    </tr>\n",
       "    <tr>\n",
       "      <th>44.0</th>\n",
       "      <td>117</td>\n",
       "      <td>87</td>\n",
       "      <td>57.0</td>\n",
       "      <td>14376.400000</td>\n",
       "      <td>0.768865</td>\n",
       "      <td>702</td>\n",
       "      <td>47</td>\n",
       "      <td>1332</td>\n",
       "      <td>21</td>\n",
       "      <td>125</td>\n",
       "      <td>0.163764</td>\n",
       "      <td>0.0</td>\n",
       "      <td>0.251303</td>\n",
       "      <td>0.356077</td>\n",
       "      <td>0.101252</td>\n",
       "      <td>0.127605</td>\n",
       "      <td>1.893729</td>\n",
       "    </tr>\n",
       "    <tr>\n",
       "      <th>50.0</th>\n",
       "      <td>126</td>\n",
       "      <td>0</td>\n",
       "      <td>0.0</td>\n",
       "      <td>2638.500000</td>\n",
       "      <td>0.167370</td>\n",
       "      <td>27</td>\n",
       "      <td>1</td>\n",
       "      <td>0</td>\n",
       "      <td>0</td>\n",
       "      <td>12</td>\n",
       "      <td>0.461626</td>\n",
       "      <td>0.0</td>\n",
       "      <td>0.000000</td>\n",
       "      <td>0.000000</td>\n",
       "      <td>0.485882</td>\n",
       "      <td>0.052492</td>\n",
       "      <td>1.977639</td>\n",
       "    </tr>\n",
       "    <tr>\n",
       "      <th>21.0</th>\n",
       "      <td>91</td>\n",
       "      <td>0</td>\n",
       "      <td>0.0</td>\n",
       "      <td>3111.050000</td>\n",
       "      <td>0.117560</td>\n",
       "      <td>686</td>\n",
       "      <td>40</td>\n",
       "      <td>753</td>\n",
       "      <td>90</td>\n",
       "      <td>41</td>\n",
       "      <td>0.148653</td>\n",
       "      <td>0.0</td>\n",
       "      <td>0.000000</td>\n",
       "      <td>0.000000</td>\n",
       "      <td>0.000000</td>\n",
       "      <td>0.851347</td>\n",
       "      <td>1.332348</td>\n",
       "    </tr>\n",
       "  </tbody>\n",
       "</table>\n",
       "</div>"
      ],
      "text/plain": [
       "      student_id  Midterm (2042)  Final (2346)  total_watch_time  watch_freq  \\\n",
       "20.0          87               0           0.0         14.000000    0.002193   \n",
       "35.0         108              13           0.0      14514.733333    0.540704   \n",
       "44.0         117              87          57.0      14376.400000    0.768865   \n",
       "50.0         126               0           0.0       2638.500000    0.167370   \n",
       "21.0          91               0           0.0       3111.050000    0.117560   \n",
       "\n",
       "      backward_sec  backward_times  forward_sec  forward_times  pause_freq  \\\n",
       "20.0             0               0          100              4           2   \n",
       "35.0          5051              64         5789            357         138   \n",
       "44.0           702              47         1332             21         125   \n",
       "50.0            27               1            0              0          12   \n",
       "21.0           686              40          753             90          41   \n",
       "\n",
       "      period 0  period 1  period 2  period 3  period 4  period 5  \\\n",
       "20.0  0.000000       1.0  0.000000  0.000000  0.000000  0.000000   \n",
       "35.0  0.074242       0.0  0.185526  0.286509  0.132178  0.321545   \n",
       "44.0  0.163764       0.0  0.251303  0.356077  0.101252  0.127605   \n",
       "50.0  0.461626       0.0  0.000000  0.000000  0.485882  0.052492   \n",
       "21.0  0.148653       0.0  0.000000  0.000000  0.000000  0.851347   \n",
       "\n",
       "      avg_playback_rate  \n",
       "20.0           1.000000  \n",
       "35.0           1.277874  \n",
       "44.0           1.893729  \n",
       "50.0           1.977639  \n",
       "21.0           1.332348  "
      ]
     },
     "execution_count": 359,
     "metadata": {},
     "output_type": "execute_result"
    }
   ],
   "source": [
    "DSAP107_sub.loc[list(outliers[0])+list(influ_obs[0])]"
   ]
  },
  {
   "cell_type": "code",
   "execution_count": 360,
   "metadata": {},
   "outputs": [
    {
     "data": {
      "text/plain": [
       "20.0     87\n",
       "35.0    108\n",
       "44.0    117\n",
       "50.0    126\n",
       "21.0     91\n",
       "Name: student_id, dtype: int64"
      ]
     },
     "execution_count": 360,
     "metadata": {},
     "output_type": "execute_result"
    }
   ],
   "source": [
    "DSAP107_sub.loc[list(outliers[0])+list(influ_obs[0])]['student_id']"
   ]
  },
  {
   "cell_type": "code",
   "execution_count": 361,
   "metadata": {},
   "outputs": [],
   "source": [
    "DSAP107_sub = DSAP107_sub[~DSAP107_sub.index.isin(list(outliers[0])+list(influ_obs[0]))]"
   ]
  },
  {
   "cell_type": "code",
   "execution_count": 362,
   "metadata": {},
   "outputs": [],
   "source": [
    "DSAP107_sub.reset_index(drop=True, inplace=True)"
   ]
  },
  {
   "cell_type": "code",
   "execution_count": 363,
   "metadata": {},
   "outputs": [
    {
     "data": {
      "text/plain": [
       "88"
      ]
     },
     "execution_count": 363,
     "metadata": {},
     "output_type": "execute_result"
    }
   ],
   "source": [
    "len(DSAP107_sub)"
   ]
  },
  {
   "cell_type": "markdown",
   "metadata": {},
   "source": [
    "******"
   ]
  },
  {
   "cell_type": "markdown",
   "metadata": {},
   "source": [
    "## OR107"
   ]
  },
  {
   "cell_type": "code",
   "execution_count": 12,
   "metadata": {},
   "outputs": [
    {
     "ename": "NameError",
     "evalue": "name 'OR107' is not defined",
     "output_type": "error",
     "traceback": [
      "\u001b[0;31m---------------------------------------------------------------------------\u001b[0m",
      "\u001b[0;31mNameError\u001b[0m                                 Traceback (most recent call last)",
      "\u001b[0;32m<ipython-input-12-2ebb484f988a>\u001b[0m in \u001b[0;36m<module>\u001b[0;34m\u001b[0m\n\u001b[0;32m----> 1\u001b[0;31m \u001b[0mOR107\u001b[0m\u001b[0;34m.\u001b[0m\u001b[0mcolumns\u001b[0m\u001b[0;34m\u001b[0m\u001b[0;34m\u001b[0m\u001b[0m\n\u001b[0m",
      "\u001b[0;31mNameError\u001b[0m: name 'OR107' is not defined"
     ]
    }
   ],
   "source": [
    "OR107.columns"
   ]
  },
  {
   "cell_type": "code",
   "execution_count": null,
   "metadata": {
    "scrolled": true
   },
   "outputs": [],
   "source": [
    "x_labels = list(OR107.columns[3:])\n",
    "y_label = \"final\"\n",
    "st, data, ss2 = reg_analysis(OR107, x_labels, y_label)"
   ]
  },
  {
   "cell_type": "code",
   "execution_count": null,
   "metadata": {},
   "outputs": [],
   "source": [
    "pd.DataFrame(columns=ss2)"
   ]
  },
  {
   "cell_type": "markdown",
   "metadata": {},
   "source": [
    "## Check the outliers"
   ]
  },
  {
   "cell_type": "code",
   "execution_count": 371,
   "metadata": {},
   "outputs": [],
   "source": [
    "outliers = pd.DataFrame(data[ (abs(data[:,10]))>2])"
   ]
  },
  {
   "cell_type": "code",
   "execution_count": 372,
   "metadata": {},
   "outputs": [
    {
     "data": {
      "text/html": [
       "<div>\n",
       "<style scoped>\n",
       "    .dataframe tbody tr th:only-of-type {\n",
       "        vertical-align: middle;\n",
       "    }\n",
       "\n",
       "    .dataframe tbody tr th {\n",
       "        vertical-align: top;\n",
       "    }\n",
       "\n",
       "    .dataframe thead th {\n",
       "        text-align: right;\n",
       "    }\n",
       "</style>\n",
       "<table border=\"1\" class=\"dataframe\">\n",
       "  <thead>\n",
       "    <tr style=\"text-align: right;\">\n",
       "      <th></th>\n",
       "      <th>0</th>\n",
       "      <th>1</th>\n",
       "      <th>2</th>\n",
       "      <th>3</th>\n",
       "      <th>4</th>\n",
       "      <th>5</th>\n",
       "      <th>6</th>\n",
       "      <th>7</th>\n",
       "      <th>8</th>\n",
       "      <th>9</th>\n",
       "      <th>10</th>\n",
       "      <th>11</th>\n",
       "    </tr>\n",
       "  </thead>\n",
       "  <tbody>\n",
       "    <tr>\n",
       "      <th>0</th>\n",
       "      <td>49.0</td>\n",
       "      <td>30.0</td>\n",
       "      <td>89.456950</td>\n",
       "      <td>14.935340</td>\n",
       "      <td>59.697636</td>\n",
       "      <td>119.216264</td>\n",
       "      <td>27.526030</td>\n",
       "      <td>151.387870</td>\n",
       "      <td>-59.456950</td>\n",
       "      <td>22.801774</td>\n",
       "      <td>-2.607558</td>\n",
       "      <td>0.324129</td>\n",
       "    </tr>\n",
       "    <tr>\n",
       "      <th>1</th>\n",
       "      <td>59.0</td>\n",
       "      <td>76.0</td>\n",
       "      <td>22.588566</td>\n",
       "      <td>5.623666</td>\n",
       "      <td>11.383167</td>\n",
       "      <td>33.793965</td>\n",
       "      <td>-32.867570</td>\n",
       "      <td>78.044702</td>\n",
       "      <td>53.411434</td>\n",
       "      <td>26.671326</td>\n",
       "      <td>2.002579</td>\n",
       "      <td>0.019810</td>\n",
       "    </tr>\n",
       "    <tr>\n",
       "      <th>2</th>\n",
       "      <td>67.0</td>\n",
       "      <td>96.0</td>\n",
       "      <td>30.491686</td>\n",
       "      <td>6.545707</td>\n",
       "      <td>17.449080</td>\n",
       "      <td>43.534292</td>\n",
       "      <td>-25.364662</td>\n",
       "      <td>86.348035</td>\n",
       "      <td>65.508314</td>\n",
       "      <td>26.460139</td>\n",
       "      <td>2.475736</td>\n",
       "      <td>0.041677</td>\n",
       "    </tr>\n",
       "  </tbody>\n",
       "</table>\n",
       "</div>"
      ],
      "text/plain": [
       "      0     1          2          3          4           5          6  \\\n",
       "0  49.0  30.0  89.456950  14.935340  59.697636  119.216264  27.526030   \n",
       "1  59.0  76.0  22.588566   5.623666  11.383167   33.793965 -32.867570   \n",
       "2  67.0  96.0  30.491686   6.545707  17.449080   43.534292 -25.364662   \n",
       "\n",
       "            7          8          9        10        11  \n",
       "0  151.387870 -59.456950  22.801774 -2.607558  0.324129  \n",
       "1   78.044702  53.411434  26.671326  2.002579  0.019810  \n",
       "2   86.348035  65.508314  26.460139  2.475736  0.041677  "
      ]
     },
     "execution_count": 372,
     "metadata": {},
     "output_type": "execute_result"
    }
   ],
   "source": [
    "outliers"
   ]
  },
  {
   "cell_type": "markdown",
   "metadata": {},
   "source": [
    "## check influential observations"
   ]
  },
  {
   "cell_type": "code",
   "execution_count": 373,
   "metadata": {},
   "outputs": [],
   "source": [
    "influ_obs = pd.DataFrame(data[(abs(data[:,11]))>1])"
   ]
  },
  {
   "cell_type": "code",
   "execution_count": 374,
   "metadata": {},
   "outputs": [
    {
     "data": {
      "text/html": [
       "<div>\n",
       "<style scoped>\n",
       "    .dataframe tbody tr th:only-of-type {\n",
       "        vertical-align: middle;\n",
       "    }\n",
       "\n",
       "    .dataframe tbody tr th {\n",
       "        vertical-align: top;\n",
       "    }\n",
       "\n",
       "    .dataframe thead th {\n",
       "        text-align: right;\n",
       "    }\n",
       "</style>\n",
       "<table border=\"1\" class=\"dataframe\">\n",
       "  <thead>\n",
       "    <tr style=\"text-align: right;\">\n",
       "      <th></th>\n",
       "      <th>0</th>\n",
       "      <th>1</th>\n",
       "      <th>2</th>\n",
       "      <th>3</th>\n",
       "      <th>4</th>\n",
       "      <th>5</th>\n",
       "      <th>6</th>\n",
       "      <th>7</th>\n",
       "      <th>8</th>\n",
       "      <th>9</th>\n",
       "      <th>10</th>\n",
       "      <th>11</th>\n",
       "    </tr>\n",
       "  </thead>\n",
       "  <tbody>\n",
       "    <tr>\n",
       "      <th>0</th>\n",
       "      <td>21.0</td>\n",
       "      <td>53.0</td>\n",
       "      <td>74.961382</td>\n",
       "      <td>24.638539</td>\n",
       "      <td>25.868021</td>\n",
       "      <td>124.054744</td>\n",
       "      <td>1.749497</td>\n",
       "      <td>148.173268</td>\n",
       "      <td>-21.961382</td>\n",
       "      <td>11.658801</td>\n",
       "      <td>-1.883674</td>\n",
       "      <td>1.760724</td>\n",
       "    </tr>\n",
       "  </tbody>\n",
       "</table>\n",
       "</div>"
      ],
      "text/plain": [
       "      0     1          2          3          4           5         6  \\\n",
       "0  21.0  53.0  74.961382  24.638539  25.868021  124.054744  1.749497   \n",
       "\n",
       "            7          8          9        10        11  \n",
       "0  148.173268 -21.961382  11.658801 -1.883674  1.760724  "
      ]
     },
     "execution_count": 374,
     "metadata": {},
     "output_type": "execute_result"
    }
   ],
   "source": [
    "influ_obs"
   ]
  },
  {
   "cell_type": "markdown",
   "metadata": {},
   "source": [
    "## Extract outliers and influential data"
   ]
  },
  {
   "cell_type": "code",
   "execution_count": 375,
   "metadata": {
    "scrolled": true
   },
   "outputs": [
    {
     "data": {
      "text/html": [
       "<div>\n",
       "<style scoped>\n",
       "    .dataframe tbody tr th:only-of-type {\n",
       "        vertical-align: middle;\n",
       "    }\n",
       "\n",
       "    .dataframe tbody tr th {\n",
       "        vertical-align: top;\n",
       "    }\n",
       "\n",
       "    .dataframe thead th {\n",
       "        text-align: right;\n",
       "    }\n",
       "</style>\n",
       "<table border=\"1\" class=\"dataframe\">\n",
       "  <thead>\n",
       "    <tr style=\"text-align: right;\">\n",
       "      <th></th>\n",
       "      <th>student_id</th>\n",
       "      <th>project</th>\n",
       "      <th>final</th>\n",
       "      <th>total_watch_time</th>\n",
       "      <th>avg_playback_rate</th>\n",
       "      <th>avg_freq</th>\n",
       "      <th>backward_sec</th>\n",
       "      <th>backward_times</th>\n",
       "      <th>forward_sec</th>\n",
       "      <th>forward_times</th>\n",
       "      <th>pause_freq</th>\n",
       "    </tr>\n",
       "  </thead>\n",
       "  <tbody>\n",
       "    <tr>\n",
       "      <th>49.0</th>\n",
       "      <td>137</td>\n",
       "      <td>78.78</td>\n",
       "      <td>73.0</td>\n",
       "      <td>10342.333333</td>\n",
       "      <td>1.600413</td>\n",
       "      <td>0.239367</td>\n",
       "      <td>151</td>\n",
       "      <td>16</td>\n",
       "      <td>500</td>\n",
       "      <td>57</td>\n",
       "      <td>119</td>\n",
       "    </tr>\n",
       "    <tr>\n",
       "      <th>59.0</th>\n",
       "      <td>147</td>\n",
       "      <td>90.80</td>\n",
       "      <td>71.0</td>\n",
       "      <td>22731.500000</td>\n",
       "      <td>1.741416</td>\n",
       "      <td>0.572459</td>\n",
       "      <td>24491</td>\n",
       "      <td>222</td>\n",
       "      <td>14296</td>\n",
       "      <td>544</td>\n",
       "      <td>1097</td>\n",
       "    </tr>\n",
       "    <tr>\n",
       "      <th>67.0</th>\n",
       "      <td>155</td>\n",
       "      <td>96.50</td>\n",
       "      <td>53.0</td>\n",
       "      <td>35500.833333</td>\n",
       "      <td>1.403376</td>\n",
       "      <td>0.720488</td>\n",
       "      <td>3683</td>\n",
       "      <td>125</td>\n",
       "      <td>2516</td>\n",
       "      <td>31</td>\n",
       "      <td>424</td>\n",
       "    </tr>\n",
       "    <tr>\n",
       "      <th>21.0</th>\n",
       "      <td>109</td>\n",
       "      <td>0.00</td>\n",
       "      <td>0.0</td>\n",
       "      <td>0.000000</td>\n",
       "      <td>0.000000</td>\n",
       "      <td>0.000000</td>\n",
       "      <td>0</td>\n",
       "      <td>0</td>\n",
       "      <td>0</td>\n",
       "      <td>0</td>\n",
       "      <td>0</td>\n",
       "    </tr>\n",
       "  </tbody>\n",
       "</table>\n",
       "</div>"
      ],
      "text/plain": [
       "      student_id  project  final  total_watch_time  avg_playback_rate  \\\n",
       "49.0         137    78.78   73.0      10342.333333           1.600413   \n",
       "59.0         147    90.80   71.0      22731.500000           1.741416   \n",
       "67.0         155    96.50   53.0      35500.833333           1.403376   \n",
       "21.0         109     0.00    0.0          0.000000           0.000000   \n",
       "\n",
       "      avg_freq  backward_sec  backward_times  forward_sec  forward_times  \\\n",
       "49.0  0.239367           151              16          500             57   \n",
       "59.0  0.572459         24491             222        14296            544   \n",
       "67.0  0.720488          3683             125         2516             31   \n",
       "21.0  0.000000             0               0            0              0   \n",
       "\n",
       "      pause_freq  \n",
       "49.0         119  \n",
       "59.0        1097  \n",
       "67.0         424  \n",
       "21.0           0  "
      ]
     },
     "execution_count": 375,
     "metadata": {},
     "output_type": "execute_result"
    }
   ],
   "source": [
    "OR107.loc[list(outliers[0])+list(influ_obs[0])]"
   ]
  },
  {
   "cell_type": "code",
   "execution_count": 387,
   "metadata": {},
   "outputs": [],
   "source": [
    "OR107_extract = OR107[~OR107.index.isin(outliers[0])]"
   ]
  }
 ],
 "metadata": {
  "kernelspec": {
   "display_name": "Python 3",
   "language": "python",
   "name": "python3"
  },
  "language_info": {
   "codemirror_mode": {
    "name": "ipython",
    "version": 3
   },
   "file_extension": ".py",
   "mimetype": "text/x-python",
   "name": "python",
   "nbconvert_exporter": "python",
   "pygments_lexer": "ipython3",
   "version": "3.7.6"
  }
 },
 "nbformat": 4,
 "nbformat_minor": 4
}
