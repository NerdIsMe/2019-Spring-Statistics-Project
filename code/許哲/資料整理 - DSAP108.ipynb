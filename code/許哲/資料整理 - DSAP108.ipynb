{
 "cells": [
  {
   "cell_type": "markdown",
   "metadata": {},
   "source": [
    "# DSAP 108"
   ]
  },
  {
   "cell_type": "code",
   "execution_count": 1,
   "metadata": {},
   "outputs": [],
   "source": [
    "import numpy as np\n",
    "import pandas as pd \n",
    "from datetime import datetime"
   ]
  },
  {
   "cell_type": "markdown",
   "metadata": {},
   "source": [
    "### 讀取資料"
   ]
  },
  {
   "cell_type": "code",
   "execution_count": 2,
   "metadata": {},
   "outputs": [],
   "source": [
    "grades = pd.read_csv('../../data/DSAP108 grades.csv')\n",
    "v_info = pd.read_excel('../../data/DSAP108 videos_sep.xlsx', sheet_name = 'video info')\n",
    "records = pd.read_excel('../../data/DSAP108 videos_sep.xlsx', sheet_name = 'watching records')\n",
    "student_id = pd.read_excel('../../data/DSAP108 videos_sep.xlsx', sheet_name = 'student id')"
   ]
  },
  {
   "cell_type": "markdown",
   "metadata": {},
   "source": [
    "### 觀看時間、觀看速度、平均觀看次數"
   ]
  },
  {
   "cell_type": "code",
   "execution_count": 3,
   "metadata": {},
   "outputs": [],
   "source": [
    "### 觀看時間、觀看速度、平均觀看次數\n",
    "\n",
    "# 開一個 table 存等一下計算的資料\n",
    "student_info = pd.DataFrame(data = grades.drop(0)['student_id'])\n",
    "\n",
    "# 計算總觀看時間\n",
    "total_spent_time = [] # 總觀看時間\n",
    "total_watch_video_time = [] # 觀看的總影片時間\n",
    "\n",
    "for i in student_info['student_id']:\n",
    "    watch_record_i = records[records['student_id'] == int(i)]\n",
    "    # 抓出有在看的資料\n",
    "    real_watch_i = watch_record_i[(watch_record_i['end'] > watch_record_i['start']) & (watch_record_i['playback_rate'] != 0)]\n",
    "    video_time_i = real_watch_i['end'] - real_watch_i['start']# 觀看紀錄 的 影片時間(end - start)\n",
    "    total_watch_video_time.append(sum(video_time_i))\n",
    "    total_spent_time.append(sum(video_time_i/real_watch_i['playback_rate']))\n",
    "\n",
    "student_info['total_watch_time'] = total_spent_time\n",
    "\n",
    "# 計算撥放速度\n",
    "total_spent_time = [x if x!= 0 else 1 for x in total_spent_time]\n",
    "avg_playback_rate = [i/j for (i,j) in zip(total_watch_video_time, total_spent_time)]\n",
    "student_info['avg_playback_rate'] = avg_playback_rate\n",
    "\n",
    "# 計算影片平均觀看次數\n",
    "length_l = list(v_info['meta'])# length of each lecture\n",
    "'''\n",
    "length_l = [( i.split('n=>')[1].split('}')[0]) for i in length_l]\n",
    "length_l = [int(i) for i in length_l]\n",
    "'''\n",
    "total_length_l = sum(length_l)\n",
    "student_info['avg_freq'] = student_info['total_watch_time']/(total_length_l/student_info['avg_playback_rate'])"
   ]
  },
  {
   "cell_type": "markdown",
   "metadata": {},
   "source": [
    "### 拖曳次數、拖曳時間長度"
   ]
  },
  {
   "cell_type": "code",
   "execution_count": 4,
   "metadata": {},
   "outputs": [],
   "source": [
    "forward_sec = []\n",
    "backward_sec =[]\n",
    "forward_times = []\n",
    "backward_times =[]\n",
    "\n",
    "# backwards\n",
    "backward_records = records[(records['start'] > records['end']) & (records['playback_rate'] ==0)]\n",
    "for i in student_info['student_id']:\n",
    "    backward_records_i = backward_records[backward_records['student_id'] == int(i)]\n",
    "    #display(backward_records_i)\n",
    "    backward_times.append(len(backward_records_i))\n",
    "    backward_sec.append(sum(backward_records_i['start'] - backward_records_i['end']))\n",
    "\n",
    "#display(backward_records)"
   ]
  },
  {
   "cell_type": "markdown",
   "metadata": {},
   "source": [
    "### Save data"
   ]
  },
  {
   "cell_type": "code",
   "execution_count": 5,
   "metadata": {},
   "outputs": [],
   "source": [
    "student_info.to_excel('../../data/許哲/DSAP108.xlsx', index = False)"
   ]
  },
  {
   "cell_type": "code",
   "execution_count": null,
   "metadata": {},
   "outputs": [],
   "source": []
  }
 ],
 "metadata": {
  "kernelspec": {
   "display_name": "Python 3",
   "language": "python",
   "name": "python3"
  },
  "language_info": {
   "codemirror_mode": {
    "name": "ipython",
    "version": 3
   },
   "file_extension": ".py",
   "mimetype": "text/x-python",
   "name": "python",
   "nbconvert_exporter": "python",
   "pygments_lexer": "ipython3",
   "version": "3.6.10"
  }
 },
 "nbformat": 4,
 "nbformat_minor": 4
}
