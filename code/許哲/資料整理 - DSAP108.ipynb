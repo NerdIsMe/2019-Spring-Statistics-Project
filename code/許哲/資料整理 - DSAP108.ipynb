{
 "cells": [
  {
   "cell_type": "markdown",
   "metadata": {},
   "source": [
    "# DSAP 108"
   ]
  },
  {
   "cell_type": "code",
   "execution_count": 2,
   "metadata": {},
   "outputs": [],
   "source": [
    "import numpy as np\n",
    "import pandas as pd \n",
    "from datetime import datetime"
   ]
  },
  {
   "cell_type": "markdown",
   "metadata": {},
   "source": [
    "### 讀取資料"
   ]
  },
  {
   "cell_type": "code",
   "execution_count": 4,
   "metadata": {},
   "outputs": [],
   "source": [
    "grades = pd.read_csv('../../data/DSAP108 grades.csv')\n",
    "v_info = pd.read_excel('../../data/DSAP108 videos_sep.xlsx', sheet_name = 'video info')\n",
    "records = pd.read_excel('../../data/DSAP108 videos_sep.xlsx', sheet_name = 'watching records')\n",
    "student_id = pd.read_excel('../../data/DSAP108 videos_sep.xlsx', sheet_name = 'student id')"
   ]
  },
  {
   "cell_type": "markdown",
   "metadata": {},
   "source": [
    "### 觀看時間、觀看速度、平均觀看次數"
   ]
  },
  {
   "cell_type": "code",
   "execution_count": 9,
   "metadata": {},
   "outputs": [
    {
     "data": {
      "text/html": [
       "<div>\n",
       "<style scoped>\n",
       "    .dataframe tbody tr th:only-of-type {\n",
       "        vertical-align: middle;\n",
       "    }\n",
       "\n",
       "    .dataframe tbody tr th {\n",
       "        vertical-align: top;\n",
       "    }\n",
       "\n",
       "    .dataframe thead th {\n",
       "        text-align: right;\n",
       "    }\n",
       "</style>\n",
       "<table border=\"1\" class=\"dataframe\">\n",
       "  <thead>\n",
       "    <tr style=\"text-align: right;\">\n",
       "      <th></th>\n",
       "      <th>student_id</th>\n",
       "      <th>total_watch_time</th>\n",
       "      <th>avg_playback_rate</th>\n",
       "      <th>avg_freq</th>\n",
       "    </tr>\n",
       "  </thead>\n",
       "  <tbody>\n",
       "    <tr>\n",
       "      <th>1</th>\n",
       "      <td>62</td>\n",
       "      <td>25957.400000</td>\n",
       "      <td>1.167336</td>\n",
       "      <td>0.405050</td>\n",
       "    </tr>\n",
       "    <tr>\n",
       "      <th>2</th>\n",
       "      <td>63</td>\n",
       "      <td>48334.833333</td>\n",
       "      <td>1.455989</td>\n",
       "      <td>0.940742</td>\n",
       "    </tr>\n",
       "    <tr>\n",
       "      <th>3</th>\n",
       "      <td>64</td>\n",
       "      <td>5044.333333</td>\n",
       "      <td>1.848807</td>\n",
       "      <td>0.124666</td>\n",
       "    </tr>\n",
       "    <tr>\n",
       "      <th>4</th>\n",
       "      <td>65</td>\n",
       "      <td>67902.400000</td>\n",
       "      <td>1.532936</td>\n",
       "      <td>1.391429</td>\n",
       "    </tr>\n",
       "    <tr>\n",
       "      <th>5</th>\n",
       "      <td>66</td>\n",
       "      <td>49396.216667</td>\n",
       "      <td>1.595203</td>\n",
       "      <td>1.053323</td>\n",
       "    </tr>\n",
       "    <tr>\n",
       "      <th>...</th>\n",
       "      <td>...</td>\n",
       "      <td>...</td>\n",
       "      <td>...</td>\n",
       "      <td>...</td>\n",
       "    </tr>\n",
       "    <tr>\n",
       "      <th>105</th>\n",
       "      <td>166</td>\n",
       "      <td>36992.416667</td>\n",
       "      <td>1.709837</td>\n",
       "      <td>0.845511</td>\n",
       "    </tr>\n",
       "    <tr>\n",
       "      <th>106</th>\n",
       "      <td>167</td>\n",
       "      <td>32098.033333</td>\n",
       "      <td>1.761666</td>\n",
       "      <td>0.755882</td>\n",
       "    </tr>\n",
       "    <tr>\n",
       "      <th>107</th>\n",
       "      <td>168</td>\n",
       "      <td>28596.833333</td>\n",
       "      <td>1.518035</td>\n",
       "      <td>0.580299</td>\n",
       "    </tr>\n",
       "    <tr>\n",
       "      <th>108</th>\n",
       "      <td>169</td>\n",
       "      <td>31298.883333</td>\n",
       "      <td>1.583156</td>\n",
       "      <td>0.662376</td>\n",
       "    </tr>\n",
       "    <tr>\n",
       "      <th>109</th>\n",
       "      <td>170</td>\n",
       "      <td>29664.100000</td>\n",
       "      <td>1.542235</td>\n",
       "      <td>0.611552</td>\n",
       "    </tr>\n",
       "  </tbody>\n",
       "</table>\n",
       "<p>109 rows × 4 columns</p>\n",
       "</div>"
      ],
      "text/plain": [
       "    student_id  total_watch_time  avg_playback_rate  avg_freq\n",
       "1           62      25957.400000           1.167336  0.405050\n",
       "2           63      48334.833333           1.455989  0.940742\n",
       "3           64       5044.333333           1.848807  0.124666\n",
       "4           65      67902.400000           1.532936  1.391429\n",
       "5           66      49396.216667           1.595203  1.053323\n",
       "..         ...               ...                ...       ...\n",
       "105        166      36992.416667           1.709837  0.845511\n",
       "106        167      32098.033333           1.761666  0.755882\n",
       "107        168      28596.833333           1.518035  0.580299\n",
       "108        169      31298.883333           1.583156  0.662376\n",
       "109        170      29664.100000           1.542235  0.611552\n",
       "\n",
       "[109 rows x 4 columns]"
      ]
     },
     "execution_count": 9,
     "metadata": {},
     "output_type": "execute_result"
    }
   ],
   "source": [
    "### 觀看時間、觀看速度、平均觀看次數\n",
    "\n",
    "# 開一個 table 存等一下計算的資料\n",
    "student_info = pd.DataFrame(data = grades.drop(0)['student_id'])\n",
    "\n",
    "# 計算總觀看時間\n",
    "total_spent_time = [] # 總觀看時間\n",
    "total_watch_video_time = [] # 觀看的總影片時間\n",
    "\n",
    "for i in student_info['student_id']:\n",
    "    watch_record_i = records[records['student_id'] == int(i)]\n",
    "    # 抓出有在看的資料\n",
    "    real_watch_i = watch_record_i[(watch_record_i['end'] > watch_record_i['start']) & (watch_record_i['playback_rate'] != 0)]\n",
    "    video_time_i = real_watch_i['end'] - real_watch_i['start']# 觀看紀錄 的 影片時間(end - start)\n",
    "    total_watch_video_time.append(sum(video_time_i))\n",
    "    total_spent_time.append(sum(video_time_i/real_watch_i['playback_rate']))\n",
    "\n",
    "student_info['total_watch_time'] = total_spent_time\n",
    "\n",
    "# 計算撥放速度\n",
    "total_spent_time = [x if x!= 0 else 1 for x in total_spent_time]\n",
    "avg_playback_rate = [i/j for (i,j) in zip(total_watch_video_time, total_spent_time)]\n",
    "student_info['avg_playback_rate'] = avg_playback_rate\n",
    "\n",
    "# 計算影片平均觀看次數\n",
    "length_l = list(v_info['meta'])# length of each lecture\n",
    "'''\n",
    "length_l = [( i.split('n=>')[1].split('}')[0]) for i in length_l]\n",
    "length_l = [int(i) for i in length_l]\n",
    "'''\n",
    "total_length_l = sum(length_l)\n",
    "student_info['avg_freq'] = student_info['total_watch_time']/(total_length_l/student_info['avg_playback_rate'])\n",
    "\n",
    "student_info"
   ]
  },
  {
   "cell_type": "markdown",
   "metadata": {},
   "source": [
    "### Save data"
   ]
  },
  {
   "cell_type": "code",
   "execution_count": 10,
   "metadata": {},
   "outputs": [],
   "source": [
    "student_info.to_excel('../../data/許哲/DSAP108.xlsx')"
   ]
  },
  {
   "cell_type": "code",
   "execution_count": null,
   "metadata": {},
   "outputs": [],
   "source": []
  }
 ],
 "metadata": {
  "kernelspec": {
   "display_name": "Python 3",
   "language": "python",
   "name": "python3"
  },
  "language_info": {
   "codemirror_mode": {
    "name": "ipython",
    "version": 3
   },
   "file_extension": ".py",
   "mimetype": "text/x-python",
   "name": "python",
   "nbconvert_exporter": "python",
   "pygments_lexer": "ipython3",
   "version": "3.6.10"
  }
 },
 "nbformat": 4,
 "nbformat_minor": 4
}
