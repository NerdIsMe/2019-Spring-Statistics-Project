{
 "cells": [
  {
   "cell_type": "markdown",
   "metadata": {},
   "source": [
    "# DSAP 107"
   ]
  },
  {
   "cell_type": "code",
   "execution_count": 1,
   "metadata": {},
   "outputs": [],
   "source": [
    "import numpy as np\n",
    "import pandas as pd \n",
    "import datetime\n",
    "import seaborn as sns\n",
    "import matplotlib\n",
    "from matplotlib import pyplot as plt\n",
    "matplotlib.rcParams['figure.dpi'] = 130"
   ]
  },
  {
   "cell_type": "code",
   "execution_count": 16,
   "metadata": {},
   "outputs": [],
   "source": [
    "def to_datetime(x):\n",
    "    tempt = datetime.datetime.strptime(x, '%Y-%m-%d %H:%M:%S %Z') + datetime.timedelta(hours = 8)\n",
    "    return tempt.hour*100 + tempt.minute\n",
    "\n",
    "def time_period(t):\n",
    "    if t >= 2300 or t < 300:\n",
    "        return 0\n",
    "    elif t >= 300 and t < 700:\n",
    "        return 1\n",
    "    elif t >= 700 and t < 1100:\n",
    "        return 2\n",
    "    elif t >= 1100 and t < 1500:\n",
    "        return 3\n",
    "    elif t >= 1500 and t < 1900:\n",
    "        return 4\n",
    "    elif t >= 1900 and t < 2300:\n",
    "        return 5\n",
    "\n",
    "def Addressing_Data(grades, v_info, records, student_info):\n",
    "    records['time'] = list(map(to_datetime, records['created_at']))\n",
    "\n",
    "    total_spent_time = [] # 總觀看時間\n",
    "    total_watch_video_time = [] # 觀看的總影片時間\n",
    "\n",
    "    length_l = list(v_info['meta'])# length of each lecture\n",
    "    length_l = [int(i.split('n=>')[1].split('}')[0]) for i in length_l]\n",
    "\n",
    "    sf = []\n",
    "    period = [[0 for i in range(len(student_info['student_id']))] for i in range(6)]\n",
    "    period_d = [[0 for i in range(len(student_info['student_id']))] for i in range(5)]\n",
    "    forward_sec = []\n",
    "    backward_sec =[]\n",
    "    forward_times = []\n",
    "    backward_times =[]\n",
    "    pf = [] # pause freq\n",
    "    backward_records = records[(records['start'] - records['end'] >= 5) & (records['playback_rate'] ==0)]\n",
    "    forward_records = records[(records['start'] - records['end'] <= -5) & (records['playback_rate'] ==0)]\n",
    "    pause_records = records[((records['start'] - records['end']).abs() < 5) & (records['playback_rate'] ==0)]\n",
    "\n",
    "    j = 0\n",
    "    for i in student_info['student_id']:\n",
    "        watch_record_i = records[records['student_id'] == int(i)]\n",
    "        \n",
    "        ## 計算總觀看時間\n",
    "        real_watch_i = watch_record_i[(watch_record_i['end'] > watch_record_i['start']) & (watch_record_i['playback_rate'] != 0)]# 抓出有在看的資料\n",
    "        video_time_i = real_watch_i['end'] - real_watch_i['start']# 觀看紀錄 的 影片時間(end - start)\n",
    "        total_watch_video_time.append(sum(video_time_i))\n",
    "        total_spent_time.append(sum(video_time_i/real_watch_i['playback_rate']))\n",
    "\n",
    "        ## 計算平均撥放次數\n",
    "        wf = [] # each video watch freq\n",
    "        for vi, vl in zip(v_info['video_id'], length_l):\n",
    "            record_ji = watch_record_i[(watch_record_i['video_id'] == vi) & (watch_record_i['playback_rate'] != 0)]\n",
    "            wf.append(sum(record_ji['end'] - record_ji['start'])/vl)\n",
    "            \n",
    "            if len(record_ji) != 0:\n",
    "                first_watch = record_ji[record_ji['created_at'] == min(record_ji['created_at'])].head(1)['time']\n",
    "                #print((first_watch))\n",
    "                p = time_period(int(first_watch))\n",
    "                #print('time: %d, p = %d' %(first_watch, p))\n",
    "                period[p][j] += 1\n",
    "                #print(min(record_ji['created_at']).index)\n",
    "        j += 1\n",
    "        sf.append(sum(wf)/len(wf))  \n",
    "\n",
    "        # backwards\n",
    "        backward_records_i = backward_records[backward_records['student_id'] == int(i)]\n",
    "        backward_times.append(len(backward_records_i))\n",
    "        backward_sec.append(sum(backward_records_i['start'] - backward_records_i['end']))\n",
    "        \n",
    "        # forwards\n",
    "        forward_records_i = forward_records[forward_records['student_id'] == int(i)]\n",
    "        forward_times.append(len(forward_records_i))\n",
    "        forward_sec.append(sum(forward_records_i['end'] - forward_records_i['start']))\n",
    "\n",
    "        # pause\n",
    "        record_i = pause_records[(pause_records['student_id'] == int(i))]\n",
    "        #display(record_i)\n",
    "        pf.append(len(record_i))\n",
    "\n",
    "\n",
    "    student_info['total_watch_time'] = total_spent_time\n",
    "    student_info['watch_freq'] = sf\n",
    "    student_info['backward_sec'] = backward_sec\n",
    "    student_info['backward_times'] = backward_times\n",
    "    student_info['forward_sec'] = forward_sec\n",
    "    student_info['forward_times'] = forward_times\n",
    "    student_info['pause_freq'] = pf\n",
    "\n",
    "    for i in range(len(period)):\n",
    "        student_info['period %d' %i] = period[i]\n",
    "    \n",
    "    student_info['most_watch_period'] = student_info[['period 0', 'period 1', 'period 2', 'period 3', 'period 4', 'period 5']].idxmax(axis = 1)\n",
    "    student_info['watched_video'] = sum(np.array(period[i]) for i in range(6))\n",
    "\n",
    "    ## 計算撥放速度 OK\n",
    "    total_spent_time = [x if x!= 0 else 1 for x in total_spent_time]\n",
    "    avg_playback_rate = [i/j for (i,j) in zip(total_watch_video_time, total_spent_time)]\n",
    "    student_info['avg_playback_rate'] = avg_playback_rate\n",
    "\n",
    "    return student_info\n",
    "        \n"
   ]
  },
  {
   "cell_type": "markdown",
   "metadata": {},
   "source": [
    "### 讀取資料"
   ]
  },
  {
   "cell_type": "code",
   "execution_count": 3,
   "metadata": {},
   "outputs": [],
   "source": [
    "grades = pd.read_csv('../../data/DSAP107 grades.csv')\n",
    "v_info = pd.read_excel('../../data/DSAP107 videos_sep.xlsx', sheet_name = 'video info')\n",
    "records = pd.read_excel('../../data/DSAP107 videos_sep.xlsx', sheet_name = 'watching records')\n",
    "student_id = pd.read_excel('../../data/DSAP107 videos_sep.xlsx', sheet_name = 'student id')\n"
   ]
  },
  {
   "cell_type": "code",
   "execution_count": 4,
   "metadata": {
    "scrolled": false
   },
   "outputs": [],
   "source": [
    "# 4/22以前\n",
    "records = records[records['created_at'] < '2019-04-22 06:30:00 UTC']"
   ]
  },
  {
   "cell_type": "markdown",
   "metadata": {},
   "source": [
    "## 要有的 column\n",
    "- 其中、期末成績!\n",
    "- 學生觀看時段\n",
    "    - 23-3\n",
    "    - 3-7\n",
    "    - 7-11\n",
    "    - 11-15\n",
    "    - 15-19\n",
    "    - 19-23\n",
    "- 觀看總時間!\n",
    "- 平均播放速度!\n",
    "- 平均影片觀看次數!\n",
    "- 暫停次數!"
   ]
  },
  {
   "cell_type": "markdown",
   "metadata": {},
   "source": [
    "### 其中、期末成績"
   ]
  },
  {
   "cell_type": "code",
   "execution_count": 5,
   "metadata": {},
   "outputs": [],
   "source": [
    "# 開一個 table 存等一下計算的資料\n",
    "student_info = pd.DataFrame(data = grades.drop(0)['student_id'])\n",
    "\n",
    "student_info['midterm'] = grades['Midterm (2042)']\n",
    "student_info['final'] = grades['Final (2346)']"
   ]
  },
  {
   "cell_type": "markdown",
   "metadata": {},
   "source": [
    "### 觀看時間、觀看速度、平均觀看次數、觀看時段（最早）"
   ]
  },
  {
   "cell_type": "code",
   "execution_count": 6,
   "metadata": {},
   "outputs": [
    {
     "data": {
      "text/plain": [
       "\"\\n### 觀看時間、觀看速度、平均觀看次數\\n\\n\\n# 計算總觀看時間\\ntotal_spent_time = [] # 總觀看時間\\ntotal_watch_video_time = [] # 觀看的總影片時間\\n\\nfor i in student_info['student_id']:\\n    watch_record_i = records[records['student_id'] == int(i)]\\n    # 抓出有在看的資料\\n    real_watch_i = watch_record_i[(watch_record_i['end'] > watch_record_i['start']) & (watch_record_i['playback_rate'] != 0)]\\n    video_time_i = real_watch_i['end'] - real_watch_i['start']# 觀看紀錄 的 影片時間(end - start)\\n    total_watch_video_time.append(sum(video_time_i))\\n    total_spent_time.append(sum(video_time_i/real_watch_i['playback_rate']))\\n\\nstudent_info['total_watch_time'] = total_spent_time\\n\\n# 計算撥放速度\\ntotal_spent_time = [x if x!= 0 else 1 for x in total_spent_time]\\navg_playback_rate = [i/j for (i,j) in zip(total_watch_video_time, total_spent_time)]\\nstudent_info['avg_playback_rate'] = avg_playback_rate\\n\\n\""
      ]
     },
     "execution_count": 6,
     "metadata": {},
     "output_type": "execute_result"
    }
   ],
   "source": [
    "'''\n",
    "### 觀看時間、觀看速度、平均觀看次數\n",
    "\n",
    "\n",
    "# 計算總觀看時間\n",
    "total_spent_time = [] # 總觀看時間\n",
    "total_watch_video_time = [] # 觀看的總影片時間\n",
    "\n",
    "for i in student_info['student_id']:\n",
    "    watch_record_i = records[records['student_id'] == int(i)]\n",
    "    # 抓出有在看的資料\n",
    "    real_watch_i = watch_record_i[(watch_record_i['end'] > watch_record_i['start']) & (watch_record_i['playback_rate'] != 0)]\n",
    "    video_time_i = real_watch_i['end'] - real_watch_i['start']# 觀看紀錄 的 影片時間(end - start)\n",
    "    total_watch_video_time.append(sum(video_time_i))\n",
    "    total_spent_time.append(sum(video_time_i/real_watch_i['playback_rate']))\n",
    "\n",
    "student_info['total_watch_time'] = total_spent_time\n",
    "\n",
    "# 計算撥放速度\n",
    "total_spent_time = [x if x!= 0 else 1 for x in total_spent_time]\n",
    "avg_playback_rate = [i/j for (i,j) in zip(total_watch_video_time, total_spent_time)]\n",
    "student_info['avg_playback_rate'] = avg_playback_rate\n",
    "\n",
    "'''"
   ]
  },
  {
   "cell_type": "code",
   "execution_count": 7,
   "metadata": {},
   "outputs": [
    {
     "data": {
      "text/plain": [
       "\"\\n# 計算影片每部平均觀看次數 & 計算觀看時間\\nlength_l = list(v_info['meta'])# length of each lecture\\nlength_l = [int(i.split('n=>')[1].split('}')[0]) for i in length_l]\\n\\nsf = []\\nperiod = [[0 for i in range(len(student_info['student_id']))] for i in range(6)]\\n\\ni = 0\\nfor j in student_info['student_id']:\\n    wf = [] # each video watch freq\\n    record_j = records[records['student_id'] == int(j)]\\n    \\n    for vi, vl in zip(v_info['video_id'], length_l):\\n        record_ji = record_j[(record_j['video_id'] == vi) & (record_j['playback_rate'] != 0)]\\n        wf.append(sum(record_ji['end'] - record_ji['start'])/vl)\\n        \\n        if len(record_ji) != 0:\\n            first_watch = record_ji[record_ji['created_at'] == min(record_ji['created_at'])].head(1)['time']\\n            #print((first_watch))\\n            p = time_period(int(first_watch))\\n            #print('time: %d, p = %d' %(first_watch, p))\\n            period[p][i] += 1\\n            #print(min(record_ji['created_at']).index)\\n    i += 1\\n    sf.append(sum(wf)/len(wf))  \\n\\nstudent_info['watch_freq'] = sf\\nfor i in range(len(period)):\\n    student_info['period %d' %i] = period[i]\\nstudent_info['watched_video'] = sum(np.array(period[i]) for i in range(6))\\n\""
      ]
     },
     "execution_count": 7,
     "metadata": {},
     "output_type": "execute_result"
    }
   ],
   "source": [
    "'''\n",
    "# 計算影片每部平均觀看次數 & 計算觀看時間\n",
    "length_l = list(v_info['meta'])# length of each lecture\n",
    "length_l = [int(i.split('n=>')[1].split('}')[0]) for i in length_l]\n",
    "\n",
    "sf = []\n",
    "period = [[0 for i in range(len(student_info['student_id']))] for i in range(6)]\n",
    "\n",
    "i = 0\n",
    "for j in student_info['student_id']:\n",
    "    wf = [] # each video watch freq\n",
    "    record_j = records[records['student_id'] == int(j)]\n",
    "    \n",
    "    for vi, vl in zip(v_info['video_id'], length_l):\n",
    "        record_ji = record_j[(record_j['video_id'] == vi) & (record_j['playback_rate'] != 0)]\n",
    "        wf.append(sum(record_ji['end'] - record_ji['start'])/vl)\n",
    "        \n",
    "        if len(record_ji) != 0:\n",
    "            first_watch = record_ji[record_ji['created_at'] == min(record_ji['created_at'])].head(1)['time']\n",
    "            #print((first_watch))\n",
    "            p = time_period(int(first_watch))\n",
    "            #print('time: %d, p = %d' %(first_watch, p))\n",
    "            period[p][i] += 1\n",
    "            #print(min(record_ji['created_at']).index)\n",
    "    i += 1\n",
    "    sf.append(sum(wf)/len(wf))  \n",
    "\n",
    "student_info['watch_freq'] = sf\n",
    "for i in range(len(period)):\n",
    "    student_info['period %d' %i] = period[i]\n",
    "student_info['watched_video'] = sum(np.array(period[i]) for i in range(6))\n",
    "'''"
   ]
  },
  {
   "cell_type": "markdown",
   "metadata": {},
   "source": [
    "### 拖曳次數、拖曳時間長度 & 暫停次數"
   ]
  },
  {
   "cell_type": "code",
   "execution_count": 8,
   "metadata": {},
   "outputs": [
    {
     "data": {
      "text/plain": [
       "\"\\nforward_sec = []\\nbackward_sec =[]\\nforward_times = []\\nbackward_times =[]\\npf = [] # pause freq\\n\\nbackward_records = records[(records['start'] - records['end'] >= 5) & (records['playback_rate'] ==0)]\\nforward_records = records[(records['start'] - records['end'] <= -5) & (records['playback_rate'] ==0)]\\npause_records = records[((records['start'] - records['end']).abs() < 5) & (records['playback_rate'] ==0)]\\n\\nfor i in student_info['student_id']:\\n    # backwards\\n    backward_records_i = backward_records[backward_records['student_id'] == int(i)]\\n    backward_times.append(len(backward_records_i))\\n    backward_sec.append(sum(backward_records_i['start'] - backward_records_i['end']))\\n    \\n    # forwards\\n    forward_records_i = forward_records[forward_records['student_id'] == int(i)]\\n    forward_times.append(len(forward_records_i))\\n    forward_sec.append(sum(forward_records_i['end'] - forward_records_i['start']))\\n\\n    # pause\\n    record_i = pause_records[(pause_records['student_id'] == int(i))]\\n    #display(record_i)\\n    pf.append(len(record_i))\\n    \\nstudent_info['backward_sec'] = backward_sec\\nstudent_info['backward_times'] = backward_times\\nstudent_info['forward_sec'] = forward_sec\\nstudent_info['forward_times'] = forward_times\\nstudent_info['pause_freq'] = pf\\n\""
      ]
     },
     "execution_count": 8,
     "metadata": {},
     "output_type": "execute_result"
    }
   ],
   "source": [
    "'''\n",
    "forward_sec = []\n",
    "backward_sec =[]\n",
    "forward_times = []\n",
    "backward_times =[]\n",
    "pf = [] # pause freq\n",
    "\n",
    "backward_records = records[(records['start'] - records['end'] >= 5) & (records['playback_rate'] ==0)]\n",
    "forward_records = records[(records['start'] - records['end'] <= -5) & (records['playback_rate'] ==0)]\n",
    "pause_records = records[((records['start'] - records['end']).abs() < 5) & (records['playback_rate'] ==0)]\n",
    "\n",
    "for i in student_info['student_id']:\n",
    "    # backwards\n",
    "    backward_records_i = backward_records[backward_records['student_id'] == int(i)]\n",
    "    backward_times.append(len(backward_records_i))\n",
    "    backward_sec.append(sum(backward_records_i['start'] - backward_records_i['end']))\n",
    "    \n",
    "    # forwards\n",
    "    forward_records_i = forward_records[forward_records['student_id'] == int(i)]\n",
    "    forward_times.append(len(forward_records_i))\n",
    "    forward_sec.append(sum(forward_records_i['end'] - forward_records_i['start']))\n",
    "\n",
    "    # pause\n",
    "    record_i = pause_records[(pause_records['student_id'] == int(i))]\n",
    "    #display(record_i)\n",
    "    pf.append(len(record_i))\n",
    "    \n",
    "student_info['backward_sec'] = backward_sec\n",
    "student_info['backward_times'] = backward_times\n",
    "student_info['forward_sec'] = forward_sec\n",
    "student_info['forward_times'] = forward_times\n",
    "student_info['pause_freq'] = pf\n",
    "'''"
   ]
  },
  {
   "cell_type": "code",
   "execution_count": 17,
   "metadata": {
    "scrolled": true
   },
   "outputs": [
    {
     "data": {
      "text/html": [
       "<div>\n",
       "<style scoped>\n",
       "    .dataframe tbody tr th:only-of-type {\n",
       "        vertical-align: middle;\n",
       "    }\n",
       "\n",
       "    .dataframe tbody tr th {\n",
       "        vertical-align: top;\n",
       "    }\n",
       "\n",
       "    .dataframe thead th {\n",
       "        text-align: right;\n",
       "    }\n",
       "</style>\n",
       "<table border=\"1\" class=\"dataframe\">\n",
       "  <thead>\n",
       "    <tr style=\"text-align: right;\">\n",
       "      <th></th>\n",
       "      <th>student_id</th>\n",
       "      <th>midterm</th>\n",
       "      <th>final</th>\n",
       "      <th>total_watch_time</th>\n",
       "      <th>watch_freq</th>\n",
       "      <th>backward_sec</th>\n",
       "      <th>backward_times</th>\n",
       "      <th>forward_sec</th>\n",
       "      <th>forward_times</th>\n",
       "      <th>pause_freq</th>\n",
       "      <th>period 0</th>\n",
       "      <th>period 1</th>\n",
       "      <th>period 2</th>\n",
       "      <th>period 3</th>\n",
       "      <th>period 4</th>\n",
       "      <th>period 5</th>\n",
       "      <th>watched_video</th>\n",
       "      <th>avg_playback_rate</th>\n",
       "      <th>most_watch_period</th>\n",
       "    </tr>\n",
       "  </thead>\n",
       "  <tbody>\n",
       "    <tr>\n",
       "      <th>1</th>\n",
       "      <td>64</td>\n",
       "      <td>0</td>\n",
       "      <td>0.0</td>\n",
       "      <td>4385.133333</td>\n",
       "      <td>0.178199</td>\n",
       "      <td>0</td>\n",
       "      <td>0</td>\n",
       "      <td>0</td>\n",
       "      <td>0</td>\n",
       "      <td>0</td>\n",
       "      <td>0</td>\n",
       "      <td>0</td>\n",
       "      <td>0</td>\n",
       "      <td>0</td>\n",
       "      <td>10</td>\n",
       "      <td>2</td>\n",
       "      <td>12</td>\n",
       "      <td>1.494139</td>\n",
       "      <td>period 4</td>\n",
       "    </tr>\n",
       "    <tr>\n",
       "      <th>2</th>\n",
       "      <td>65</td>\n",
       "      <td>0</td>\n",
       "      <td>0.0</td>\n",
       "      <td>3572.000000</td>\n",
       "      <td>0.092675</td>\n",
       "      <td>88</td>\n",
       "      <td>5</td>\n",
       "      <td>442</td>\n",
       "      <td>9</td>\n",
       "      <td>4</td>\n",
       "      <td>4</td>\n",
       "      <td>0</td>\n",
       "      <td>0</td>\n",
       "      <td>0</td>\n",
       "      <td>0</td>\n",
       "      <td>1</td>\n",
       "      <td>5</td>\n",
       "      <td>1.000000</td>\n",
       "      <td>period 0</td>\n",
       "    </tr>\n",
       "    <tr>\n",
       "      <th>3</th>\n",
       "      <td>66</td>\n",
       "      <td>82</td>\n",
       "      <td>76.0</td>\n",
       "      <td>36625.000000</td>\n",
       "      <td>1.033947</td>\n",
       "      <td>6685</td>\n",
       "      <td>171</td>\n",
       "      <td>7912</td>\n",
       "      <td>248</td>\n",
       "      <td>22</td>\n",
       "      <td>36</td>\n",
       "      <td>0</td>\n",
       "      <td>7</td>\n",
       "      <td>6</td>\n",
       "      <td>0</td>\n",
       "      <td>3</td>\n",
       "      <td>52</td>\n",
       "      <td>1.000000</td>\n",
       "      <td>period 0</td>\n",
       "    </tr>\n",
       "    <tr>\n",
       "      <th>4</th>\n",
       "      <td>67</td>\n",
       "      <td>79</td>\n",
       "      <td>79.0</td>\n",
       "      <td>18789.383333</td>\n",
       "      <td>0.963616</td>\n",
       "      <td>6459</td>\n",
       "      <td>116</td>\n",
       "      <td>6784</td>\n",
       "      <td>161</td>\n",
       "      <td>6</td>\n",
       "      <td>3</td>\n",
       "      <td>3</td>\n",
       "      <td>9</td>\n",
       "      <td>33</td>\n",
       "      <td>1</td>\n",
       "      <td>1</td>\n",
       "      <td>50</td>\n",
       "      <td>1.847426</td>\n",
       "      <td>period 3</td>\n",
       "    </tr>\n",
       "    <tr>\n",
       "      <th>5</th>\n",
       "      <td>68</td>\n",
       "      <td>52</td>\n",
       "      <td>57.0</td>\n",
       "      <td>13719.766667</td>\n",
       "      <td>0.673371</td>\n",
       "      <td>3958</td>\n",
       "      <td>83</td>\n",
       "      <td>6892</td>\n",
       "      <td>171</td>\n",
       "      <td>35</td>\n",
       "      <td>2</td>\n",
       "      <td>0</td>\n",
       "      <td>3</td>\n",
       "      <td>29</td>\n",
       "      <td>8</td>\n",
       "      <td>0</td>\n",
       "      <td>42</td>\n",
       "      <td>1.742595</td>\n",
       "      <td>period 3</td>\n",
       "    </tr>\n",
       "  </tbody>\n",
       "</table>\n",
       "</div>"
      ],
      "text/plain": [
       "  student_id  midterm  final  total_watch_time  watch_freq  backward_sec  \\\n",
       "1         64        0    0.0       4385.133333    0.178199             0   \n",
       "2         65        0    0.0       3572.000000    0.092675            88   \n",
       "3         66       82   76.0      36625.000000    1.033947          6685   \n",
       "4         67       79   79.0      18789.383333    0.963616          6459   \n",
       "5         68       52   57.0      13719.766667    0.673371          3958   \n",
       "\n",
       "   backward_times  forward_sec  forward_times  pause_freq  period 0  period 1  \\\n",
       "1               0            0              0           0         0         0   \n",
       "2               5          442              9           4         4         0   \n",
       "3             171         7912            248          22        36         0   \n",
       "4             116         6784            161           6         3         3   \n",
       "5              83         6892            171          35         2         0   \n",
       "\n",
       "   period 2  period 3  period 4  period 5  watched_video  avg_playback_rate  \\\n",
       "1         0         0        10         2             12           1.494139   \n",
       "2         0         0         0         1              5           1.000000   \n",
       "3         7         6         0         3             52           1.000000   \n",
       "4         9        33         1         1             50           1.847426   \n",
       "5         3        29         8         0             42           1.742595   \n",
       "\n",
       "  most_watch_period  \n",
       "1          period 4  \n",
       "2          period 0  \n",
       "3          period 0  \n",
       "4          period 3  \n",
       "5          period 3  "
      ]
     },
     "metadata": {},
     "output_type": "display_data"
    }
   ],
   "source": [
    "student_info = Addressing_Data(grades, v_info, records, student_info)\n",
    "display(student_info.head())"
   ]
  },
  {
   "cell_type": "code",
   "execution_count": 15,
   "metadata": {},
   "outputs": [],
   "source": []
  },
  {
   "cell_type": "markdown",
   "metadata": {},
   "source": [
    "### Save data"
   ]
  },
  {
   "cell_type": "code",
   "execution_count": 10,
   "metadata": {},
   "outputs": [],
   "source": [
    "student_info.to_excel('../../data/Semester weekly regression/DSAP107.xlsx', index = False)"
   ]
  },
  {
   "cell_type": "markdown",
   "metadata": {},
   "source": [
    "### Regression"
   ]
  },
  {
   "cell_type": "code",
   "execution_count": null,
   "metadata": {},
   "outputs": [],
   "source": [
    "import statsmodels.formula.api as smf\n",
    "data_r = student_info.dropna(subset=['midterm'])\n",
    "data_r = data_r[data_r['midterm'] != 0]\n",
    "data_r['watched_video_l'] = np.log(data_r['watched_video'])\n",
    "result = smf.ols('midterm ~ watched_video_l + total_watch_time', data = data_r).fit()\n",
    "print(result.summary())"
   ]
  },
  {
   "cell_type": "code",
   "execution_count": null,
   "metadata": {},
   "outputs": [],
   "source": []
  },
  {
   "cell_type": "code",
   "execution_count": null,
   "metadata": {},
   "outputs": [],
   "source": [
    "plot_pd = data_r.copy()\n",
    "plot_pd['prediction'] = result.predict()\n",
    "n = len(plot_pd)\n",
    "plot_pd = plot_pd.sort_values(by = ['midterm'])\n",
    "plt.scatter(range(n), plot_pd['midterm'], label = 'Real Score')\n",
    "plt.scatter(range(n), plot_pd['prediction'], label = 'prediction')\n",
    "plt.legend()"
   ]
  },
  {
   "cell_type": "code",
   "execution_count": null,
   "metadata": {},
   "outputs": [],
   "source": [
    "corr = data[[\"total_watch_time\", 'avg_playback_rate','avg_freq','backward_sec', \n",
    "             'backward_times', 'forward_sec', 'forward_times']].corr()\n",
    "sns.heatmap(corr, annot=True)"
   ]
  },
  {
   "cell_type": "code",
   "execution_count": null,
   "metadata": {},
   "outputs": [],
   "source": []
  }
 ],
 "metadata": {
  "kernelspec": {
   "display_name": "Python 3",
   "language": "python",
   "name": "python3"
  },
  "language_info": {
   "codemirror_mode": {
    "name": "ipython",
    "version": 3
   },
   "file_extension": ".py",
   "mimetype": "text/x-python",
   "name": "python",
   "nbconvert_exporter": "python",
   "pygments_lexer": "ipython3",
   "version": "3.6.10"
  }
 },
 "nbformat": 4,
 "nbformat_minor": 4
}
