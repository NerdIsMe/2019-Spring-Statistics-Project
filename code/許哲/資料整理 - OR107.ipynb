{
 "cells": [
  {
   "cell_type": "markdown",
   "metadata": {},
   "source": [
    "# OR107"
   ]
  },
  {
   "cell_type": "code",
   "execution_count": 4,
   "metadata": {},
   "outputs": [],
   "source": [
    "import numpy as np\n",
    "import pandas as pd \n",
    "from datetime import datetime"
   ]
  },
  {
   "cell_type": "markdown",
   "metadata": {},
   "source": [
    "### 讀取資料"
   ]
  },
  {
   "cell_type": "code",
   "execution_count": 14,
   "metadata": {},
   "outputs": [],
   "source": [
    "grades = pd.read_csv('../../data/OR107 grades.csv')\n",
    "v_info = pd.read_excel('../../data/OR107 videos_sep.xlsx', sheet_name = 'video info')\n",
    "records = pd.read_excel('../../data/OR107 videos_sep.xlsx', sheet_name = 'watching records')\n",
    "student_id = pd.read_excel('../../data/OR107 videos_sep.xlsx', sheet_name = 'student id')"
   ]
  },
  {
   "cell_type": "markdown",
   "metadata": {},
   "source": [
    "### 其中、期末成績"
   ]
  },
  {
   "cell_type": "code",
   "execution_count": 21,
   "metadata": {},
   "outputs": [],
   "source": [
    "# 開一個 table 存等一下計算的資料\n",
    "student_info = pd.DataFrame(data = grades.drop(0)['student_id'])\n",
    "student_info['project'] = grades['Final project (2126)']\n",
    "student_info['final'] = grades['Final Exam (2231)']"
   ]
  },
  {
   "cell_type": "markdown",
   "metadata": {},
   "source": [
    "### 觀看時間、觀看速度、平均觀看次數"
   ]
  },
  {
   "cell_type": "code",
   "execution_count": 24,
   "metadata": {},
   "outputs": [
    {
     "data": {
      "text/html": [
       "<div>\n",
       "<style scoped>\n",
       "    .dataframe tbody tr th:only-of-type {\n",
       "        vertical-align: middle;\n",
       "    }\n",
       "\n",
       "    .dataframe tbody tr th {\n",
       "        vertical-align: top;\n",
       "    }\n",
       "\n",
       "    .dataframe thead th {\n",
       "        text-align: right;\n",
       "    }\n",
       "</style>\n",
       "<table border=\"1\" class=\"dataframe\">\n",
       "  <thead>\n",
       "    <tr style=\"text-align: right;\">\n",
       "      <th></th>\n",
       "      <th>student_id</th>\n",
       "      <th>project</th>\n",
       "      <th>final</th>\n",
       "      <th>total_watch_time</th>\n",
       "      <th>avg_playback_rate</th>\n",
       "      <th>avg_freq</th>\n",
       "    </tr>\n",
       "  </thead>\n",
       "  <tbody>\n",
       "    <tr>\n",
       "      <th>1</th>\n",
       "      <td>88</td>\n",
       "      <td>NaN</td>\n",
       "      <td>NaN</td>\n",
       "      <td>12633.775000</td>\n",
       "      <td>1.161569</td>\n",
       "      <td>0.212223</td>\n",
       "    </tr>\n",
       "    <tr>\n",
       "      <th>2</th>\n",
       "      <td>89</td>\n",
       "      <td>92.69</td>\n",
       "      <td>41.0</td>\n",
       "      <td>38527.933333</td>\n",
       "      <td>1.400646</td>\n",
       "      <td>0.780402</td>\n",
       "    </tr>\n",
       "    <tr>\n",
       "      <th>3</th>\n",
       "      <td>90</td>\n",
       "      <td>NaN</td>\n",
       "      <td>NaN</td>\n",
       "      <td>0.000000</td>\n",
       "      <td>0.000000</td>\n",
       "      <td>0.000000</td>\n",
       "    </tr>\n",
       "    <tr>\n",
       "      <th>4</th>\n",
       "      <td>91</td>\n",
       "      <td>NaN</td>\n",
       "      <td>NaN</td>\n",
       "      <td>19812.533333</td>\n",
       "      <td>1.607265</td>\n",
       "      <td>0.460513</td>\n",
       "    </tr>\n",
       "    <tr>\n",
       "      <th>5</th>\n",
       "      <td>92</td>\n",
       "      <td>NaN</td>\n",
       "      <td>NaN</td>\n",
       "      <td>0.000000</td>\n",
       "      <td>0.000000</td>\n",
       "      <td>0.000000</td>\n",
       "    </tr>\n",
       "    <tr>\n",
       "      <th>...</th>\n",
       "      <td>...</td>\n",
       "      <td>...</td>\n",
       "      <td>...</td>\n",
       "      <td>...</td>\n",
       "      <td>...</td>\n",
       "      <td>...</td>\n",
       "    </tr>\n",
       "    <tr>\n",
       "      <th>79</th>\n",
       "      <td>166</td>\n",
       "      <td>94.76</td>\n",
       "      <td>70.0</td>\n",
       "      <td>3979.116667</td>\n",
       "      <td>1.686555</td>\n",
       "      <td>0.097051</td>\n",
       "    </tr>\n",
       "    <tr>\n",
       "      <th>80</th>\n",
       "      <td>167</td>\n",
       "      <td>NaN</td>\n",
       "      <td>NaN</td>\n",
       "      <td>5726.700000</td>\n",
       "      <td>1.328165</td>\n",
       "      <td>0.109994</td>\n",
       "    </tr>\n",
       "    <tr>\n",
       "      <th>81</th>\n",
       "      <td>168</td>\n",
       "      <td>94.61</td>\n",
       "      <td>75.0</td>\n",
       "      <td>29035.216667</td>\n",
       "      <td>1.499558</td>\n",
       "      <td>0.629655</td>\n",
       "    </tr>\n",
       "    <tr>\n",
       "      <th>82</th>\n",
       "      <td>169</td>\n",
       "      <td>98.50</td>\n",
       "      <td>82.0</td>\n",
       "      <td>31742.950000</td>\n",
       "      <td>1.417638</td>\n",
       "      <td>0.650769</td>\n",
       "    </tr>\n",
       "    <tr>\n",
       "      <th>83</th>\n",
       "      <td>170</td>\n",
       "      <td>NaN</td>\n",
       "      <td>NaN</td>\n",
       "      <td>0.000000</td>\n",
       "      <td>0.000000</td>\n",
       "      <td>0.000000</td>\n",
       "    </tr>\n",
       "  </tbody>\n",
       "</table>\n",
       "<p>83 rows × 6 columns</p>\n",
       "</div>"
      ],
      "text/plain": [
       "   student_id  project  final  total_watch_time  avg_playback_rate  avg_freq\n",
       "1          88      NaN    NaN      12633.775000           1.161569  0.212223\n",
       "2          89    92.69   41.0      38527.933333           1.400646  0.780402\n",
       "3          90      NaN    NaN          0.000000           0.000000  0.000000\n",
       "4          91      NaN    NaN      19812.533333           1.607265  0.460513\n",
       "5          92      NaN    NaN          0.000000           0.000000  0.000000\n",
       "..        ...      ...    ...               ...                ...       ...\n",
       "79        166    94.76   70.0       3979.116667           1.686555  0.097051\n",
       "80        167      NaN    NaN       5726.700000           1.328165  0.109994\n",
       "81        168    94.61   75.0      29035.216667           1.499558  0.629655\n",
       "82        169    98.50   82.0      31742.950000           1.417638  0.650769\n",
       "83        170      NaN    NaN          0.000000           0.000000  0.000000\n",
       "\n",
       "[83 rows x 6 columns]"
      ]
     },
     "execution_count": 24,
     "metadata": {},
     "output_type": "execute_result"
    }
   ],
   "source": [
    "# 計算總觀看時間\n",
    "total_spent_time = [] # 總觀看時間\n",
    "total_watch_video_time = [] # 觀看的總影片時間\n",
    "\n",
    "for i in student_info['student_id']:\n",
    "    watch_record_i = records[records['student_id'] == int(i)]\n",
    "    # 抓出有在看的資料\n",
    "    real_watch_i = watch_record_i[(watch_record_i['end'] > watch_record_i['start']) & (watch_record_i['playback_rate'] != 0)]\n",
    "    video_time_i = real_watch_i['end'] - real_watch_i['start']# 觀看紀錄 的 影片時間(end - start)\n",
    "    total_watch_video_time.append(sum(video_time_i))\n",
    "    total_spent_time.append(sum(video_time_i/real_watch_i['playback_rate']))\n",
    "\n",
    "student_info['total_watch_time'] = total_spent_time\n",
    "\n",
    "# 計算撥放速度\n",
    "total_spent_time = [x if x!= 0 else 1 for x in total_spent_time]\n",
    "avg_playback_rate = [i/j for (i,j) in zip(total_watch_video_time, total_spent_time)]\n",
    "student_info['avg_playback_rate'] = avg_playback_rate\n",
    "\n",
    "# 計算影片平均觀看次數\n",
    "length_l = list(v_info['meta'])# length of each lecture\n",
    "length_l = [int(i.split('n=>')[1].split('}')[0]) for i in length_l]\n",
    "total_length_l = sum(length_l)\n",
    "student_info['avg_freq'] = student_info['total_watch_time']/(total_length_l/student_info['avg_playback_rate'])\n",
    "\n",
    "\n",
    "student_info"
   ]
  },
  {
   "cell_type": "markdown",
   "metadata": {},
   "source": [
    "### Save data"
   ]
  },
  {
   "cell_type": "code",
   "execution_count": 29,
   "metadata": {},
   "outputs": [],
   "source": [
    "student_info.to_excel('../../data/許哲/OR107.xlsx')"
   ]
  },
  {
   "cell_type": "code",
   "execution_count": 28,
   "metadata": {},
   "outputs": [
    {
     "name": "stdout",
     "output_type": "stream",
     "text": [
      "                            OLS Regression Results                            \n",
      "==============================================================================\n",
      "Dep. Variable:                  final   R-squared:                       0.018\n",
      "Model:                            OLS   Adj. R-squared:                 -0.001\n",
      "Method:                 Least Squares   F-statistic:                    0.9342\n",
      "Date:                Wed, 27 May 2020   Prob (F-statistic):              0.338\n",
      "Time:                        00:38:51   Log-Likelihood:                -217.89\n",
      "No. Observations:                  52   AIC:                             439.8\n",
      "Df Residuals:                      50   BIC:                             443.7\n",
      "Df Model:                           1                                         \n",
      "Covariance Type:            nonrobust                                         \n",
      "=====================================================================================\n",
      "                        coef    std err          t      P>|t|      [0.025      0.975]\n",
      "-------------------------------------------------------------------------------------\n",
      "Intercept            57.9626     13.795      4.202      0.000      30.255      85.670\n",
      "avg_playback_rate     8.8504      9.157      0.967      0.338      -9.542      27.243\n",
      "==============================================================================\n",
      "Omnibus:                        3.425   Durbin-Watson:                   1.842\n",
      "Prob(Omnibus):                  0.180   Jarque-Bera (JB):                3.248\n",
      "Skew:                          -0.596   Prob(JB):                        0.197\n",
      "Kurtosis:                       2.719   Cond. No.                         13.2\n",
      "==============================================================================\n",
      "\n",
      "Warnings:\n",
      "[1] Standard Errors assume that the covariance matrix of the errors is correctly specified.\n"
     ]
    }
   ],
   "source": [
    "import statsmodels.formula.api as smf\n",
    "result = smf.ols('final ~ avg_playback_rate', data = student_info).fit()\n",
    "print(result.summary())"
   ]
  },
  {
   "cell_type": "code",
   "execution_count": null,
   "metadata": {},
   "outputs": [],
   "source": []
  }
 ],
 "metadata": {
  "kernelspec": {
   "display_name": "Python 3",
   "language": "python",
   "name": "python3"
  },
  "language_info": {
   "codemirror_mode": {
    "name": "ipython",
    "version": 3
   },
   "file_extension": ".py",
   "mimetype": "text/x-python",
   "name": "python",
   "nbconvert_exporter": "python",
   "pygments_lexer": "ipython3",
   "version": "3.6.10"
  }
 },
 "nbformat": 4,
 "nbformat_minor": 4
}
