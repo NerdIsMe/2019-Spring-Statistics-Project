{
 "cells": [
  {
   "cell_type": "code",
   "execution_count": 1,
   "metadata": {},
   "outputs": [],
   "source": [
    "from matplotlib import pyplot as plt\n",
    "%matplotlib inline\n",
    "# 設定圖形大小; DPI越大圖越大\n",
    "plt.rcParams[\"figure.dpi\"] = 100\n",
    "import seaborn as sns\n",
    "\n",
    "import pandas as pd\n",
    "import numpy as np\n",
    "import scipy.stats as stats\n",
    "import statsmodels.api as sm\n",
    "import statsmodels.stats.api as sms\n",
    "import statsmodels.formula.api as smf\n",
    "import statsmodels.stats.multicomp as smm\n",
    "import statsmodels\n",
    "import statsmodels.stats.outliers_influence as sso"
   ]
  },
  {
   "cell_type": "code",
   "execution_count": 3,
   "metadata": {},
   "outputs": [],
   "source": [
    "DSAP107 = pd.read_excel('../../../data/Semester weekly regression 2.0/DSAP107.xlsx')"
   ]
  },
  {
   "cell_type": "code",
   "execution_count": 8,
   "metadata": {},
   "outputs": [
    {
     "data": {
      "text/plain": [
       "Index(['Unnamed: 0', 'student_id', 'Section', 'Homework 0 (1554)',\n",
       "       'Homework 1 (1475)', 'Homework 2 (1750)', 'Homework 3 (1808)',\n",
       "       'Homework 4 (1859)', 'Homework 5 (1954)', 'Homework 6 (2053)',\n",
       "       'Homework 7 (2129)', 'Homework8 (2232)', 'Quiz (1582)',\n",
       "       'Midterm (2042)', 'Final (2346)', 'total_watch_time', 'watch_freq',\n",
       "       'backward_sec', 'backward_times', 'forward_sec', 'forward_times',\n",
       "       'pause_freq', 'period 0', 'period 1', 'period 2', 'period 3',\n",
       "       'period 4', 'period 5', 'avg_playback_rate'],\n",
       "      dtype='object')"
      ]
     },
     "execution_count": 8,
     "metadata": {},
     "output_type": "execute_result"
    }
   ],
   "source": [
    "DSAP107.columns"
   ]
  },
  {
   "cell_type": "code",
   "execution_count": 13,
   "metadata": {},
   "outputs": [],
   "source": [
    "result_dsap = smf.ols('Q(\"Midterm (2042)\") ~ total_watch_time + avg_playback_rate ', data = DSAP107).fit()\n",
    "#print(result_dsap)"
   ]
  },
  {
   "cell_type": "code",
   "execution_count": null,
   "metadata": {},
   "outputs": [],
   "source": []
  }
 ],
 "metadata": {
  "kernelspec": {
   "display_name": "Python 3",
   "language": "python",
   "name": "python3"
  },
  "language_info": {
   "codemirror_mode": {
    "name": "ipython",
    "version": 3
   },
   "file_extension": ".py",
   "mimetype": "text/x-python",
   "name": "python",
   "nbconvert_exporter": "python",
   "pygments_lexer": "ipython3",
   "version": "3.6.10"
  }
 },
 "nbformat": 4,
 "nbformat_minor": 4
}
