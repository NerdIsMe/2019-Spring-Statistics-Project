{
 "cells": [
  {
   "cell_type": "markdown",
   "metadata": {},
   "source": [
    "# OR 108"
   ]
  },
  {
   "cell_type": "code",
   "execution_count": 1,
   "metadata": {},
   "outputs": [],
   "source": [
    "import numpy as np\n",
    "import pandas as pd \n",
    "from datetime import datetime"
   ]
  },
  {
   "cell_type": "markdown",
   "metadata": {},
   "source": [
    "### 讀取資料"
   ]
  },
  {
   "cell_type": "code",
   "execution_count": null,
   "metadata": {},
   "outputs": [],
   "source": []
  },
  {
   "cell_type": "code",
   "execution_count": null,
   "metadata": {},
   "outputs": [],
   "source": [
    "def Semester_Record(grades, v_info, records, student_id):\n",
    "\n",
    "# 開一個 table 存等一下計算的資料\n",
    "student_info = pd.DataFrame(data = grades.drop(0)['student_id'])\n",
    "\n",
    "# 計算總觀看時間\n",
    "total_spent_time = [] # 總觀看時間\n",
    "total_watch_video_time = [] # 觀看的總影片時間\n",
    "\n",
    "for i in student_info['student_id']:\n",
    "    watch_record_i = records[records['student_id'] == int(i)]\n",
    "    # 抓出有在看的資料\n",
    "    real_watch_i = watch_record_i[(watch_record_i['end'] > watch_record_i['start']) & (watch_record_i['playback_rate'] != 0)]\n",
    "    video_time_i = real_watch_i['end'] - real_watch_i['start']# 觀看紀錄 的 影片時間(end - start)\n",
    "    total_watch_video_time.append(sum(video_time_i))\n",
    "    total_spent_time.append(sum(video_time_i/real_watch_i['playback_rate']))\n",
    "\n",
    "student_info['total_watch_time'] = total_spent_time\n",
    "\n",
    "# 計算撥放速度\n",
    "total_spent_time = [x if x!= 0 else 1 for x in total_spent_time]\n",
    "avg_playback_rate = [i/j for (i,j) in zip(total_watch_video_time, total_spent_time)]\n",
    "student_info['avg_playback_rate'] = avg_playback_rate\n",
    "\n",
    "# 計算影片平均觀看次數\n",
    "length_l = list(v_info['meta'])# length of each lecture\n",
    "length_l = [int(i.split('n=>')[1].split('}')[0]) for i in length_l]\n",
    "total_length_l = sum(length_l)\n",
    "student_info['avg_freq'] = student_info['total_watch_time']/(total_length_l/student_info['avg_playback_rate'])\n",
    "    \n"
   ]
  }
 ],
 "metadata": {
  "kernelspec": {
   "display_name": "Python 3",
   "language": "python",
   "name": "python3"
  },
  "language_info": {
   "codemirror_mode": {
    "name": "ipython",
    "version": 3
   },
   "file_extension": ".py",
   "mimetype": "text/x-python",
   "name": "python",
   "nbconvert_exporter": "python",
   "pygments_lexer": "ipython3",
   "version": "3.6.10"
  }
 },
 "nbformat": 4,
 "nbformat_minor": 4
}
