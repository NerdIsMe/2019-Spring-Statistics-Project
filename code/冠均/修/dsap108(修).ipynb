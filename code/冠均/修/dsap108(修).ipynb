{
 "cells": [
  {
   "cell_type": "code",
   "execution_count": 1,
   "metadata": {},
   "outputs": [],
   "source": [
    "#載入所需函示庫\n",
    "\n",
    "from matplotlib import pyplot as plt\n",
    "%matplotlib inline\n",
    "# 設定圖形大小; DPI越大圖越大\n",
    "plt.rcParams[\"figure.dpi\"] = 150\n",
    "import seaborn as sns\n",
    "\n",
    "import pandas as pd\n",
    "import numpy as np\n",
    "import scipy.stats as stats\n",
    "import statsmodels.api as sm\n",
    "import statsmodels.stats.api as sms\n",
    "import statsmodels.formula.api as smf\n",
    "import statsmodels.stats.multicomp as smm\n",
    "import statsmodels.stats.outliers_influence as sso\n",
    "import statsmodels"
   ]
  },
  {
   "cell_type": "code",
   "execution_count": 22,
   "metadata": {},
   "outputs": [],
   "source": [
    "def residual_analysis(a):\n",
    "    #Histogram\n",
    "    _ = plt.hist(a.resid_pearson, bins = 'auto')\n",
    "    plt.title('Histogram')\n",
    "    plt.show()\n",
    "    \n",
    "    #Histogram\n",
    "    fig = sm.qqplot(a.resid_pearson, stats.norm, fit=True, line='45')\n",
    "    plt.title('Q-Q Plot')\n",
    "    plt.show()\n",
    "    \n",
    "    #Heteroscedasticity and Homoscedasticity\n",
    "    st, data, ss2 = sso.summary_table(a, alpha=0.05)\n",
    "    #Predicted value\n",
    "    x = data[:, 2]\n",
    "    #Residual\n",
    "    y = data[:, 8]\n",
    "    _ = plt.plot(x, y, 'o', color = 'b')\n",
    "    plt.title('Heteroscedasticity and Homoscedasticity')\n",
    "    plt.xlabel('Predicted Value')\n",
    "    plt.ylabel('Residual')\n",
    "    plt.show()\n",
    "    \n",
    "    #Outliers\n",
    "    st, data, ss2 = sso.summary_table(a, alpha=0.05)\n",
    "    #Predicted value\n",
    "    x = data[:, 2]\n",
    "    #Studentized Residual\n",
    "    y = data[:, 10]\n",
    "    plt.plot(x, y, 'o', color = 'gray')\n",
    "    plt.title('Outliers')\n",
    "    plt.axhline(y=2, color = 'red', lw = 0.8)\n",
    "    plt.axhline(y=-2, color = 'red', lw = 0.8)\n",
    "    plt.show()\n",
    "    \n",
    "    #Influential Observations\n",
    "    x = data[:, 2]\n",
    "    cook_dist = data[:, 11]\n",
    "    plt.plot(x, cook_dist, 'o', color = 'gray')\n",
    "    plt.title(\"Cook's Distance\")\n",
    "    plt.show()"
   ]
  },
  {
   "cell_type": "markdown",
   "metadata": {},
   "source": [
    "## DSAP 108"
   ]
  },
  {
   "cell_type": "markdown",
   "metadata": {},
   "source": [
    "### 影片長度與影片完成度 (倒數)"
   ]
  },
  {
   "cell_type": "code",
   "execution_count": 23,
   "metadata": {},
   "outputs": [
    {
     "name": "stdout",
     "output_type": "stream",
     "text": [
      "Head of dataset:\n"
     ]
    },
    {
     "data": {
      "text/html": [
       "<div>\n",
       "<style scoped>\n",
       "    .dataframe tbody tr th:only-of-type {\n",
       "        vertical-align: middle;\n",
       "    }\n",
       "\n",
       "    .dataframe tbody tr th {\n",
       "        vertical-align: top;\n",
       "    }\n",
       "\n",
       "    .dataframe thead th {\n",
       "        text-align: right;\n",
       "    }\n",
       "</style>\n",
       "<table border=\"1\" class=\"dataframe\">\n",
       "  <thead>\n",
       "    <tr style=\"text-align: right;\">\n",
       "      <th></th>\n",
       "      <th>video_id</th>\n",
       "      <th>len</th>\n",
       "      <th>avg_pause_cnt</th>\n",
       "      <th>avg_freq</th>\n",
       "      <th>avg_playback_rate</th>\n",
       "    </tr>\n",
       "  </thead>\n",
       "  <tbody>\n",
       "    <tr>\n",
       "      <td>0</td>\n",
       "      <td>29509</td>\n",
       "      <td>2431</td>\n",
       "      <td>0.000000</td>\n",
       "      <td>0.000000</td>\n",
       "      <td>0.000000</td>\n",
       "    </tr>\n",
       "    <tr>\n",
       "      <td>1</td>\n",
       "      <td>25668</td>\n",
       "      <td>4010</td>\n",
       "      <td>26.128440</td>\n",
       "      <td>0.776302</td>\n",
       "      <td>1.549803</td>\n",
       "    </tr>\n",
       "    <tr>\n",
       "      <td>2</td>\n",
       "      <td>25657</td>\n",
       "      <td>1081</td>\n",
       "      <td>5.311927</td>\n",
       "      <td>0.811804</td>\n",
       "      <td>1.451234</td>\n",
       "    </tr>\n",
       "    <tr>\n",
       "      <td>3</td>\n",
       "      <td>29511</td>\n",
       "      <td>4302</td>\n",
       "      <td>0.000000</td>\n",
       "      <td>0.000000</td>\n",
       "      <td>0.000000</td>\n",
       "    </tr>\n",
       "    <tr>\n",
       "      <td>4</td>\n",
       "      <td>26022</td>\n",
       "      <td>2508</td>\n",
       "      <td>7.504587</td>\n",
       "      <td>0.583465</td>\n",
       "      <td>1.564830</td>\n",
       "    </tr>\n",
       "  </tbody>\n",
       "</table>\n",
       "</div>"
      ],
      "text/plain": [
       "   video_id   len  avg_pause_cnt  avg_freq  avg_playback_rate\n",
       "0     29509  2431       0.000000  0.000000           0.000000\n",
       "1     25668  4010      26.128440  0.776302           1.549803\n",
       "2     25657  1081       5.311927  0.811804           1.451234\n",
       "3     29511  4302       0.000000  0.000000           0.000000\n",
       "4     26022  2508       7.504587  0.583465           1.564830"
      ]
     },
     "metadata": {},
     "output_type": "display_data"
    },
    {
     "name": "stdout",
     "output_type": "stream",
     "text": [
      "Tail of dataset:\n"
     ]
    },
    {
     "data": {
      "text/html": [
       "<div>\n",
       "<style scoped>\n",
       "    .dataframe tbody tr th:only-of-type {\n",
       "        vertical-align: middle;\n",
       "    }\n",
       "\n",
       "    .dataframe tbody tr th {\n",
       "        vertical-align: top;\n",
       "    }\n",
       "\n",
       "    .dataframe thead th {\n",
       "        text-align: right;\n",
       "    }\n",
       "</style>\n",
       "<table border=\"1\" class=\"dataframe\">\n",
       "  <thead>\n",
       "    <tr style=\"text-align: right;\">\n",
       "      <th></th>\n",
       "      <th>video_id</th>\n",
       "      <th>len</th>\n",
       "      <th>avg_pause_cnt</th>\n",
       "      <th>avg_freq</th>\n",
       "      <th>avg_playback_rate</th>\n",
       "    </tr>\n",
       "  </thead>\n",
       "  <tbody>\n",
       "    <tr>\n",
       "      <td>105</td>\n",
       "      <td>5594</td>\n",
       "      <td>800</td>\n",
       "      <td>6.192661</td>\n",
       "      <td>0.993085</td>\n",
       "      <td>1.431365</td>\n",
       "    </tr>\n",
       "    <tr>\n",
       "      <td>106</td>\n",
       "      <td>5595</td>\n",
       "      <td>374</td>\n",
       "      <td>1.633028</td>\n",
       "      <td>0.770888</td>\n",
       "      <td>1.414099</td>\n",
       "    </tr>\n",
       "    <tr>\n",
       "      <td>107</td>\n",
       "      <td>5596</td>\n",
       "      <td>526</td>\n",
       "      <td>2.155963</td>\n",
       "      <td>0.823839</td>\n",
       "      <td>1.451685</td>\n",
       "    </tr>\n",
       "    <tr>\n",
       "      <td>108</td>\n",
       "      <td>5597</td>\n",
       "      <td>343</td>\n",
       "      <td>0.798165</td>\n",
       "      <td>0.583839</td>\n",
       "      <td>1.404398</td>\n",
       "    </tr>\n",
       "    <tr>\n",
       "      <td>109</td>\n",
       "      <td>5964</td>\n",
       "      <td>1012</td>\n",
       "      <td>0.000000</td>\n",
       "      <td>0.000000</td>\n",
       "      <td>0.000000</td>\n",
       "    </tr>\n",
       "  </tbody>\n",
       "</table>\n",
       "</div>"
      ],
      "text/plain": [
       "     video_id   len  avg_pause_cnt  avg_freq  avg_playback_rate\n",
       "105      5594   800       6.192661  0.993085           1.431365\n",
       "106      5595   374       1.633028  0.770888           1.414099\n",
       "107      5596   526       2.155963  0.823839           1.451685\n",
       "108      5597   343       0.798165  0.583839           1.404398\n",
       "109      5964  1012       0.000000  0.000000           0.000000"
      ]
     },
     "metadata": {},
     "output_type": "display_data"
    }
   ],
   "source": [
    "df1 = pd.read_excel('dsap108_videoLenVs_0614.xlsx')\n",
    "\n",
    "print('Head of dataset:')\n",
    "display(df1.head())\n",
    "\n",
    "print(\"Tail of dataset:\")\n",
    "display(df1.tail())"
   ]
  },
  {
   "cell_type": "code",
   "execution_count": 24,
   "metadata": {},
   "outputs": [
    {
     "data": {
      "text/html": [
       "<div>\n",
       "<style scoped>\n",
       "    .dataframe tbody tr th:only-of-type {\n",
       "        vertical-align: middle;\n",
       "    }\n",
       "\n",
       "    .dataframe tbody tr th {\n",
       "        vertical-align: top;\n",
       "    }\n",
       "\n",
       "    .dataframe thead th {\n",
       "        text-align: right;\n",
       "    }\n",
       "</style>\n",
       "<table border=\"1\" class=\"dataframe\">\n",
       "  <thead>\n",
       "    <tr style=\"text-align: right;\">\n",
       "      <th></th>\n",
       "      <th>video_id</th>\n",
       "      <th>len</th>\n",
       "      <th>avg_pause_cnt</th>\n",
       "      <th>avg_freq</th>\n",
       "      <th>avg_playback_rate</th>\n",
       "    </tr>\n",
       "  </thead>\n",
       "  <tbody>\n",
       "    <tr>\n",
       "      <td>count</td>\n",
       "      <td>84.000000</td>\n",
       "      <td>84.000000</td>\n",
       "      <td>84.000000</td>\n",
       "      <td>84.000000</td>\n",
       "      <td>84.000000</td>\n",
       "    </tr>\n",
       "    <tr>\n",
       "      <td>mean</td>\n",
       "      <td>12094.357143</td>\n",
       "      <td>881.916667</td>\n",
       "      <td>2.491918</td>\n",
       "      <td>0.639039</td>\n",
       "      <td>1.490064</td>\n",
       "    </tr>\n",
       "    <tr>\n",
       "      <td>std</td>\n",
       "      <td>9648.119296</td>\n",
       "      <td>643.904416</td>\n",
       "      <td>3.317758</td>\n",
       "      <td>0.331587</td>\n",
       "      <td>0.198631</td>\n",
       "    </tr>\n",
       "    <tr>\n",
       "      <td>min</td>\n",
       "      <td>4581.000000</td>\n",
       "      <td>114.000000</td>\n",
       "      <td>0.036697</td>\n",
       "      <td>0.000187</td>\n",
       "      <td>0.181818</td>\n",
       "    </tr>\n",
       "    <tr>\n",
       "      <td>25%</td>\n",
       "      <td>4611.500000</td>\n",
       "      <td>510.750000</td>\n",
       "      <td>0.660550</td>\n",
       "      <td>0.469559</td>\n",
       "      <td>1.452599</td>\n",
       "    </tr>\n",
       "    <tr>\n",
       "      <td>50%</td>\n",
       "      <td>5451.500000</td>\n",
       "      <td>716.500000</td>\n",
       "      <td>1.633028</td>\n",
       "      <td>0.728212</td>\n",
       "      <td>1.506623</td>\n",
       "    </tr>\n",
       "    <tr>\n",
       "      <td>75%</td>\n",
       "      <td>23569.250000</td>\n",
       "      <td>911.000000</td>\n",
       "      <td>3.366972</td>\n",
       "      <td>0.890451</td>\n",
       "      <td>1.548029</td>\n",
       "    </tr>\n",
       "    <tr>\n",
       "      <td>max</td>\n",
       "      <td>28142.000000</td>\n",
       "      <td>4010.000000</td>\n",
       "      <td>26.128440</td>\n",
       "      <td>1.159671</td>\n",
       "      <td>1.880576</td>\n",
       "    </tr>\n",
       "  </tbody>\n",
       "</table>\n",
       "</div>"
      ],
      "text/plain": [
       "           video_id          len  avg_pause_cnt   avg_freq  avg_playback_rate\n",
       "count     84.000000    84.000000      84.000000  84.000000          84.000000\n",
       "mean   12094.357143   881.916667       2.491918   0.639039           1.490064\n",
       "std     9648.119296   643.904416       3.317758   0.331587           0.198631\n",
       "min     4581.000000   114.000000       0.036697   0.000187           0.181818\n",
       "25%     4611.500000   510.750000       0.660550   0.469559           1.452599\n",
       "50%     5451.500000   716.500000       1.633028   0.728212           1.506623\n",
       "75%    23569.250000   911.000000       3.366972   0.890451           1.548029\n",
       "max    28142.000000  4010.000000      26.128440   1.159671           1.880576"
      ]
     },
     "execution_count": 24,
     "metadata": {},
     "output_type": "execute_result"
    }
   ],
   "source": [
    "df1 = df1.replace(0, np.nan)\n",
    "df1 = df1.dropna()\n",
    "df1.describe()"
   ]
  },
  {
   "cell_type": "code",
   "execution_count": 25,
   "metadata": {},
   "outputs": [
    {
     "data": {
      "image/png": "[encoded data removed]",
      "text/plain": [
       "<Figure size 432x288 with 1 Axes>"
      ]
     },
     "metadata": {
      "needs_background": "light"
     },
     "output_type": "display_data"
    }
   ],
   "source": [
    "sns.scatterplot(x = df1['len'], y = df1['avg_freq'])\n",
    "\n",
    "plt.title('Scatter Plot')\n",
    "plt.xlabel('Length')\n",
    "plt.ylabel('Average Frequency')\n",
    "plt.show()"
   ]
  },
  {
   "cell_type": "code",
   "execution_count": 26,
   "metadata": {},
   "outputs": [],
   "source": [
    "df1['rec_avg_freq'] = 1 / df1['avg_freq']"
   ]
  },
  {
   "cell_type": "code",
   "execution_count": 27,
   "metadata": {},
   "outputs": [
    {
     "name": "stdout",
     "output_type": "stream",
     "text": [
      "Head of dataset:\n"
     ]
    },
    {
     "data": {
      "text/html": [
       "<div>\n",
       "<style scoped>\n",
       "    .dataframe tbody tr th:only-of-type {\n",
       "        vertical-align: middle;\n",
       "    }\n",
       "\n",
       "    .dataframe tbody tr th {\n",
       "        vertical-align: top;\n",
       "    }\n",
       "\n",
       "    .dataframe thead th {\n",
       "        text-align: right;\n",
       "    }\n",
       "</style>\n",
       "<table border=\"1\" class=\"dataframe\">\n",
       "  <thead>\n",
       "    <tr style=\"text-align: right;\">\n",
       "      <th></th>\n",
       "      <th>video_id</th>\n",
       "      <th>len</th>\n",
       "      <th>avg_pause_cnt</th>\n",
       "      <th>avg_freq</th>\n",
       "      <th>avg_playback_rate</th>\n",
       "      <th>rec_avg_freq</th>\n",
       "    </tr>\n",
       "  </thead>\n",
       "  <tbody>\n",
       "    <tr>\n",
       "      <td>1</td>\n",
       "      <td>25668</td>\n",
       "      <td>4010</td>\n",
       "      <td>26.128440</td>\n",
       "      <td>0.776302</td>\n",
       "      <td>1.549803</td>\n",
       "      <td>1.288158</td>\n",
       "    </tr>\n",
       "    <tr>\n",
       "      <td>2</td>\n",
       "      <td>25657</td>\n",
       "      <td>1081</td>\n",
       "      <td>5.311927</td>\n",
       "      <td>0.811804</td>\n",
       "      <td>1.451234</td>\n",
       "      <td>1.231825</td>\n",
       "    </tr>\n",
       "    <tr>\n",
       "      <td>4</td>\n",
       "      <td>26022</td>\n",
       "      <td>2508</td>\n",
       "      <td>7.504587</td>\n",
       "      <td>0.583465</td>\n",
       "      <td>1.564830</td>\n",
       "      <td>1.713899</td>\n",
       "    </tr>\n",
       "    <tr>\n",
       "      <td>8</td>\n",
       "      <td>26692</td>\n",
       "      <td>1616</td>\n",
       "      <td>1.229358</td>\n",
       "      <td>0.201579</td>\n",
       "      <td>1.644170</td>\n",
       "      <td>4.960825</td>\n",
       "    </tr>\n",
       "    <tr>\n",
       "      <td>9</td>\n",
       "      <td>26705</td>\n",
       "      <td>1374</td>\n",
       "      <td>0.275229</td>\n",
       "      <td>0.111193</td>\n",
       "      <td>1.680588</td>\n",
       "      <td>8.993335</td>\n",
       "    </tr>\n",
       "  </tbody>\n",
       "</table>\n",
       "</div>"
      ],
      "text/plain": [
       "   video_id   len  avg_pause_cnt  avg_freq  avg_playback_rate  rec_avg_freq\n",
       "1     25668  4010      26.128440  0.776302           1.549803      1.288158\n",
       "2     25657  1081       5.311927  0.811804           1.451234      1.231825\n",
       "4     26022  2508       7.504587  0.583465           1.564830      1.713899\n",
       "8     26692  1616       1.229358  0.201579           1.644170      4.960825\n",
       "9     26705  1374       0.275229  0.111193           1.680588      8.993335"
      ]
     },
     "metadata": {},
     "output_type": "display_data"
    }
   ],
   "source": [
    "print('Head of dataset:')\n",
    "display(df1.head())"
   ]
  },
  {
   "cell_type": "code",
   "execution_count": 28,
   "metadata": {},
   "outputs": [
    {
     "data": {
      "image/png": "[encoded data removed]",
      "text/plain": [
       "<Figure size 432x288 with 1 Axes>"
      ]
     },
     "metadata": {
      "needs_background": "light"
     },
     "output_type": "display_data"
    }
   ],
   "source": [
    "sns.scatterplot(x = df1['len'], y = df1['rec_avg_freq'])\n",
    "\n",
    "plt.title('Scatter Plot')\n",
    "plt.xlabel('Length')\n",
    "plt.ylabel('Average Frequency')\n",
    "plt.show()"
   ]
  },
  {
   "cell_type": "code",
   "execution_count": 29,
   "metadata": {},
   "outputs": [
    {
     "name": "stdout",
     "output_type": "stream",
     "text": [
      "                            OLS Regression Results                            \n",
      "==============================================================================\n",
      "Dep. Variable:           rec_avg_freq   R-squared:                       0.006\n",
      "Model:                            OLS   Adj. R-squared:                 -0.006\n",
      "Method:                 Least Squares   F-statistic:                    0.4700\n",
      "Date:                Mon, 22 Jun 2020   Prob (F-statistic):              0.495\n",
      "Time:                        15:29:12   Log-Likelihood:                -653.93\n",
      "No. Observations:                  84   AIC:                             1312.\n",
      "Df Residuals:                      82   BIC:                             1317.\n",
      "Df Model:                           1                                         \n",
      "Covariance Type:            nonrobust                                         \n",
      "==============================================================================\n",
      "                 coef    std err          t      P>|t|      [0.025      0.975]\n",
      "------------------------------------------------------------------------------\n",
      "Intercept     18.4011    109.361      0.168      0.867    -199.152     235.954\n",
      "len            0.0688      0.100      0.686      0.495      -0.131       0.268\n",
      "==============================================================================\n",
      "Omnibus:                      178.830   Durbin-Watson:                   1.774\n",
      "Prob(Omnibus):                  0.000   Jarque-Bera (JB):            21027.909\n",
      "Skew:                           8.724   Prob(JB):                         0.00\n",
      "Kurtosis:                      78.522   Cond. No.                     1.86e+03\n",
      "==============================================================================\n",
      "\n",
      "Warnings:\n",
      "[1] Standard Errors assume that the covariance matrix of the errors is correctly specified.\n",
      "[2] The condition number is large, 1.86e+03. This might indicate that there are\n",
      "strong multicollinearity or other numerical problems.\n"
     ]
    }
   ],
   "source": [
    "# Fit regression model \n",
    "df1_result = smf.ols('rec_avg_freq ~ len', data=df1).fit()\n",
    "\n",
    "# Inspect the results\n",
    "print(df1_result.summary())"
   ]
  },
  {
   "cell_type": "markdown",
   "metadata": {},
   "source": [
    "### Residual Analysis"
   ]
  },
  {
   "cell_type": "code",
   "execution_count": 30,
   "metadata": {},
   "outputs": [
    {
     "data": {
      "image/png": "[encoded data removed]",
      "text/plain": [
       "<Figure size 432x288 with 1 Axes>"
      ]
     },
     "metadata": {
      "needs_background": "light"
     },
     "output_type": "display_data"
    },
    {
     "data": {
      "image/png": "[encoded data removed]",
      "text/plain": [
       "<Figure size 432x288 with 1 Axes>"
      ]
     },
     "metadata": {
      "needs_background": "light"
     },
     "output_type": "display_data"
    },
    {
     "data": {
      "image/png": "[encoded data removed]",
      "text/plain": [
       "<Figure size 432x288 with 1 Axes>"
      ]
     },
     "metadata": {
      "needs_background": "light"
     },
     "output_type": "display_data"
    },
    {
     "data": {
      "image/png": "[encoded data removed]",
      "text/plain": [
       "<Figure size 432x288 with 1 Axes>"
      ]
     },
     "metadata": {
      "needs_background": "light"
     },
     "output_type": "display_data"
    },
    {
     "data": {
      "image/png": "[encoded data removed]",
      "text/plain": [
       "<Figure size 432x288 with 1 Axes>"
      ]
     },
     "metadata": {
      "needs_background": "light"
     },
     "output_type": "display_data"
    }
   ],
   "source": [
    "residual_analysis(df1_result)"
   ]
  },
  {
   "cell_type": "markdown",
   "metadata": {},
   "source": [
    "### Checking Normality Assumption\n",
    "\n",
    "Shapiro Test <br>\n",
    "H0 : The data is normally distributed. <br>\n",
    "H1 : The data is not normally distributed."
   ]
  },
  {
   "cell_type": "code",
   "execution_count": 31,
   "metadata": {},
   "outputs": [
    {
     "name": "stdout",
     "output_type": "stream",
     "text": [
      "Statistics=0.136, p=0.000\n"
     ]
    }
   ],
   "source": [
    "stat, p = stats.shapiro(df1_result.resid_pearson)\n",
    "print('Statistics=%.3f, p=%.3f' % (stat, p))"
   ]
  },
  {
   "cell_type": "markdown",
   "metadata": {},
   "source": [
    "Histogram and Q-Q plot look OK. Because the testing result of Shapiro-Wilk test shows that p_value = 0.059 < 0.05, there is sufficient evidence that the data is not normally distributed at the 5% significance level. Therefore, we conclude that the normality assumption is not satisfied"
   ]
  },
  {
   "cell_type": "markdown",
   "metadata": {},
   "source": [
    "### Checking Heteroscedasticity and Homoscedasticity \n",
    "\n",
    "There is no sign for Heteroscedasticity\n",
    "\n",
    "### Checking Residual Autocorrelation\n",
    "\n",
    "We collect datas independently. Therefore, there will be no sign for autocorrelation\n",
    "\n",
    "### Checking Outliers and Influential Observations\n",
    "\n",
    "There is one outliers <br>\n",
    "There is no observation with Cook’s distance > 1. Therefore, there is no significant influential observation"
   ]
  },
  {
   "cell_type": "code",
   "execution_count": null,
   "metadata": {},
   "outputs": [],
   "source": []
  }
 ],
 "metadata": {
  "kernelspec": {
   "display_name": "Python 3",
   "language": "python",
   "name": "python3"
  },
  "language_info": {
   "codemirror_mode": {
    "name": "ipython",
    "version": 3
   },
   "file_extension": ".py",
   "mimetype": "text/x-python",
   "name": "python",
   "nbconvert_exporter": "python",
   "pygments_lexer": "ipython3",
   "version": "3.7.4"
  }
 },
 "nbformat": 4,
 "nbformat_minor": 4
}
