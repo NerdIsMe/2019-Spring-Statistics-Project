{
 "cells": [
  {
   "cell_type": "code",
   "execution_count": 1,
   "metadata": {},
   "outputs": [],
   "source": [
    "#載入所需函示庫\n",
    "\n",
    "from matplotlib import pyplot as plt\n",
    "%matplotlib inline\n",
    "# 設定圖形大小; DPI越大圖越大\n",
    "plt.rcParams[\"figure.dpi\"] = 150\n",
    "import seaborn as sns\n",
    "\n",
    "import pandas as pd\n",
    "import numpy as np\n",
    "import scipy.stats as stats\n",
    "import statsmodels.api as sm\n",
    "import statsmodels.stats.api as sms\n",
    "import statsmodels.formula.api as smf\n",
    "import statsmodels.stats.multicomp as smm\n",
    "import statsmodels.stats.outliers_influence as sso\n",
    "import statsmodels"
   ]
  },
  {
   "cell_type": "code",
   "execution_count": 2,
   "metadata": {},
   "outputs": [],
   "source": [
    "def residual_analysis(a):\n",
    "    #Histogram\n",
    "    _ = plt.hist(a.resid_pearson, bins = 'auto')\n",
    "    plt.title('Histogram')\n",
    "    plt.show()\n",
    "    \n",
    "    #Histogram\n",
    "    fig = sm.qqplot(a.resid_pearson, stats.norm, fit=True, line='45')\n",
    "    plt.title('Q-Q Plot')\n",
    "    plt.show()\n",
    "    \n",
    "    #Heteroscedasticity and Homoscedasticity\n",
    "    st, data, ss2 = sso.summary_table(a, alpha=0.05)\n",
    "    #Predicted value\n",
    "    x = data[:, 2]\n",
    "    #Residual\n",
    "    y = data[:, 8]\n",
    "    _ = plt.plot(x, y, 'o', color = 'b')\n",
    "    plt.title('Heteroscedasticity and Homoscedasticity')\n",
    "    plt.xlabel('Predicted Value')\n",
    "    plt.ylabel('Residual')\n",
    "    plt.show()\n",
    "    \n",
    "    #Outliers\n",
    "    st, data, ss2 = sso.summary_table(a, alpha=0.05)\n",
    "    #Predicted value\n",
    "    x = data[:, 2]\n",
    "    #Studentized Residual\n",
    "    y = data[:, 10]\n",
    "    plt.plot(x, y, 'o', color = 'gray')\n",
    "    plt.title('Outliers')\n",
    "    plt.axhline(y=2, color = 'red', lw = 0.8)\n",
    "    plt.axhline(y=-2, color = 'red', lw = 0.8)\n",
    "    plt.show()\n",
    "    \n",
    "    #Influential Observations\n",
    "    x = data[:, 2]\n",
    "    cook_dist = data[:, 11]\n",
    "    plt.plot(x, cook_dist, 'o', color = 'gray')\n",
    "    plt.title(\"Cook's Distance\")\n",
    "    plt.show()"
   ]
  },
  {
   "cell_type": "markdown",
   "metadata": {},
   "source": [
    "## OR 107"
   ]
  },
  {
   "cell_type": "markdown",
   "metadata": {},
   "source": [
    "### 影片長度與暫停次數 (exponential)"
   ]
  },
  {
   "cell_type": "code",
   "execution_count": 12,
   "metadata": {},
   "outputs": [
    {
     "name": "stdout",
     "output_type": "stream",
     "text": [
      "Head of dataset:\n"
     ]
    },
    {
     "data": {
      "text/html": [
       "<div>\n",
       "<style scoped>\n",
       "    .dataframe tbody tr th:only-of-type {\n",
       "        vertical-align: middle;\n",
       "    }\n",
       "\n",
       "    .dataframe tbody tr th {\n",
       "        vertical-align: top;\n",
       "    }\n",
       "\n",
       "    .dataframe thead th {\n",
       "        text-align: right;\n",
       "    }\n",
       "</style>\n",
       "<table border=\"1\" class=\"dataframe\">\n",
       "  <thead>\n",
       "    <tr style=\"text-align: right;\">\n",
       "      <th></th>\n",
       "      <th>video_id</th>\n",
       "      <th>len</th>\n",
       "      <th>avg_pause_cnt</th>\n",
       "      <th>avg_freq</th>\n",
       "      <th>avg_playback_rate</th>\n",
       "    </tr>\n",
       "  </thead>\n",
       "  <tbody>\n",
       "    <tr>\n",
       "      <td>0</td>\n",
       "      <td>4526</td>\n",
       "      <td>914</td>\n",
       "      <td>5.915663</td>\n",
       "      <td>0.780378</td>\n",
       "      <td>1.420191</td>\n",
       "    </tr>\n",
       "    <tr>\n",
       "      <td>1</td>\n",
       "      <td>4530</td>\n",
       "      <td>712</td>\n",
       "      <td>2.771084</td>\n",
       "      <td>0.249425</td>\n",
       "      <td>1.307856</td>\n",
       "    </tr>\n",
       "    <tr>\n",
       "      <td>2</td>\n",
       "      <td>4503</td>\n",
       "      <td>784</td>\n",
       "      <td>0.228916</td>\n",
       "      <td>0.023574</td>\n",
       "      <td>1.610781</td>\n",
       "    </tr>\n",
       "    <tr>\n",
       "      <td>3</td>\n",
       "      <td>4511</td>\n",
       "      <td>710</td>\n",
       "      <td>1.662651</td>\n",
       "      <td>0.477295</td>\n",
       "      <td>1.523039</td>\n",
       "    </tr>\n",
       "    <tr>\n",
       "      <td>4</td>\n",
       "      <td>4501</td>\n",
       "      <td>651</td>\n",
       "      <td>5.000000</td>\n",
       "      <td>0.584421</td>\n",
       "      <td>1.465204</td>\n",
       "    </tr>\n",
       "  </tbody>\n",
       "</table>\n",
       "</div>"
      ],
      "text/plain": [
       "   video_id  len  avg_pause_cnt  avg_freq  avg_playback_rate\n",
       "0      4526  914       5.915663  0.780378           1.420191\n",
       "1      4530  712       2.771084  0.249425           1.307856\n",
       "2      4503  784       0.228916  0.023574           1.610781\n",
       "3      4511  710       1.662651  0.477295           1.523039\n",
       "4      4501  651       5.000000  0.584421           1.465204"
      ]
     },
     "metadata": {},
     "output_type": "display_data"
    },
    {
     "name": "stdout",
     "output_type": "stream",
     "text": [
      "Tail of dataset:\n"
     ]
    },
    {
     "data": {
      "text/html": [
       "<div>\n",
       "<style scoped>\n",
       "    .dataframe tbody tr th:only-of-type {\n",
       "        vertical-align: middle;\n",
       "    }\n",
       "\n",
       "    .dataframe tbody tr th {\n",
       "        vertical-align: top;\n",
       "    }\n",
       "\n",
       "    .dataframe thead th {\n",
       "        text-align: right;\n",
       "    }\n",
       "</style>\n",
       "<table border=\"1\" class=\"dataframe\">\n",
       "  <thead>\n",
       "    <tr style=\"text-align: right;\">\n",
       "      <th></th>\n",
       "      <th>video_id</th>\n",
       "      <th>len</th>\n",
       "      <th>avg_pause_cnt</th>\n",
       "      <th>avg_freq</th>\n",
       "      <th>avg_playback_rate</th>\n",
       "    </tr>\n",
       "  </thead>\n",
       "  <tbody>\n",
       "    <tr>\n",
       "      <td>75</td>\n",
       "      <td>4510</td>\n",
       "      <td>692</td>\n",
       "      <td>1.13253</td>\n",
       "      <td>0.598858</td>\n",
       "      <td>1.500569</td>\n",
       "    </tr>\n",
       "    <tr>\n",
       "      <td>76</td>\n",
       "      <td>5954</td>\n",
       "      <td>199</td>\n",
       "      <td>0.00000</td>\n",
       "      <td>0.048617</td>\n",
       "      <td>1.001164</td>\n",
       "    </tr>\n",
       "    <tr>\n",
       "      <td>77</td>\n",
       "      <td>5955</td>\n",
       "      <td>190</td>\n",
       "      <td>0.00000</td>\n",
       "      <td>0.037793</td>\n",
       "      <td>1.052601</td>\n",
       "    </tr>\n",
       "    <tr>\n",
       "      <td>78</td>\n",
       "      <td>5956</td>\n",
       "      <td>188</td>\n",
       "      <td>0.00000</td>\n",
       "      <td>0.055883</td>\n",
       "      <td>1.200992</td>\n",
       "    </tr>\n",
       "    <tr>\n",
       "      <td>79</td>\n",
       "      <td>5953</td>\n",
       "      <td>187</td>\n",
       "      <td>0.00000</td>\n",
       "      <td>0.075833</td>\n",
       "      <td>1.154978</td>\n",
       "    </tr>\n",
       "  </tbody>\n",
       "</table>\n",
       "</div>"
      ],
      "text/plain": [
       "    video_id  len  avg_pause_cnt  avg_freq  avg_playback_rate\n",
       "75      4510  692        1.13253  0.598858           1.500569\n",
       "76      5954  199        0.00000  0.048617           1.001164\n",
       "77      5955  190        0.00000  0.037793           1.052601\n",
       "78      5956  188        0.00000  0.055883           1.200992\n",
       "79      5953  187        0.00000  0.075833           1.154978"
      ]
     },
     "metadata": {},
     "output_type": "display_data"
    }
   ],
   "source": [
    "df1 = pd.read_excel('or107_videoLenVs_0614.xlsx')\n",
    "\n",
    "print('Head of dataset:')\n",
    "display(df1.head())\n",
    "\n",
    "print(\"Tail of dataset:\")\n",
    "display(df1.tail())"
   ]
  },
  {
   "cell_type": "code",
   "execution_count": 13,
   "metadata": {},
   "outputs": [
    {
     "data": {
      "text/html": [
       "<div>\n",
       "<style scoped>\n",
       "    .dataframe tbody tr th:only-of-type {\n",
       "        vertical-align: middle;\n",
       "    }\n",
       "\n",
       "    .dataframe tbody tr th {\n",
       "        vertical-align: top;\n",
       "    }\n",
       "\n",
       "    .dataframe thead th {\n",
       "        text-align: right;\n",
       "    }\n",
       "</style>\n",
       "<table border=\"1\" class=\"dataframe\">\n",
       "  <thead>\n",
       "    <tr style=\"text-align: right;\">\n",
       "      <th></th>\n",
       "      <th>video_id</th>\n",
       "      <th>len</th>\n",
       "      <th>avg_pause_cnt</th>\n",
       "      <th>avg_freq</th>\n",
       "      <th>avg_playback_rate</th>\n",
       "    </tr>\n",
       "  </thead>\n",
       "  <tbody>\n",
       "    <tr>\n",
       "      <td>count</td>\n",
       "      <td>58.000000</td>\n",
       "      <td>58.000000</td>\n",
       "      <td>58.000000</td>\n",
       "      <td>58.000000</td>\n",
       "      <td>58.000000</td>\n",
       "    </tr>\n",
       "    <tr>\n",
       "      <td>mean</td>\n",
       "      <td>4537.793103</td>\n",
       "      <td>837.827586</td>\n",
       "      <td>3.533029</td>\n",
       "      <td>0.556943</td>\n",
       "      <td>1.460915</td>\n",
       "    </tr>\n",
       "    <tr>\n",
       "      <td>std</td>\n",
       "      <td>22.456788</td>\n",
       "      <td>210.557417</td>\n",
       "      <td>2.950984</td>\n",
       "      <td>0.186683</td>\n",
       "      <td>0.076988</td>\n",
       "    </tr>\n",
       "    <tr>\n",
       "      <td>min</td>\n",
       "      <td>4501.000000</td>\n",
       "      <td>355.000000</td>\n",
       "      <td>0.024096</td>\n",
       "      <td>0.023574</td>\n",
       "      <td>1.292094</td>\n",
       "    </tr>\n",
       "    <tr>\n",
       "      <td>25%</td>\n",
       "      <td>4519.250000</td>\n",
       "      <td>691.250000</td>\n",
       "      <td>1.671687</td>\n",
       "      <td>0.487779</td>\n",
       "      <td>1.414891</td>\n",
       "    </tr>\n",
       "    <tr>\n",
       "      <td>50%</td>\n",
       "      <td>4538.000000</td>\n",
       "      <td>813.000000</td>\n",
       "      <td>2.915663</td>\n",
       "      <td>0.585792</td>\n",
       "      <td>1.471480</td>\n",
       "    </tr>\n",
       "    <tr>\n",
       "      <td>75%</td>\n",
       "      <td>4552.750000</td>\n",
       "      <td>989.500000</td>\n",
       "      <td>4.725904</td>\n",
       "      <td>0.650044</td>\n",
       "      <td>1.497086</td>\n",
       "    </tr>\n",
       "    <tr>\n",
       "      <td>max</td>\n",
       "      <td>4578.000000</td>\n",
       "      <td>1271.000000</td>\n",
       "      <td>14.638554</td>\n",
       "      <td>0.919319</td>\n",
       "      <td>1.796787</td>\n",
       "    </tr>\n",
       "  </tbody>\n",
       "</table>\n",
       "</div>"
      ],
      "text/plain": [
       "          video_id          len  avg_pause_cnt   avg_freq  avg_playback_rate\n",
       "count    58.000000    58.000000      58.000000  58.000000          58.000000\n",
       "mean   4537.793103   837.827586       3.533029   0.556943           1.460915\n",
       "std      22.456788   210.557417       2.950984   0.186683           0.076988\n",
       "min    4501.000000   355.000000       0.024096   0.023574           1.292094\n",
       "25%    4519.250000   691.250000       1.671687   0.487779           1.414891\n",
       "50%    4538.000000   813.000000       2.915663   0.585792           1.471480\n",
       "75%    4552.750000   989.500000       4.725904   0.650044           1.497086\n",
       "max    4578.000000  1271.000000      14.638554   0.919319           1.796787"
      ]
     },
     "execution_count": 13,
     "metadata": {},
     "output_type": "execute_result"
    }
   ],
   "source": [
    "df1 = df1.replace(0, np.nan)\n",
    "df1 = df1.dropna()\n",
    "df1.describe()"
   ]
  },
  {
   "cell_type": "code",
   "execution_count": 14,
   "metadata": {},
   "outputs": [
    {
     "data": {
      "image/png": "[encoded data removed]",
      "text/plain": [
       "<Figure size 432x288 with 1 Axes>"
      ]
     },
     "metadata": {
      "needs_background": "light"
     },
     "output_type": "display_data"
    }
   ],
   "source": [
    "sns.scatterplot(x = df1['len'], y = df1['avg_pause_cnt'])\n",
    "\n",
    "plt.title('Scatter Plot')\n",
    "plt.xlabel('Length')\n",
    "plt.ylabel('Average Pause Counts')\n",
    "plt.show()"
   ]
  },
  {
   "cell_type": "code",
   "execution_count": 27,
   "metadata": {},
   "outputs": [],
   "source": [
    "df1['exp_avg_pause_cnt'] = np.exp(df1['avg_pause_cnt'])"
   ]
  },
  {
   "cell_type": "code",
   "execution_count": 28,
   "metadata": {},
   "outputs": [
    {
     "data": {
      "image/png": "[encoded data removed]",
      "text/plain": [
       "<Figure size 432x288 with 1 Axes>"
      ]
     },
     "metadata": {
      "needs_background": "light"
     },
     "output_type": "display_data"
    }
   ],
   "source": [
    "sns.scatterplot(x = df1['len'], y = df1['exp_avg_pause_cnt'])\n",
    "\n",
    "plt.title('Scatter Plot')\n",
    "plt.xlabel('Length')\n",
    "plt.ylabel('Average Pause Counts')\n",
    "plt.show()"
   ]
  },
  {
   "cell_type": "code",
   "execution_count": 29,
   "metadata": {},
   "outputs": [
    {
     "name": "stdout",
     "output_type": "stream",
     "text": [
      "                            OLS Regression Results                            \n",
      "==============================================================================\n",
      "Dep. Variable:      exp_avg_pause_cnt   R-squared:                       0.022\n",
      "Model:                            OLS   Adj. R-squared:                  0.005\n",
      "Method:                 Least Squares   F-statistic:                     1.286\n",
      "Date:                Mon, 22 Jun 2020   Prob (F-statistic):              0.262\n",
      "Time:                        15:52:13   Log-Likelihood:                -812.44\n",
      "No. Observations:                  58   AIC:                             1629.\n",
      "Df Residuals:                      56   BIC:                             1633.\n",
      "Df Model:                           1                                         \n",
      "Covariance Type:            nonrobust                                         \n",
      "==============================================================================\n",
      "                 coef    std err          t      P>|t|      [0.025      0.975]\n",
      "------------------------------------------------------------------------------\n",
      "Intercept  -1.359e+05   1.62e+05     -0.838      0.405   -4.61e+05    1.89e+05\n",
      "len          212.8935    187.698      1.134      0.262    -163.110     588.897\n",
      "==============================================================================\n",
      "Omnibus:                      125.551   Durbin-Watson:                   2.050\n",
      "Prob(Omnibus):                  0.000   Jarque-Bera (JB):             6644.060\n",
      "Skew:                           7.151   Prob(JB):                         0.00\n",
      "Kurtosis:                      53.445   Cond. No.                     3.57e+03\n",
      "==============================================================================\n",
      "\n",
      "Warnings:\n",
      "[1] Standard Errors assume that the covariance matrix of the errors is correctly specified.\n",
      "[2] The condition number is large, 3.57e+03. This might indicate that there are\n",
      "strong multicollinearity or other numerical problems.\n"
     ]
    }
   ],
   "source": [
    "# Fit regression model \n",
    "df1_result = smf.ols('exp_avg_pause_cnt ~ len', data=df1).fit()\n",
    "\n",
    "# Inspect the results\n",
    "print(df1_result.summary())"
   ]
  },
  {
   "cell_type": "markdown",
   "metadata": {},
   "source": [
    "### Residual Analysis"
   ]
  },
  {
   "cell_type": "code",
   "execution_count": 30,
   "metadata": {},
   "outputs": [
    {
     "data": {
      "image/png": "[encoded data removed]",
      "text/plain": [
       "<Figure size 432x288 with 1 Axes>"
      ]
     },
     "metadata": {
      "needs_background": "light"
     },
     "output_type": "display_data"
    },
    {
     "data": {
      "image/png": "[encoded data removed]",
      "text/plain": [
       "<Figure size 432x288 with 1 Axes>"
      ]
     },
     "metadata": {
      "needs_background": "light"
     },
     "output_type": "display_data"
    },
    {
     "data": {
      "image/png": "[encoded data removed]",
      "text/plain": [
       "<Figure size 432x288 with 1 Axes>"
      ]
     },
     "metadata": {
      "needs_background": "light"
     },
     "output_type": "display_data"
    },
    {
     "data": {
      "image/png": "[encoded data removed]",
      "text/plain": [
       "<Figure size 432x288 with 1 Axes>"
      ]
     },
     "metadata": {
      "needs_background": "light"
     },
     "output_type": "display_data"
    },
    {
     "data": {
      "image/png": "[encoded data removed]",
      "text/plain": [
       "<Figure size 432x288 with 1 Axes>"
      ]
     },
     "metadata": {
      "needs_background": "light"
     },
     "output_type": "display_data"
    }
   ],
   "source": [
    "residual_analysis(df1_result)"
   ]
  },
  {
   "cell_type": "markdown",
   "metadata": {},
   "source": [
    "### Checking Normality Assumption\n",
    "\n",
    "Shapiro Test <br>\n",
    "H0 : The data is normally distributed. <br>\n",
    "H1 : The data is not normally distributed."
   ]
  },
  {
   "cell_type": "code",
   "execution_count": 31,
   "metadata": {},
   "outputs": [
    {
     "name": "stdout",
     "output_type": "stream",
     "text": [
      "Statistics=0.225, p=0.000\n"
     ]
    }
   ],
   "source": [
    "stat, p = stats.shapiro(df1_result.resid_pearson)\n",
    "print('Statistics=%.3f, p=%.3f' % (stat, p))"
   ]
  },
  {
   "cell_type": "markdown",
   "metadata": {},
   "source": [
    "Histogram and Q-Q plot look OK. Because the testing result of Shapiro-Wilk test shows that p_value = 0.000 < 0.05, there is sufficient evidence that the data is not normally distributed at the 5% significance level. Therefore, we conclude that the normality assumption is not satisfied"
   ]
  },
  {
   "cell_type": "markdown",
   "metadata": {},
   "source": [
    "### Checking Heteroscedasticity and Homoscedasticity \n",
    "\n",
    "There is no sign for Heteroscedasticity\n",
    "\n",
    "### Checking Residual Autocorrelation\n",
    "\n",
    "We collect datas independently. Therefore, there will be no sign for autocorrelation\n",
    "\n",
    "### Checking Outliers and Influential Observations\n",
    "\n",
    "There is one outlier <br>\n",
    "There is one observation with Cook’s distance > 1. Therefore, there is one significant influential observation"
   ]
  },
  {
   "cell_type": "code",
   "execution_count": null,
   "metadata": {},
   "outputs": [],
   "source": []
  }
 ],
 "metadata": {
  "kernelspec": {
   "display_name": "Python 3",
   "language": "python",
   "name": "python3"
  },
  "language_info": {
   "codemirror_mode": {
    "name": "ipython",
    "version": 3
   },
   "file_extension": ".py",
   "mimetype": "text/x-python",
   "name": "python",
   "nbconvert_exporter": "python",
   "pygments_lexer": "ipython3",
   "version": "3.7.4"
  }
 },
 "nbformat": 4,
 "nbformat_minor": 4
}
