{
 "cells": [
  {
   "cell_type": "code",
   "execution_count": 1,
   "metadata": {},
   "outputs": [],
   "source": [
    "from matplotlib import pyplot as plt\n",
    "%matplotlib inline\n",
    "# 設定圖形大小; DPI越大圖越大\n",
    "plt.rcParams[\"figure.dpi\"] = 100\n",
    "import seaborn as sns\n",
    "\n",
    "import pandas as pd\n",
    "import numpy as np\n",
    "import scipy.stats as stats\n",
    "import statsmodels.api as sm\n",
    "import statsmodels.stats.api as sms\n",
    "import statsmodels.formula.api as smf\n",
    "import statsmodels.stats.multicomp as smm\n",
    "import statsmodels\n",
    "import statsmodels.stats.outliers_influence as sso"
   ]
  },
  {
   "cell_type": "code",
   "execution_count": 2,
   "metadata": {},
   "outputs": [],
   "source": [
    "def check_coef(df, threshold=0):\n",
    "    import seaborn as sns\n",
    "    df_coef = df.corr()\n",
    "    sns.heatmap(df.corr(), annot=True)"
   ]
  },
  {
   "cell_type": "code",
   "execution_count": 3,
   "metadata": {},
   "outputs": [],
   "source": [
    "def scatter_plot(df,x_label, y_label):\n",
    "    y = df[y_label].values\n",
    "    for xi in x_label:\n",
    "        x = df[xi].values\n",
    "        _ = plt.plot(x, y, 'o', color = 'b')\n",
    "        plt.xlabel(xi)\n",
    "        plt.ylabel(y_label)\n",
    "        plt.title(xi+\" to \"+y_label)\n",
    "        plt.show()"
   ]
  },
  {
   "cell_type": "code",
   "execution_count": 4,
   "metadata": {},
   "outputs": [],
   "source": [
    "# x_labels must be a list\n",
    "def linear_regression(df, x_labels, y_label):\n",
    "    x_param = ''\n",
    "    for x in x_labels:\n",
    "        x_param+=\"Q(\\\"{}\\\")+\".format(x)\n",
    "    x_param = x_param[:-1]\n",
    "    y_label  = \"Q(\\\"\"+y_label+\"\\\")\"\n",
    "    df1_result = smf.ols(y_label+\"~\"+x_param, data = df).fit()\n",
    "    print(df1_result.summary())\n",
    "    return df1_result"
   ]
  },
  {
   "cell_type": "code",
   "execution_count": 5,
   "metadata": {},
   "outputs": [],
   "source": [
    "def check_outlier(df, x_label, y_label, df1_result):\n",
    "    import statsmodels.stats.outliers_influence as sso\n",
    "\n",
    "    x = df[x_label].values\n",
    "    st, data, ss2 = sso.summary_table(df1_result, alpha=0.05)\n",
    "    y = data[:, 10]\n",
    "\n",
    "    plt.plot(x, y, 'o', color = 'gray')\n",
    "    plt.axhline(y=2, color = 'red')\n",
    "    plt.axhline(y=-2, color = 'red')\n",
    "    plt.show()\n",
    "    return st, data, ss2"
   ]
  },
  {
   "cell_type": "code",
   "execution_count": 6,
   "metadata": {},
   "outputs": [],
   "source": [
    "def check_influential_observ(df1, x_label, y_label, df1_result):\n",
    "    st, data, ss2 = sso.summary_table(df1_result, alpha=0.05)\n",
    "    x = df1[x_label].values\n",
    "    cook_dist = data[:, 11]\n",
    "    print(cook_dist)\n",
    "    plt.plot(x, cook_dist, 'o', color = 'gray')\n",
    "    plt.axhline(y=1, color=\"red\")\n",
    "    plt.show()"
   ]
  },
  {
   "cell_type": "code",
   "execution_count": 7,
   "metadata": {},
   "outputs": [],
   "source": [
    "def check_norm(resid, bins='auto'):\n",
    "    # Run Shapiro test\n",
    "    stat, p = stats.shapiro(resid)\n",
    "    print(f'Shapiro test: statistics = {stat:.4f}, p = {p:.4f}\\n')\n",
    "    \n",
    "    # Draw historgram\n",
    "    print('Histogram')\n",
    "    plt.hist(resid, bins=bins)\n",
    "    plt.show()\n",
    "    \n",
    "    # Draw QQ plot\n",
    "    print('QQ plot')\n",
    "    fig = sm.qqplot(resid, stats.norm, fit=True, line='45')\n",
    "    plt.show()"
   ]
  },
  {
   "cell_type": "code",
   "execution_count": 8,
   "metadata": {},
   "outputs": [],
   "source": [
    "def getEquation(df_result):\n",
    "    print(\"y = \",end=\"\")\n",
    "    text = ''\n",
    "    for name, coef in zip(df_result.params.index, df_result.params):\n",
    "        text+=\"{:.3f} * {} + \".format(coef, name)\n",
    "    text = text[:-2]\n",
    "    print(text)"
   ]
  },
  {
   "cell_type": "code",
   "execution_count": 9,
   "metadata": {},
   "outputs": [],
   "source": [
    "def reg_analysis(df, x_labels, y_label):\n",
    "    df.fillna(value=0, inplace=True)\n",
    "    display(df.describe())\n",
    "    check_coef(df[x_labels])\n",
    "    print(\"1 if larger than 0.5...\")\n",
    "    scatter_plot(df,x_labels, y_label)\n",
    "    df_result = linear_regression(df, x_labels, y_label)\n",
    "    getEquation(df_result)\n",
    "    print(\"Residual Test...\")\n",
    "    print(\"Normality\")\n",
    "    check_norm(df_result.resid_pearson)\n",
    "    print(\"Influential Observations\")\n",
    "    check_influential_observ(df, 'student_id', y_label, df_result)\n",
    "    print(\"Outliers\")\n",
    "    st, data, ss2 = check_outlier(df, 'student_id', y_label, df_result)\n",
    "    return st, data, ss2"
   ]
  },
  {
   "cell_type": "code",
   "execution_count": 10,
   "metadata": {},
   "outputs": [],
   "source": [
    "def _std_helper(df_col):\n",
    "    return (df_col - df_col.mean())/df_col.std()"
   ]
  },
  {
   "cell_type": "code",
   "execution_count": 11,
   "metadata": {},
   "outputs": [],
   "source": [
    "def standardize(df, x_labels):\n",
    "    for x_label in x_labels:\n",
    "        df[x_label] = _std_helper(df[x_label])\n",
    "    return df"
   ]
  },
  {
   "cell_type": "code",
   "execution_count": 71,
   "metadata": {},
   "outputs": [],
   "source": [
    "#forward_selection(input_df = df18_6, depv = 'Score', indepv = ['Drive', 'Fair', 'Green', 'Putt', 'Sand'])\n",
    "def forward_selection(input_df, x_labels, y_label):\n",
    "    selected = []\n",
    "    candidates = x_labels.copy()\n",
    "\n",
    "    best_adjr2 = -1\n",
    "    best_subset = []\n",
    "\n",
    "    while len(candidates) > 0:\n",
    "        print(\"Current Candidates: \", candidates)\n",
    "        tmp_indep_subset = []\n",
    "        tmp_model_adjr = []\n",
    "        tmp_model_nindep = []\n",
    "\n",
    "        for acandidate in candidates:\n",
    "            tmplist = selected.copy()\n",
    "            tmplist.append(acandidate)\n",
    "            \n",
    "            modelstr =  \"Q(\\\"{}\\\")\".format(y_label)+ \" ~ \" + \"+\".join([\"Q(\\\"{}\\\")\".format(x_label) for x_label in tmplist])\n",
    "            result6tmp = smf.ols(modelstr, data=input_df).fit()\n",
    "            #print(df18_result6tmp.summary())\n",
    "            tmp_indep_subset.append(tmplist)\n",
    "            tmp_model_adjr.append(result6tmp.rsquared_adj)\n",
    "            tmp_model_nindep.append(len(tmplist))\n",
    "        \n",
    "        #find the best element\n",
    "        tmp_adjr2 = np.array(tmp_model_adjr)\n",
    "        tmpind = tmp_adjr2.argmax()\n",
    "        this_adjr2 = tmp_adjr2[tmpind]\n",
    "        selected = tmp_indep_subset[tmpind]\n",
    "\n",
    "        if this_adjr2 <= 0:\n",
    "            raise(\"Encounterd negative Adj R2. Stop.\")\n",
    "\n",
    "        print(\"===============\")\n",
    "        print(\"Current best model: \", selected)\n",
    "        print(\"Current best AdjR2: \", this_adjr2)\n",
    "\n",
    "\n",
    "        if this_adjr2 > best_adjr2:\n",
    "            #print(\" best result updated\")\n",
    "            best_adjr2 = this_adjr2\n",
    "            best_subset = selected\n",
    "\n",
    "\n",
    "        candidates = set(candidates) - set(selected)\n",
    "        candidates = list(candidates)\n",
    "\n",
    "    #print out the best result\n",
    "    print(\"best_adjr2 = \", best_adjr2)\n",
    "    print(\"best_subset = \", best_subset)\n",
    "\n",
    "    #run the best model again\n",
    "    modelstr = \"Q(\\\"{}\\\")\".format(y_label) + \" ~ \" + \"+\".join([\"Q(\\\"{}\\\")\".format(x_label) for x_label in best_subset])\n",
    "    result6b = smf.ols(modelstr, data=input_df).fit()\n",
    "    print(result6b.summary())"
   ]
  },
  {
   "cell_type": "code",
   "execution_count": 72,
   "metadata": {},
   "outputs": [
    {
     "name": "stdout",
     "output_type": "stream",
     "text": [
      "Current Candidates:  ['total_watch_time', 'all_actions', 'period 0', 'period 1', 'period 2', 'period 3', 'period 4', 'period 5', 'avg_playback_rate']\n",
      "===============\n",
      "Current best model:  ['total_watch_time']\n",
      "Current best AdjR2:  0.3799304982567857\n",
      "Current Candidates:  ['period 3', 'period 1', 'period 5', 'period 0', 'period 4', 'avg_playback_rate', 'period 2', 'all_actions']\n",
      "===============\n",
      "Current best model:  ['total_watch_time', 'avg_playback_rate']\n",
      "Current best AdjR2:  0.46596942798832697\n",
      "Current Candidates:  ['period 3', 'period 5', 'period 1', 'period 0', 'period 4', 'period 2', 'all_actions']\n",
      "===============\n",
      "Current best model:  ['total_watch_time', 'avg_playback_rate', 'period 4']\n",
      "Current best AdjR2:  0.4785752429512693\n",
      "Current Candidates:  ['period 3', 'period 1', 'period 5', 'period 0', 'period 2', 'all_actions']\n",
      "===============\n",
      "Current best model:  ['total_watch_time', 'avg_playback_rate', 'period 4', 'period 0']\n",
      "Current best AdjR2:  0.47666237803330047\n",
      "Current Candidates:  ['period 2', 'period 3', 'period 5', 'period 1', 'all_actions']\n",
      "===============\n",
      "Current best model:  ['total_watch_time', 'avg_playback_rate', 'period 4', 'period 0', 'period 2']\n",
      "Current best AdjR2:  0.47449504805495\n",
      "Current Candidates:  ['period 1', 'all_actions', 'period 5', 'period 3']\n",
      "===============\n",
      "Current best model:  ['total_watch_time', 'avg_playback_rate', 'period 4', 'period 0', 'period 2', 'period 5']\n",
      "Current best AdjR2:  0.47205842067124015\n",
      "Current Candidates:  ['period 1', 'all_actions', 'period 3']\n",
      "===============\n",
      "Current best model:  ['total_watch_time', 'avg_playback_rate', 'period 4', 'period 0', 'period 2', 'period 5', 'period 3']\n",
      "Current best AdjR2:  0.47778944968812265\n",
      "Current Candidates:  ['period 1', 'all_actions']\n",
      "===============\n",
      "Current best model:  ['total_watch_time', 'avg_playback_rate', 'period 4', 'period 0', 'period 2', 'period 5', 'period 3', 'period 1']\n",
      "Current best AdjR2:  0.47769365535073605\n",
      "Current Candidates:  ['all_actions']\n",
      "===============\n",
      "Current best model:  ['total_watch_time', 'avg_playback_rate', 'period 4', 'period 0', 'period 2', 'period 5', 'period 3', 'period 1', 'all_actions']\n",
      "Current best AdjR2:  0.4728010715933416\n",
      "best_adjr2 =  0.4785752429512693\n",
      "best_subset =  ['total_watch_time', 'avg_playback_rate', 'period 4']\n",
      "                            OLS Regression Results                            \n",
      "==============================================================================\n",
      "Dep. Variable:             Q(\"final\")   R-squared:                       0.494\n",
      "Model:                            OLS   Adj. R-squared:                  0.479\n",
      "Method:                 Least Squares   F-statistic:                     32.82\n",
      "Date:                Mon, 15 Jun 2020   Prob (F-statistic):           6.83e-15\n",
      "Time:                        01:39:39   Log-Likelihood:                -483.92\n",
      "No. Observations:                 105   AIC:                             975.8\n",
      "Df Residuals:                     101   BIC:                             986.5\n",
      "Df Model:                           3                                         \n",
      "Covariance Type:            nonrobust                                         \n",
      "==========================================================================================\n",
      "                             coef    std err          t      P>|t|      [0.025      0.975]\n",
      "------------------------------------------------------------------------------------------\n",
      "Intercept                -12.3309      8.135     -1.516      0.133     -28.468       3.806\n",
      "Q(\"total_watch_time\")      0.0015      0.000      7.327      0.000       0.001       0.002\n",
      "Q(\"avg_playback_rate\")    26.6753      5.787      4.609      0.000      15.195      38.156\n",
      "Q(\"period 4\")            -30.8546     16.573     -1.862      0.066     -63.732       2.022\n",
      "==============================================================================\n",
      "Omnibus:                        7.175   Durbin-Watson:                   1.865\n",
      "Prob(Omnibus):                  0.028   Jarque-Bera (JB):                6.205\n",
      "Skew:                          -0.510   Prob(JB):                       0.0449\n",
      "Kurtosis:                       2.384   Cond. No.                     1.54e+05\n",
      "==============================================================================\n",
      "\n",
      "Warnings:\n",
      "[1] Standard Errors assume that the covariance matrix of the errors is correctly specified.\n",
      "[2] The condition number is large, 1.54e+05. This might indicate that there are\n",
      "strong multicollinearity or other numerical problems.\n"
     ]
    }
   ],
   "source": [
    "x_labels = cols\n",
    "y_label = 'final'\n",
    "forward_selection(DSAP107_sub, cols, y_label)"
   ]
  },
  {
   "cell_type": "markdown",
   "metadata": {},
   "source": [
    "## OR107"
   ]
  },
  {
   "cell_type": "code",
   "execution_count": 12,
   "metadata": {},
   "outputs": [
    {
     "ename": "NameError",
     "evalue": "name 'OR107' is not defined",
     "output_type": "error",
     "traceback": [
      "\u001b[0;31m---------------------------------------------------------------------------\u001b[0m",
      "\u001b[0;31mNameError\u001b[0m                                 Traceback (most recent call last)",
      "\u001b[0;32m<ipython-input-12-2ebb484f988a>\u001b[0m in \u001b[0;36m<module>\u001b[0;34m\u001b[0m\n\u001b[0;32m----> 1\u001b[0;31m \u001b[0mOR107\u001b[0m\u001b[0;34m.\u001b[0m\u001b[0mcolumns\u001b[0m\u001b[0;34m\u001b[0m\u001b[0;34m\u001b[0m\u001b[0m\n\u001b[0m",
      "\u001b[0;31mNameError\u001b[0m: name 'OR107' is not defined"
     ]
    }
   ],
   "source": [
    "OR107.columns"
   ]
  },
  {
   "cell_type": "code",
   "execution_count": null,
   "metadata": {
    "scrolled": true
   },
   "outputs": [],
   "source": [
    "x_labels = list(OR107.columns[3:])\n",
    "y_label = \"final\"\n",
    "st, data, ss2 = reg_analysis(OR107, x_labels, y_label)"
   ]
  },
  {
   "cell_type": "code",
   "execution_count": null,
   "metadata": {},
   "outputs": [],
   "source": [
    "pd.DataFrame(columns=ss2)"
   ]
  },
  {
   "cell_type": "markdown",
   "metadata": {},
   "source": [
    "## Check the outliers"
   ]
  },
  {
   "cell_type": "code",
   "execution_count": 371,
   "metadata": {},
   "outputs": [],
   "source": [
    "outliers = pd.DataFrame(data[ (abs(data[:,10]))>2])"
   ]
  },
  {
   "cell_type": "code",
   "execution_count": 372,
   "metadata": {},
   "outputs": [
    {
     "data": {
      "text/html": [
       "<div>\n",
       "<style scoped>\n",
       "    .dataframe tbody tr th:only-of-type {\n",
       "        vertical-align: middle;\n",
       "    }\n",
       "\n",
       "    .dataframe tbody tr th {\n",
       "        vertical-align: top;\n",
       "    }\n",
       "\n",
       "    .dataframe thead th {\n",
       "        text-align: right;\n",
       "    }\n",
       "</style>\n",
       "<table border=\"1\" class=\"dataframe\">\n",
       "  <thead>\n",
       "    <tr style=\"text-align: right;\">\n",
       "      <th></th>\n",
       "      <th>0</th>\n",
       "      <th>1</th>\n",
       "      <th>2</th>\n",
       "      <th>3</th>\n",
       "      <th>4</th>\n",
       "      <th>5</th>\n",
       "      <th>6</th>\n",
       "      <th>7</th>\n",
       "      <th>8</th>\n",
       "      <th>9</th>\n",
       "      <th>10</th>\n",
       "      <th>11</th>\n",
       "    </tr>\n",
       "  </thead>\n",
       "  <tbody>\n",
       "    <tr>\n",
       "      <th>0</th>\n",
       "      <td>49.0</td>\n",
       "      <td>30.0</td>\n",
       "      <td>89.456950</td>\n",
       "      <td>14.935340</td>\n",
       "      <td>59.697636</td>\n",
       "      <td>119.216264</td>\n",
       "      <td>27.526030</td>\n",
       "      <td>151.387870</td>\n",
       "      <td>-59.456950</td>\n",
       "      <td>22.801774</td>\n",
       "      <td>-2.607558</td>\n",
       "      <td>0.324129</td>\n",
       "    </tr>\n",
       "    <tr>\n",
       "      <th>1</th>\n",
       "      <td>59.0</td>\n",
       "      <td>76.0</td>\n",
       "      <td>22.588566</td>\n",
       "      <td>5.623666</td>\n",
       "      <td>11.383167</td>\n",
       "      <td>33.793965</td>\n",
       "      <td>-32.867570</td>\n",
       "      <td>78.044702</td>\n",
       "      <td>53.411434</td>\n",
       "      <td>26.671326</td>\n",
       "      <td>2.002579</td>\n",
       "      <td>0.019810</td>\n",
       "    </tr>\n",
       "    <tr>\n",
       "      <th>2</th>\n",
       "      <td>67.0</td>\n",
       "      <td>96.0</td>\n",
       "      <td>30.491686</td>\n",
       "      <td>6.545707</td>\n",
       "      <td>17.449080</td>\n",
       "      <td>43.534292</td>\n",
       "      <td>-25.364662</td>\n",
       "      <td>86.348035</td>\n",
       "      <td>65.508314</td>\n",
       "      <td>26.460139</td>\n",
       "      <td>2.475736</td>\n",
       "      <td>0.041677</td>\n",
       "    </tr>\n",
       "  </tbody>\n",
       "</table>\n",
       "</div>"
      ],
      "text/plain": [
       "      0     1          2          3          4           5          6  \\\n",
       "0  49.0  30.0  89.456950  14.935340  59.697636  119.216264  27.526030   \n",
       "1  59.0  76.0  22.588566   5.623666  11.383167   33.793965 -32.867570   \n",
       "2  67.0  96.0  30.491686   6.545707  17.449080   43.534292 -25.364662   \n",
       "\n",
       "            7          8          9        10        11  \n",
       "0  151.387870 -59.456950  22.801774 -2.607558  0.324129  \n",
       "1   78.044702  53.411434  26.671326  2.002579  0.019810  \n",
       "2   86.348035  65.508314  26.460139  2.475736  0.041677  "
      ]
     },
     "execution_count": 372,
     "metadata": {},
     "output_type": "execute_result"
    }
   ],
   "source": [
    "outliers"
   ]
  },
  {
   "cell_type": "markdown",
   "metadata": {},
   "source": [
    "## check influential observations"
   ]
  },
  {
   "cell_type": "code",
   "execution_count": 373,
   "metadata": {},
   "outputs": [],
   "source": [
    "influ_obs = pd.DataFrame(data[(abs(data[:,11]))>1])"
   ]
  },
  {
   "cell_type": "code",
   "execution_count": 374,
   "metadata": {},
   "outputs": [
    {
     "data": {
      "text/html": [
       "<div>\n",
       "<style scoped>\n",
       "    .dataframe tbody tr th:only-of-type {\n",
       "        vertical-align: middle;\n",
       "    }\n",
       "\n",
       "    .dataframe tbody tr th {\n",
       "        vertical-align: top;\n",
       "    }\n",
       "\n",
       "    .dataframe thead th {\n",
       "        text-align: right;\n",
       "    }\n",
       "</style>\n",
       "<table border=\"1\" class=\"dataframe\">\n",
       "  <thead>\n",
       "    <tr style=\"text-align: right;\">\n",
       "      <th></th>\n",
       "      <th>0</th>\n",
       "      <th>1</th>\n",
       "      <th>2</th>\n",
       "      <th>3</th>\n",
       "      <th>4</th>\n",
       "      <th>5</th>\n",
       "      <th>6</th>\n",
       "      <th>7</th>\n",
       "      <th>8</th>\n",
       "      <th>9</th>\n",
       "      <th>10</th>\n",
       "      <th>11</th>\n",
       "    </tr>\n",
       "  </thead>\n",
       "  <tbody>\n",
       "    <tr>\n",
       "      <th>0</th>\n",
       "      <td>21.0</td>\n",
       "      <td>53.0</td>\n",
       "      <td>74.961382</td>\n",
       "      <td>24.638539</td>\n",
       "      <td>25.868021</td>\n",
       "      <td>124.054744</td>\n",
       "      <td>1.749497</td>\n",
       "      <td>148.173268</td>\n",
       "      <td>-21.961382</td>\n",
       "      <td>11.658801</td>\n",
       "      <td>-1.883674</td>\n",
       "      <td>1.760724</td>\n",
       "    </tr>\n",
       "  </tbody>\n",
       "</table>\n",
       "</div>"
      ],
      "text/plain": [
       "      0     1          2          3          4           5         6  \\\n",
       "0  21.0  53.0  74.961382  24.638539  25.868021  124.054744  1.749497   \n",
       "\n",
       "            7          8          9        10        11  \n",
       "0  148.173268 -21.961382  11.658801 -1.883674  1.760724  "
      ]
     },
     "execution_count": 374,
     "metadata": {},
     "output_type": "execute_result"
    }
   ],
   "source": [
    "influ_obs"
   ]
  },
  {
   "cell_type": "markdown",
   "metadata": {},
   "source": [
    "## Extract outliers and influential data"
   ]
  },
  {
   "cell_type": "code",
   "execution_count": 375,
   "metadata": {
    "scrolled": true
   },
   "outputs": [
    {
     "data": {
      "text/html": [
       "<div>\n",
       "<style scoped>\n",
       "    .dataframe tbody tr th:only-of-type {\n",
       "        vertical-align: middle;\n",
       "    }\n",
       "\n",
       "    .dataframe tbody tr th {\n",
       "        vertical-align: top;\n",
       "    }\n",
       "\n",
       "    .dataframe thead th {\n",
       "        text-align: right;\n",
       "    }\n",
       "</style>\n",
       "<table border=\"1\" class=\"dataframe\">\n",
       "  <thead>\n",
       "    <tr style=\"text-align: right;\">\n",
       "      <th></th>\n",
       "      <th>student_id</th>\n",
       "      <th>project</th>\n",
       "      <th>final</th>\n",
       "      <th>total_watch_time</th>\n",
       "      <th>avg_playback_rate</th>\n",
       "      <th>avg_freq</th>\n",
       "      <th>backward_sec</th>\n",
       "      <th>backward_times</th>\n",
       "      <th>forward_sec</th>\n",
       "      <th>forward_times</th>\n",
       "      <th>pause_freq</th>\n",
       "    </tr>\n",
       "  </thead>\n",
       "  <tbody>\n",
       "    <tr>\n",
       "      <th>49.0</th>\n",
       "      <td>137</td>\n",
       "      <td>78.78</td>\n",
       "      <td>73.0</td>\n",
       "      <td>10342.333333</td>\n",
       "      <td>1.600413</td>\n",
       "      <td>0.239367</td>\n",
       "      <td>151</td>\n",
       "      <td>16</td>\n",
       "      <td>500</td>\n",
       "      <td>57</td>\n",
       "      <td>119</td>\n",
       "    </tr>\n",
       "    <tr>\n",
       "      <th>59.0</th>\n",
       "      <td>147</td>\n",
       "      <td>90.80</td>\n",
       "      <td>71.0</td>\n",
       "      <td>22731.500000</td>\n",
       "      <td>1.741416</td>\n",
       "      <td>0.572459</td>\n",
       "      <td>24491</td>\n",
       "      <td>222</td>\n",
       "      <td>14296</td>\n",
       "      <td>544</td>\n",
       "      <td>1097</td>\n",
       "    </tr>\n",
       "    <tr>\n",
       "      <th>67.0</th>\n",
       "      <td>155</td>\n",
       "      <td>96.50</td>\n",
       "      <td>53.0</td>\n",
       "      <td>35500.833333</td>\n",
       "      <td>1.403376</td>\n",
       "      <td>0.720488</td>\n",
       "      <td>3683</td>\n",
       "      <td>125</td>\n",
       "      <td>2516</td>\n",
       "      <td>31</td>\n",
       "      <td>424</td>\n",
       "    </tr>\n",
       "    <tr>\n",
       "      <th>21.0</th>\n",
       "      <td>109</td>\n",
       "      <td>0.00</td>\n",
       "      <td>0.0</td>\n",
       "      <td>0.000000</td>\n",
       "      <td>0.000000</td>\n",
       "      <td>0.000000</td>\n",
       "      <td>0</td>\n",
       "      <td>0</td>\n",
       "      <td>0</td>\n",
       "      <td>0</td>\n",
       "      <td>0</td>\n",
       "    </tr>\n",
       "  </tbody>\n",
       "</table>\n",
       "</div>"
      ],
      "text/plain": [
       "      student_id  project  final  total_watch_time  avg_playback_rate  \\\n",
       "49.0         137    78.78   73.0      10342.333333           1.600413   \n",
       "59.0         147    90.80   71.0      22731.500000           1.741416   \n",
       "67.0         155    96.50   53.0      35500.833333           1.403376   \n",
       "21.0         109     0.00    0.0          0.000000           0.000000   \n",
       "\n",
       "      avg_freq  backward_sec  backward_times  forward_sec  forward_times  \\\n",
       "49.0  0.239367           151              16          500             57   \n",
       "59.0  0.572459         24491             222        14296            544   \n",
       "67.0  0.720488          3683             125         2516             31   \n",
       "21.0  0.000000             0               0            0              0   \n",
       "\n",
       "      pause_freq  \n",
       "49.0         119  \n",
       "59.0        1097  \n",
       "67.0         424  \n",
       "21.0           0  "
      ]
     },
     "execution_count": 375,
     "metadata": {},
     "output_type": "execute_result"
    }
   ],
   "source": [
    "OR107.loc[list(outliers[0])+list(influ_obs[0])]"
   ]
  },
  {
   "cell_type": "code",
   "execution_count": 387,
   "metadata": {},
   "outputs": [],
   "source": [
    "OR107_extract = OR107[~OR107.index.isin(outliers[0])]"
   ]
  },
  {
   "cell_type": "markdown",
   "metadata": {},
   "source": [
    "## DSAP107"
   ]
  },
  {
   "cell_type": "code",
   "execution_count": 51,
   "metadata": {},
   "outputs": [],
   "source": [
    "DSAP107 = pd.read_excel('../../code/Nick/DSAP107.xlsx')"
   ]
  },
  {
   "cell_type": "code",
   "execution_count": 52,
   "metadata": {},
   "outputs": [
    {
     "data": {
      "text/plain": [
       "105"
      ]
     },
     "execution_count": 52,
     "metadata": {},
     "output_type": "execute_result"
    }
   ],
   "source": [
    "len(DSAP107)"
   ]
  },
  {
   "cell_type": "code",
   "execution_count": 53,
   "metadata": {},
   "outputs": [],
   "source": [
    "DSAP107['midterm'] = DSAP107['Midterm (2042)']\n",
    "DSAP107['final'] = DSAP107['Final (2346)']"
   ]
  },
  {
   "cell_type": "code",
   "execution_count": 54,
   "metadata": {},
   "outputs": [],
   "source": [
    "DSAP107_sub = DSAP107[['student_id','midterm', 'final', 'total_watch_time', 'watch_freq',\n",
    "       'backward_sec', 'backward_times', 'forward_sec', 'forward_times',\n",
    "       'pause_freq', 'period 0', 'period 1', 'period 2', 'period 3',\n",
    "       'period 4', 'period 5', 'avg_playback_rate']]"
   ]
  },
  {
   "cell_type": "markdown",
   "metadata": {},
   "source": [
    "## calculate period proportion"
   ]
  },
  {
   "cell_type": "code",
   "execution_count": 55,
   "metadata": {},
   "outputs": [
    {
     "name": "stderr",
     "output_type": "stream",
     "text": [
      "/opt/anaconda3/lib/python3.7/site-packages/pandas/core/indexing.py:965: SettingWithCopyWarning: \n",
      "A value is trying to be set on a copy of a slice from a DataFrame.\n",
      "Try using .loc[row_indexer,col_indexer] = value instead\n",
      "\n",
      "See the caveats in the documentation: https://pandas.pydata.org/pandas-docs/stable/user_guide/indexing.html#returning-a-view-versus-a-copy\n",
      "  self.obj[item] = s\n"
     ]
    }
   ],
   "source": [
    "DSAP107_sub.loc[:,'period 0'] = DSAP107_sub['period 0']/DSAP107_sub['total_watch_time']\n",
    "DSAP107_sub.loc[:,'period 1'] = DSAP107_sub['period 1']/DSAP107_sub['total_watch_time']\n",
    "DSAP107_sub.loc[:,'period 2'] = DSAP107_sub['period 2']/DSAP107_sub['total_watch_time']\n",
    "DSAP107_sub.loc[:,'period 3'] = DSAP107_sub['period 3']/DSAP107_sub['total_watch_time']\n",
    "DSAP107_sub.loc[:,'period 4'] = DSAP107_sub['period 4']/DSAP107_sub['total_watch_time']\n",
    "DSAP107_sub.loc[:,'period 5'] = DSAP107_sub['period 5']/DSAP107_sub['total_watch_time']"
   ]
  },
  {
   "cell_type": "code",
   "execution_count": 56,
   "metadata": {},
   "outputs": [
    {
     "data": {
      "text/html": [
       "<div>\n",
       "<style scoped>\n",
       "    .dataframe tbody tr th:only-of-type {\n",
       "        vertical-align: middle;\n",
       "    }\n",
       "\n",
       "    .dataframe tbody tr th {\n",
       "        vertical-align: top;\n",
       "    }\n",
       "\n",
       "    .dataframe thead th {\n",
       "        text-align: right;\n",
       "    }\n",
       "</style>\n",
       "<table border=\"1\" class=\"dataframe\">\n",
       "  <thead>\n",
       "    <tr style=\"text-align: right;\">\n",
       "      <th></th>\n",
       "      <th>student_id</th>\n",
       "      <th>midterm</th>\n",
       "      <th>final</th>\n",
       "      <th>total_watch_time</th>\n",
       "      <th>watch_freq</th>\n",
       "      <th>backward_sec</th>\n",
       "      <th>backward_times</th>\n",
       "      <th>forward_sec</th>\n",
       "      <th>forward_times</th>\n",
       "      <th>pause_freq</th>\n",
       "      <th>period 0</th>\n",
       "      <th>period 1</th>\n",
       "      <th>period 2</th>\n",
       "      <th>period 3</th>\n",
       "      <th>period 4</th>\n",
       "      <th>period 5</th>\n",
       "      <th>avg_playback_rate</th>\n",
       "    </tr>\n",
       "  </thead>\n",
       "  <tbody>\n",
       "    <tr>\n",
       "      <th>0</th>\n",
       "      <td>64</td>\n",
       "      <td>0</td>\n",
       "      <td>0.0</td>\n",
       "      <td>13331.983333</td>\n",
       "      <td>0.545342</td>\n",
       "      <td>551</td>\n",
       "      <td>26</td>\n",
       "      <td>1517</td>\n",
       "      <td>10</td>\n",
       "      <td>112</td>\n",
       "      <td>0.030753</td>\n",
       "      <td>0.000000</td>\n",
       "      <td>0.259826</td>\n",
       "      <td>0.376452</td>\n",
       "      <td>0.288089</td>\n",
       "      <td>0.044880</td>\n",
       "      <td>1.492651</td>\n",
       "    </tr>\n",
       "    <tr>\n",
       "      <th>1</th>\n",
       "      <td>65</td>\n",
       "      <td>0</td>\n",
       "      <td>0.0</td>\n",
       "      <td>3572.000000</td>\n",
       "      <td>0.092675</td>\n",
       "      <td>88</td>\n",
       "      <td>5</td>\n",
       "      <td>442</td>\n",
       "      <td>9</td>\n",
       "      <td>13</td>\n",
       "      <td>0.998600</td>\n",
       "      <td>0.000000</td>\n",
       "      <td>0.000000</td>\n",
       "      <td>0.000000</td>\n",
       "      <td>0.000000</td>\n",
       "      <td>0.001400</td>\n",
       "      <td>1.000000</td>\n",
       "    </tr>\n",
       "    <tr>\n",
       "      <th>2</th>\n",
       "      <td>66</td>\n",
       "      <td>82</td>\n",
       "      <td>76.0</td>\n",
       "      <td>36625.000000</td>\n",
       "      <td>1.033947</td>\n",
       "      <td>6685</td>\n",
       "      <td>171</td>\n",
       "      <td>7912</td>\n",
       "      <td>248</td>\n",
       "      <td>237</td>\n",
       "      <td>0.718635</td>\n",
       "      <td>0.034567</td>\n",
       "      <td>0.060833</td>\n",
       "      <td>0.083331</td>\n",
       "      <td>0.022498</td>\n",
       "      <td>0.080137</td>\n",
       "      <td>1.000000</td>\n",
       "    </tr>\n",
       "    <tr>\n",
       "      <th>3</th>\n",
       "      <td>67</td>\n",
       "      <td>79</td>\n",
       "      <td>79.0</td>\n",
       "      <td>18789.383333</td>\n",
       "      <td>0.963616</td>\n",
       "      <td>6459</td>\n",
       "      <td>116</td>\n",
       "      <td>6784</td>\n",
       "      <td>161</td>\n",
       "      <td>255</td>\n",
       "      <td>0.058242</td>\n",
       "      <td>0.073652</td>\n",
       "      <td>0.182785</td>\n",
       "      <td>0.615654</td>\n",
       "      <td>0.057213</td>\n",
       "      <td>0.012454</td>\n",
       "      <td>1.847426</td>\n",
       "    </tr>\n",
       "    <tr>\n",
       "      <th>4</th>\n",
       "      <td>68</td>\n",
       "      <td>52</td>\n",
       "      <td>57.0</td>\n",
       "      <td>13719.766667</td>\n",
       "      <td>0.673371</td>\n",
       "      <td>3958</td>\n",
       "      <td>83</td>\n",
       "      <td>6892</td>\n",
       "      <td>171</td>\n",
       "      <td>244</td>\n",
       "      <td>0.048835</td>\n",
       "      <td>0.000000</td>\n",
       "      <td>0.047122</td>\n",
       "      <td>0.594231</td>\n",
       "      <td>0.278944</td>\n",
       "      <td>0.030868</td>\n",
       "      <td>1.742595</td>\n",
       "    </tr>\n",
       "  </tbody>\n",
       "</table>\n",
       "</div>"
      ],
      "text/plain": [
       "   student_id  midterm  final  total_watch_time  watch_freq  backward_sec  \\\n",
       "0          64        0    0.0      13331.983333    0.545342           551   \n",
       "1          65        0    0.0       3572.000000    0.092675            88   \n",
       "2          66       82   76.0      36625.000000    1.033947          6685   \n",
       "3          67       79   79.0      18789.383333    0.963616          6459   \n",
       "4          68       52   57.0      13719.766667    0.673371          3958   \n",
       "\n",
       "   backward_times  forward_sec  forward_times  pause_freq  period 0  period 1  \\\n",
       "0              26         1517             10         112  0.030753  0.000000   \n",
       "1               5          442              9          13  0.998600  0.000000   \n",
       "2             171         7912            248         237  0.718635  0.034567   \n",
       "3             116         6784            161         255  0.058242  0.073652   \n",
       "4              83         6892            171         244  0.048835  0.000000   \n",
       "\n",
       "   period 2  period 3  period 4  period 5  avg_playback_rate  \n",
       "0  0.259826  0.376452  0.288089  0.044880           1.492651  \n",
       "1  0.000000  0.000000  0.000000  0.001400           1.000000  \n",
       "2  0.060833  0.083331  0.022498  0.080137           1.000000  \n",
       "3  0.182785  0.615654  0.057213  0.012454           1.847426  \n",
       "4  0.047122  0.594231  0.278944  0.030868           1.742595  "
      ]
     },
     "execution_count": 56,
     "metadata": {},
     "output_type": "execute_result"
    }
   ],
   "source": [
    "DSAP107_sub.head()"
   ]
  },
  {
   "cell_type": "code",
   "execution_count": 57,
   "metadata": {},
   "outputs": [
    {
     "data": {
      "text/plain": [
       "Index(['student_id', 'midterm', 'final', 'total_watch_time', 'watch_freq',\n",
       "       'backward_sec', 'backward_times', 'forward_sec', 'forward_times',\n",
       "       'pause_freq', 'period 0', 'period 1', 'period 2', 'period 3',\n",
       "       'period 4', 'period 5', 'avg_playback_rate'],\n",
       "      dtype='object')"
      ]
     },
     "execution_count": 57,
     "metadata": {},
     "output_type": "execute_result"
    }
   ],
   "source": [
    "DSAP107_sub.columns"
   ]
  },
  {
   "cell_type": "markdown",
   "metadata": {},
   "source": [
    "## add up all actions (incl. forward backward pause)"
   ]
  },
  {
   "cell_type": "code",
   "execution_count": 58,
   "metadata": {},
   "outputs": [
    {
     "name": "stderr",
     "output_type": "stream",
     "text": [
      "/opt/anaconda3/lib/python3.7/site-packages/pandas/core/indexing.py:844: SettingWithCopyWarning: \n",
      "A value is trying to be set on a copy of a slice from a DataFrame.\n",
      "Try using .loc[row_indexer,col_indexer] = value instead\n",
      "\n",
      "See the caveats in the documentation: https://pandas.pydata.org/pandas-docs/stable/user_guide/indexing.html#returning-a-view-versus-a-copy\n",
      "  self.obj[key] = _infer_fill_value(value)\n",
      "/opt/anaconda3/lib/python3.7/site-packages/pandas/core/indexing.py:965: SettingWithCopyWarning: \n",
      "A value is trying to be set on a copy of a slice from a DataFrame.\n",
      "Try using .loc[row_indexer,col_indexer] = value instead\n",
      "\n",
      "See the caveats in the documentation: https://pandas.pydata.org/pandas-docs/stable/user_guide/indexing.html#returning-a-view-versus-a-copy\n",
      "  self.obj[item] = s\n"
     ]
    }
   ],
   "source": [
    "DSAP107_sub.loc[:,'thinking_times'] = DSAP107_sub['backward_times']+DSAP107_sub['pause_freq']\n",
    "DSAP107_sub.loc[:,'boring_times'] = DSAP107_sub['forward_times']+DSAP107_sub['pause_freq']\n",
    "DSAP107_sub.loc[:,'all_actions'] = DSAP107_sub['forward_times']+DSAP107_sub['backward_times']"
   ]
  },
  {
   "cell_type": "code",
   "execution_count": 59,
   "metadata": {},
   "outputs": [],
   "source": [
    "cols = ['total_watch_time','all_actions', 'period 0', 'period 1', 'period 2', 'period 3',\n",
    "       'period 4', 'period 5', 'avg_playback_rate']"
   ]
  },
  {
   "cell_type": "code",
   "execution_count": 60,
   "metadata": {
    "scrolled": true
   },
   "outputs": [
    {
     "data": {
      "image/png": "[encoded data removed]",
      "text/plain": [
       "<Figure size 600x400 with 2 Axes>"
      ]
     },
     "metadata": {
      "needs_background": "light"
     },
     "output_type": "display_data"
    }
   ],
   "source": [
    "check_coef(DSAP107_sub[cols])"
   ]
  },
  {
   "cell_type": "code",
   "execution_count": 73,
   "metadata": {
    "scrolled": true
   },
   "outputs": [
    {
     "name": "stderr",
     "output_type": "stream",
     "text": [
      "/opt/anaconda3/lib/python3.7/site-packages/pandas/core/frame.py:4153: SettingWithCopyWarning: \n",
      "A value is trying to be set on a copy of a slice from a DataFrame\n",
      "\n",
      "See the caveats in the documentation: https://pandas.pydata.org/pandas-docs/stable/user_guide/indexing.html#returning-a-view-versus-a-copy\n",
      "  downcast=downcast,\n"
     ]
    },
    {
     "data": {
      "text/html": [
       "<div>\n",
       "<style scoped>\n",
       "    .dataframe tbody tr th:only-of-type {\n",
       "        vertical-align: middle;\n",
       "    }\n",
       "\n",
       "    .dataframe tbody tr th {\n",
       "        vertical-align: top;\n",
       "    }\n",
       "\n",
       "    .dataframe thead th {\n",
       "        text-align: right;\n",
       "    }\n",
       "</style>\n",
       "<table border=\"1\" class=\"dataframe\">\n",
       "  <thead>\n",
       "    <tr style=\"text-align: right;\">\n",
       "      <th></th>\n",
       "      <th>student_id</th>\n",
       "      <th>midterm</th>\n",
       "      <th>final</th>\n",
       "      <th>total_watch_time</th>\n",
       "      <th>watch_freq</th>\n",
       "      <th>backward_sec</th>\n",
       "      <th>backward_times</th>\n",
       "      <th>forward_sec</th>\n",
       "      <th>forward_times</th>\n",
       "      <th>pause_freq</th>\n",
       "      <th>period 0</th>\n",
       "      <th>period 1</th>\n",
       "      <th>period 2</th>\n",
       "      <th>period 3</th>\n",
       "      <th>period 4</th>\n",
       "      <th>period 5</th>\n",
       "      <th>avg_playback_rate</th>\n",
       "      <th>thinking_times</th>\n",
       "      <th>boring_times</th>\n",
       "      <th>all_actions</th>\n",
       "    </tr>\n",
       "  </thead>\n",
       "  <tbody>\n",
       "    <tr>\n",
       "      <th>count</th>\n",
       "      <td>105.000000</td>\n",
       "      <td>105.000000</td>\n",
       "      <td>105.000000</td>\n",
       "      <td>105.000000</td>\n",
       "      <td>105.000000</td>\n",
       "      <td>105.000000</td>\n",
       "      <td>105.000000</td>\n",
       "      <td>105.00000</td>\n",
       "      <td>105.000000</td>\n",
       "      <td>105.000000</td>\n",
       "      <td>105.000000</td>\n",
       "      <td>105.000000</td>\n",
       "      <td>105.000000</td>\n",
       "      <td>105.000000</td>\n",
       "      <td>105.000000</td>\n",
       "      <td>105.000000</td>\n",
       "      <td>105.000000</td>\n",
       "      <td>105.000000</td>\n",
       "      <td>105.000000</td>\n",
       "      <td>105.000000</td>\n",
       "    </tr>\n",
       "    <tr>\n",
       "      <th>mean</th>\n",
       "      <td>116.000000</td>\n",
       "      <td>47.838095</td>\n",
       "      <td>47.890476</td>\n",
       "      <td>18651.977256</td>\n",
       "      <td>0.794627</td>\n",
       "      <td>6124.809524</td>\n",
       "      <td>159.295238</td>\n",
       "      <td>5675.00000</td>\n",
       "      <td>227.990476</td>\n",
       "      <td>255.361905</td>\n",
       "      <td>0.149212</td>\n",
       "      <td>0.019328</td>\n",
       "      <td>0.091802</td>\n",
       "      <td>0.300740</td>\n",
       "      <td>0.194864</td>\n",
       "      <td>0.186910</td>\n",
       "      <td>1.436895</td>\n",
       "      <td>414.657143</td>\n",
       "      <td>483.352381</td>\n",
       "      <td>387.285714</td>\n",
       "    </tr>\n",
       "    <tr>\n",
       "      <th>std</th>\n",
       "      <td>30.454885</td>\n",
       "      <td>41.221989</td>\n",
       "      <td>34.290121</td>\n",
       "      <td>12435.747678</td>\n",
       "      <td>0.509255</td>\n",
       "      <td>8258.033065</td>\n",
       "      <td>190.863318</td>\n",
       "      <td>7785.35521</td>\n",
       "      <td>395.543625</td>\n",
       "      <td>300.335586</td>\n",
       "      <td>0.181474</td>\n",
       "      <td>0.103123</td>\n",
       "      <td>0.126142</td>\n",
       "      <td>0.234093</td>\n",
       "      <td>0.155768</td>\n",
       "      <td>0.184532</td>\n",
       "      <td>0.459068</td>\n",
       "      <td>445.700310</td>\n",
       "      <td>666.359729</td>\n",
       "      <td>538.309814</td>\n",
       "    </tr>\n",
       "    <tr>\n",
       "      <th>min</th>\n",
       "      <td>64.000000</td>\n",
       "      <td>0.000000</td>\n",
       "      <td>0.000000</td>\n",
       "      <td>0.000000</td>\n",
       "      <td>0.000000</td>\n",
       "      <td>0.000000</td>\n",
       "      <td>0.000000</td>\n",
       "      <td>0.00000</td>\n",
       "      <td>0.000000</td>\n",
       "      <td>0.000000</td>\n",
       "      <td>0.000000</td>\n",
       "      <td>0.000000</td>\n",
       "      <td>0.000000</td>\n",
       "      <td>0.000000</td>\n",
       "      <td>0.000000</td>\n",
       "      <td>0.000000</td>\n",
       "      <td>0.000000</td>\n",
       "      <td>0.000000</td>\n",
       "      <td>0.000000</td>\n",
       "      <td>0.000000</td>\n",
       "    </tr>\n",
       "    <tr>\n",
       "      <th>25%</th>\n",
       "      <td>90.000000</td>\n",
       "      <td>0.000000</td>\n",
       "      <td>0.000000</td>\n",
       "      <td>12851.733333</td>\n",
       "      <td>0.540704</td>\n",
       "      <td>702.000000</td>\n",
       "      <td>26.000000</td>\n",
       "      <td>894.00000</td>\n",
       "      <td>13.000000</td>\n",
       "      <td>77.000000</td>\n",
       "      <td>0.005333</td>\n",
       "      <td>0.000000</td>\n",
       "      <td>0.000000</td>\n",
       "      <td>0.136433</td>\n",
       "      <td>0.060000</td>\n",
       "      <td>0.047477</td>\n",
       "      <td>1.248772</td>\n",
       "      <td>112.000000</td>\n",
       "      <td>118.000000</td>\n",
       "      <td>40.000000</td>\n",
       "    </tr>\n",
       "    <tr>\n",
       "      <th>50%</th>\n",
       "      <td>116.000000</td>\n",
       "      <td>73.000000</td>\n",
       "      <td>60.000000</td>\n",
       "      <td>18766.033333</td>\n",
       "      <td>0.793550</td>\n",
       "      <td>3856.000000</td>\n",
       "      <td>68.000000</td>\n",
       "      <td>2601.00000</td>\n",
       "      <td>71.000000</td>\n",
       "      <td>159.000000</td>\n",
       "      <td>0.096391</td>\n",
       "      <td>0.000000</td>\n",
       "      <td>0.040204</td>\n",
       "      <td>0.286305</td>\n",
       "      <td>0.187044</td>\n",
       "      <td>0.152464</td>\n",
       "      <td>1.480752</td>\n",
       "      <td>258.000000</td>\n",
       "      <td>266.000000</td>\n",
       "      <td>192.000000</td>\n",
       "    </tr>\n",
       "    <tr>\n",
       "      <th>75%</th>\n",
       "      <td>142.000000</td>\n",
       "      <td>85.000000</td>\n",
       "      <td>76.000000</td>\n",
       "      <td>26227.966667</td>\n",
       "      <td>1.081602</td>\n",
       "      <td>8914.000000</td>\n",
       "      <td>242.000000</td>\n",
       "      <td>6892.00000</td>\n",
       "      <td>292.000000</td>\n",
       "      <td>321.000000</td>\n",
       "      <td>0.196236</td>\n",
       "      <td>0.000000</td>\n",
       "      <td>0.150168</td>\n",
       "      <td>0.399171</td>\n",
       "      <td>0.288089</td>\n",
       "      <td>0.282104</td>\n",
       "      <td>1.745431</td>\n",
       "      <td>569.000000</td>\n",
       "      <td>574.000000</td>\n",
       "      <td>457.000000</td>\n",
       "    </tr>\n",
       "    <tr>\n",
       "      <th>max</th>\n",
       "      <td>168.000000</td>\n",
       "      <td>98.000000</td>\n",
       "      <td>91.500000</td>\n",
       "      <td>69769.233333</td>\n",
       "      <td>2.687745</td>\n",
       "      <td>47268.000000</td>\n",
       "      <td>869.000000</td>\n",
       "      <td>46298.00000</td>\n",
       "      <td>2353.000000</td>\n",
       "      <td>2282.000000</td>\n",
       "      <td>0.998600</td>\n",
       "      <td>1.000000</td>\n",
       "      <td>0.760000</td>\n",
       "      <td>1.000000</td>\n",
       "      <td>0.674660</td>\n",
       "      <td>0.991624</td>\n",
       "      <td>2.380491</td>\n",
       "      <td>2539.000000</td>\n",
       "      <td>4421.000000</td>\n",
       "      <td>2896.000000</td>\n",
       "    </tr>\n",
       "  </tbody>\n",
       "</table>\n",
       "</div>"
      ],
      "text/plain": [
       "       student_id     midterm       final  total_watch_time  watch_freq  \\\n",
       "count  105.000000  105.000000  105.000000        105.000000  105.000000   \n",
       "mean   116.000000   47.838095   47.890476      18651.977256    0.794627   \n",
       "std     30.454885   41.221989   34.290121      12435.747678    0.509255   \n",
       "min     64.000000    0.000000    0.000000          0.000000    0.000000   \n",
       "25%     90.000000    0.000000    0.000000      12851.733333    0.540704   \n",
       "50%    116.000000   73.000000   60.000000      18766.033333    0.793550   \n",
       "75%    142.000000   85.000000   76.000000      26227.966667    1.081602   \n",
       "max    168.000000   98.000000   91.500000      69769.233333    2.687745   \n",
       "\n",
       "       backward_sec  backward_times  forward_sec  forward_times   pause_freq  \\\n",
       "count    105.000000      105.000000    105.00000     105.000000   105.000000   \n",
       "mean    6124.809524      159.295238   5675.00000     227.990476   255.361905   \n",
       "std     8258.033065      190.863318   7785.35521     395.543625   300.335586   \n",
       "min        0.000000        0.000000      0.00000       0.000000     0.000000   \n",
       "25%      702.000000       26.000000    894.00000      13.000000    77.000000   \n",
       "50%     3856.000000       68.000000   2601.00000      71.000000   159.000000   \n",
       "75%     8914.000000      242.000000   6892.00000     292.000000   321.000000   \n",
       "max    47268.000000      869.000000  46298.00000    2353.000000  2282.000000   \n",
       "\n",
       "         period 0    period 1    period 2    period 3    period 4    period 5  \\\n",
       "count  105.000000  105.000000  105.000000  105.000000  105.000000  105.000000   \n",
       "mean     0.149212    0.019328    0.091802    0.300740    0.194864    0.186910   \n",
       "std      0.181474    0.103123    0.126142    0.234093    0.155768    0.184532   \n",
       "min      0.000000    0.000000    0.000000    0.000000    0.000000    0.000000   \n",
       "25%      0.005333    0.000000    0.000000    0.136433    0.060000    0.047477   \n",
       "50%      0.096391    0.000000    0.040204    0.286305    0.187044    0.152464   \n",
       "75%      0.196236    0.000000    0.150168    0.399171    0.288089    0.282104   \n",
       "max      0.998600    1.000000    0.760000    1.000000    0.674660    0.991624   \n",
       "\n",
       "       avg_playback_rate  thinking_times  boring_times  all_actions  \n",
       "count         105.000000      105.000000    105.000000   105.000000  \n",
       "mean            1.436895      414.657143    483.352381   387.285714  \n",
       "std             0.459068      445.700310    666.359729   538.309814  \n",
       "min             0.000000        0.000000      0.000000     0.000000  \n",
       "25%             1.248772      112.000000    118.000000    40.000000  \n",
       "50%             1.480752      258.000000    266.000000   192.000000  \n",
       "75%             1.745431      569.000000    574.000000   457.000000  \n",
       "max             2.380491     2539.000000   4421.000000  2896.000000  "
      ]
     },
     "metadata": {},
     "output_type": "display_data"
    },
    {
     "name": "stdout",
     "output_type": "stream",
     "text": [
      "1 if larger than 0.5...\n"
     ]
    },
    {
     "data": {
      "image/png": "[encoded data removed]",
      "text/plain": [
       "<Figure size 600x400 with 2 Axes>"
      ]
     },
     "metadata": {
      "needs_background": "light"
     },
     "output_type": "display_data"
    },
    {
     "data": {
      "image/png": "[encoded data removed]",
      "text/plain": [
       "<Figure size 600x400 with 1 Axes>"
      ]
     },
     "metadata": {
      "needs_background": "light"
     },
     "output_type": "display_data"
    },
    {
     "data": {
      "image/png": "[encoded data removed]",
      "text/plain": [
       "<Figure size 600x400 with 1 Axes>"
      ]
     },
     "metadata": {
      "needs_background": "light"
     },
     "output_type": "display_data"
    },
    {
     "data": {
      "image/png": "[encoded data removed]",
      "text/plain": [
       "<Figure size 600x400 with 1 Axes>"
      ]
     },
     "metadata": {
      "needs_background": "light"
     },
     "output_type": "display_data"
    },
    {
     "data": {
      "image/png": "[encoded data removed]",
      "text/plain": [
       "<Figure size 600x400 with 1 Axes>"
      ]
     },
     "metadata": {
      "needs_background": "light"
     },
     "output_type": "display_data"
    },
    {
     "data": {
      "image/png": "[encoded data removed]",
      "text/plain": [
       "<Figure size 600x400 with 1 Axes>"
      ]
     },
     "metadata": {
      "needs_background": "light"
     },
     "output_type": "display_data"
    },
    {
     "data": {
      "image/png": "[encoded data removed]",
      "text/plain": [
       "<Figure size 600x400 with 1 Axes>"
      ]
     },
     "metadata": {
      "needs_background": "light"
     },
     "output_type": "display_data"
    },
    {
     "data": {
      "image/png": "[encoded data removed]",
      "text/plain": [
       "<Figure size 600x400 with 1 Axes>"
      ]
     },
     "metadata": {
      "needs_background": "light"
     },
     "output_type": "display_data"
    },
    {
     "data": {
      "image/png": "[encoded data removed]",
      "text/plain": [
       "<Figure size 600x400 with 1 Axes>"
      ]
     },
     "metadata": {
      "needs_background": "light"
     },
     "output_type": "display_data"
    },
    {
     "name": "stdout",
     "output_type": "stream",
     "text": [
      "                            OLS Regression Results                            \n",
      "==============================================================================\n",
      "Dep. Variable:             Q(\"final\")   R-squared:                       0.518\n",
      "Model:                            OLS   Adj. R-squared:                  0.473\n",
      "Method:                 Least Squares   F-statistic:                     11.36\n",
      "Date:                Mon, 15 Jun 2020   Prob (F-statistic):           6.77e-12\n",
      "Time:                        01:46:54   Log-Likelihood:                -481.28\n",
      "No. Observations:                 105   AIC:                             982.6\n",
      "Df Residuals:                      95   BIC:                             1009.\n",
      "Df Model:                           9                                         \n",
      "Covariance Type:            nonrobust                                         \n",
      "==========================================================================================\n",
      "                             coef    std err          t      P>|t|      [0.025      0.975]\n",
      "------------------------------------------------------------------------------------------\n",
      "Intercept              -1.618e-14     10.164  -1.59e-15      1.000     -20.179      20.179\n",
      "Q(\"total_watch_time\")      0.0016      0.000      6.725      0.000       0.001       0.002\n",
      "Q(\"all_actions\")           0.0017      0.005      0.330      0.742      -0.009       0.012\n",
      "Q(\"period 0\")            -41.0887     21.076     -1.950      0.054     -82.931       0.753\n",
      "Q(\"period 1\")            -25.9747     27.198     -0.955      0.342     -79.969      28.019\n",
      "Q(\"period 2\")            -42.1934     26.290     -1.605      0.112     -94.385       9.999\n",
      "Q(\"period 3\")            -31.5650     19.182     -1.646      0.103     -69.646       6.516\n",
      "Q(\"period 4\")            -63.8859     23.296     -2.742      0.007    -110.134     -17.638\n",
      "Q(\"period 5\")            -34.5799     20.182     -1.713      0.090     -74.647       5.487\n",
      "Q(\"avg_playback_rate\")    38.9778      8.881      4.389      0.000      21.346      56.609\n",
      "==============================================================================\n",
      "Omnibus:                        4.517   Durbin-Watson:                   1.890\n",
      "Prob(Omnibus):                  0.104   Jarque-Bera (JB):                4.302\n",
      "Skew:                          -0.437   Prob(JB):                        0.116\n",
      "Kurtosis:                       2.533   Cond. No.                     4.08e+05\n",
      "==============================================================================\n",
      "\n",
      "Warnings:\n",
      "[1] Standard Errors assume that the covariance matrix of the errors is correctly specified.\n",
      "[2] The condition number is large, 4.08e+05. This might indicate that there are\n",
      "strong multicollinearity or other numerical problems.\n",
      "y = -0.000 * Intercept + 0.002 * Q(\"total_watch_time\") + 0.002 * Q(\"all_actions\") + -41.089 * Q(\"period 0\") + -25.975 * Q(\"period 1\") + -42.193 * Q(\"period 2\") + -31.565 * Q(\"period 3\") + -63.886 * Q(\"period 4\") + -34.580 * Q(\"period 5\") + 38.978 * Q(\"avg_playback_rate\") \n",
      "Residual Test...\n",
      "Normality\n",
      "Shapiro test: statistics = 0.9691, p = 0.0149\n",
      "\n",
      "Histogram\n"
     ]
    },
    {
     "data": {
      "image/png": "[encoded data removed]",
      "text/plain": [
       "<Figure size 600x400 with 1 Axes>"
      ]
     },
     "metadata": {
      "needs_background": "light"
     },
     "output_type": "display_data"
    },
    {
     "name": "stdout",
     "output_type": "stream",
     "text": [
      "QQ plot\n"
     ]
    },
    {
     "data": {
      "image/png": "[encoded data removed]",
      "text/plain": [
       "<Figure size 600x400 with 1 Axes>"
      ]
     },
     "metadata": {
      "needs_background": "light"
     },
     "output_type": "display_data"
    },
    {
     "name": "stdout",
     "output_type": "stream",
     "text": [
      "Influential Observations\n",
      "[9.70875638e-03 1.33650117e-03 9.48398783e-03 1.39382448e-03\n",
      " 4.32373545e-04 3.22508867e-02 1.65124021e-03 1.23495429e-02\n",
      " 1.60156044e-03 3.88942569e-03 1.85551489e-05 5.70026316e-03\n",
      " 6.32719235e-03 2.31628197e-03 1.13619626e-02 1.83648120e-02\n",
      " 7.51529508e-05 1.24499334e-02 3.62245340e-04 2.05867442e-02\n",
      " 1.68293155e-03 3.89064698e-04 8.50485737e-06 1.70443708e+00\n",
      " 2.88831965e-03 1.26786926e-02 9.74307923e-03 1.96494935e-02\n",
      " 3.59034038e-03 1.98044733e-03 1.59371929e-02 4.55141491e-04\n",
      " 5.12384949e-04 2.12720614e-03 2.17411323e-02 1.10884059e-03\n",
      " 2.40143521e-02 1.01395728e-32 6.04453631e-03 1.18417747e-02\n",
      " 3.97770218e-02 3.65955521e-03 9.46369847e-03 4.16260441e-04\n",
      " 7.16581487e-03 4.92496121e-05 4.11460933e-03 7.74831968e-05\n",
      " 1.01395728e-32 7.96366670e-07 3.70392755e-02 1.52725666e-02\n",
      " 1.75439470e-01 4.50137616e-06 3.50755626e-04 5.01452190e-05\n",
      " 1.01395728e-32 9.01341590e-03 2.46395177e-02 5.30920029e-03\n",
      " 5.26694946e-03 9.10011715e-03 2.75308967e-02 7.74160146e-03\n",
      " 2.23691356e-03 5.09995574e-03 9.92087627e-03 1.01395728e-32\n",
      " 1.11147932e-04 3.00921379e-02 2.63355438e-03 1.01395728e-32\n",
      " 5.15610419e-02 3.22293626e-03 3.33593357e-03 8.50149272e-04\n",
      " 4.57101378e-03 1.88369450e-03 1.22088289e-03 1.89764147e-02\n",
      " 7.42421276e-06 6.14047878e-03 8.49857264e-03 3.75719142e-06\n",
      " 1.34848686e-04 2.01023862e-03 5.17917087e-03 4.97252311e-03\n",
      " 1.01395728e-32 6.08692211e-03 1.51367838e-02 4.27705754e-03\n",
      " 8.26951690e-03 3.13695435e-03 4.07943993e-03 1.06216184e-04\n",
      " 1.30500213e-02 1.32199951e-02 1.35161931e-05 3.44502728e-03\n",
      " 5.26674237e-03 1.21313788e-02 9.29301163e-03 1.72122171e-04\n",
      " 1.60244420e-03]\n"
     ]
    },
    {
     "data": {
      "image/png": "[encoded data removed]",
      "text/plain": [
       "<Figure size 600x400 with 1 Axes>"
      ]
     },
     "metadata": {
      "needs_background": "light"
     },
     "output_type": "display_data"
    },
    {
     "name": "stdout",
     "output_type": "stream",
     "text": [
      "Outliers\n"
     ]
    },
    {
     "data": {
      "image/png": "[encoded data removed]",
      "text/plain": [
       "<Figure size 600x400 with 1 Axes>"
      ]
     },
     "metadata": {
      "needs_background": "light"
     },
     "output_type": "display_data"
    }
   ],
   "source": [
    "x_labels = cols\n",
    "y_label = 'final'\n",
    "st, data, ss2 = reg_analysis(DSAP107_sub, x_labels, y_label)"
   ]
  },
  {
   "cell_type": "code",
   "execution_count": 68,
   "metadata": {},
   "outputs": [
    {
     "name": "stdout",
     "output_type": "stream",
     "text": [
      "Current Candidates:  ['total_watch_time', 'all_actions', 'period 0', 'period 1', 'period 2', 'period 3', 'period 4', 'period 5', 'avg_playback_rate']\n"
     ]
    },
    {
     "ename": "PatsyError",
     "evalue": "expected a noun, but instead the expression ended\n    Q(\"final\") ~ Q(\"total_watch_time\")+\n                                      ^",
     "output_type": "error",
     "traceback": [
      "\u001b[0;31m---------------------------------------------------------------------------\u001b[0m",
      "\u001b[0;31mPatsyError\u001b[0m                                Traceback (most recent call last)",
      "\u001b[0;32m<ipython-input-68-c86867f9bd57>\u001b[0m in \u001b[0;36m<module>\u001b[0;34m\u001b[0m\n\u001b[1;32m      1\u001b[0m \u001b[0mx_labels\u001b[0m \u001b[0;34m=\u001b[0m \u001b[0mcols\u001b[0m\u001b[0;34m\u001b[0m\u001b[0;34m\u001b[0m\u001b[0m\n\u001b[1;32m      2\u001b[0m \u001b[0my_label\u001b[0m \u001b[0;34m=\u001b[0m \u001b[0;34m'final'\u001b[0m\u001b[0;34m\u001b[0m\u001b[0;34m\u001b[0m\u001b[0m\n\u001b[0;32m----> 3\u001b[0;31m \u001b[0mforward_selection\u001b[0m\u001b[0;34m(\u001b[0m\u001b[0mDSAP107_sub\u001b[0m\u001b[0;34m,\u001b[0m \u001b[0mcols\u001b[0m\u001b[0;34m,\u001b[0m \u001b[0my_label\u001b[0m\u001b[0;34m)\u001b[0m\u001b[0;34m\u001b[0m\u001b[0;34m\u001b[0m\u001b[0m\n\u001b[0m",
      "\u001b[0;32m<ipython-input-67-1448dbf5aa51>\u001b[0m in \u001b[0;36mforward_selection\u001b[0;34m(input_df, x_labels, y_label)\u001b[0m\n\u001b[1;32m     18\u001b[0m \u001b[0;34m\u001b[0m\u001b[0m\n\u001b[1;32m     19\u001b[0m             \u001b[0mmodelstr\u001b[0m \u001b[0;34m=\u001b[0m  \u001b[0;34m\"Q(\\\"{}\\\")\"\u001b[0m\u001b[0;34m.\u001b[0m\u001b[0mformat\u001b[0m\u001b[0;34m(\u001b[0m\u001b[0my_label\u001b[0m\u001b[0;34m)\u001b[0m\u001b[0;34m+\u001b[0m \u001b[0;34m\" ~ \"\u001b[0m \u001b[0;34m+\u001b[0m \u001b[0;34m\"+\"\u001b[0m\u001b[0;34m.\u001b[0m\u001b[0mjoin\u001b[0m\u001b[0;34m(\u001b[0m\u001b[0;34m[\u001b[0m\u001b[0;34m\"Q(\\\"{}\\\")+\"\u001b[0m\u001b[0;34m.\u001b[0m\u001b[0mformat\u001b[0m\u001b[0;34m(\u001b[0m\u001b[0mx_label\u001b[0m\u001b[0;34m)\u001b[0m \u001b[0;32mfor\u001b[0m \u001b[0mx_label\u001b[0m \u001b[0;32min\u001b[0m \u001b[0mtmplist\u001b[0m\u001b[0;34m]\u001b[0m\u001b[0;34m)\u001b[0m\u001b[0;34m\u001b[0m\u001b[0;34m\u001b[0m\u001b[0m\n\u001b[0;32m---> 20\u001b[0;31m             \u001b[0mresult6tmp\u001b[0m \u001b[0;34m=\u001b[0m \u001b[0msmf\u001b[0m\u001b[0;34m.\u001b[0m\u001b[0mols\u001b[0m\u001b[0;34m(\u001b[0m\u001b[0mmodelstr\u001b[0m\u001b[0;34m,\u001b[0m \u001b[0mdata\u001b[0m\u001b[0;34m=\u001b[0m\u001b[0minput_df\u001b[0m\u001b[0;34m)\u001b[0m\u001b[0;34m.\u001b[0m\u001b[0mfit\u001b[0m\u001b[0;34m(\u001b[0m\u001b[0;34m)\u001b[0m\u001b[0;34m\u001b[0m\u001b[0;34m\u001b[0m\u001b[0m\n\u001b[0m\u001b[1;32m     21\u001b[0m             \u001b[0;31m#print(df18_result6tmp.summary())\u001b[0m\u001b[0;34m\u001b[0m\u001b[0;34m\u001b[0m\u001b[0;34m\u001b[0m\u001b[0m\n\u001b[1;32m     22\u001b[0m             \u001b[0mtmp_indep_subset\u001b[0m\u001b[0;34m.\u001b[0m\u001b[0mappend\u001b[0m\u001b[0;34m(\u001b[0m\u001b[0mtmplist\u001b[0m\u001b[0;34m)\u001b[0m\u001b[0;34m\u001b[0m\u001b[0;34m\u001b[0m\u001b[0m\n",
      "\u001b[0;32m/opt/anaconda3/lib/python3.7/site-packages/statsmodels/base/model.py\u001b[0m in \u001b[0;36mfrom_formula\u001b[0;34m(cls, formula, data, subset, drop_cols, *args, **kwargs)\u001b[0m\n\u001b[1;32m    167\u001b[0m \u001b[0;34m\u001b[0m\u001b[0m\n\u001b[1;32m    168\u001b[0m         tmp = handle_formula_data(data, None, formula, depth=eval_env,\n\u001b[0;32m--> 169\u001b[0;31m                                   missing=missing)\n\u001b[0m\u001b[1;32m    170\u001b[0m         \u001b[0;34m(\u001b[0m\u001b[0;34m(\u001b[0m\u001b[0mendog\u001b[0m\u001b[0;34m,\u001b[0m \u001b[0mexog\u001b[0m\u001b[0;34m)\u001b[0m\u001b[0;34m,\u001b[0m \u001b[0mmissing_idx\u001b[0m\u001b[0;34m,\u001b[0m \u001b[0mdesign_info\u001b[0m\u001b[0;34m)\u001b[0m \u001b[0;34m=\u001b[0m \u001b[0mtmp\u001b[0m\u001b[0;34m\u001b[0m\u001b[0;34m\u001b[0m\u001b[0m\n\u001b[1;32m    171\u001b[0m         \u001b[0mmax_endog\u001b[0m \u001b[0;34m=\u001b[0m \u001b[0mcls\u001b[0m\u001b[0;34m.\u001b[0m\u001b[0m_formula_max_endog\u001b[0m\u001b[0;34m\u001b[0m\u001b[0;34m\u001b[0m\u001b[0m\n",
      "\u001b[0;32m/opt/anaconda3/lib/python3.7/site-packages/statsmodels/formula/formulatools.py\u001b[0m in \u001b[0;36mhandle_formula_data\u001b[0;34m(Y, X, formula, depth, missing)\u001b[0m\n\u001b[1;32m     63\u001b[0m         \u001b[0;32mif\u001b[0m \u001b[0mdata_util\u001b[0m\u001b[0;34m.\u001b[0m\u001b[0m_is_using_pandas\u001b[0m\u001b[0;34m(\u001b[0m\u001b[0mY\u001b[0m\u001b[0;34m,\u001b[0m \u001b[0;32mNone\u001b[0m\u001b[0;34m)\u001b[0m\u001b[0;34m:\u001b[0m\u001b[0;34m\u001b[0m\u001b[0;34m\u001b[0m\u001b[0m\n\u001b[1;32m     64\u001b[0m             result = dmatrices(formula, Y, depth, return_type='dataframe',\n\u001b[0;32m---> 65\u001b[0;31m                                NA_action=na_action)\n\u001b[0m\u001b[1;32m     66\u001b[0m         \u001b[0;32melse\u001b[0m\u001b[0;34m:\u001b[0m\u001b[0;34m\u001b[0m\u001b[0;34m\u001b[0m\u001b[0m\n\u001b[1;32m     67\u001b[0m             result = dmatrices(formula, Y, depth, return_type='dataframe',\n",
      "\u001b[0;32m/opt/anaconda3/lib/python3.7/site-packages/patsy/highlevel.py\u001b[0m in \u001b[0;36mdmatrices\u001b[0;34m(formula_like, data, eval_env, NA_action, return_type)\u001b[0m\n\u001b[1;32m    308\u001b[0m     \u001b[0meval_env\u001b[0m \u001b[0;34m=\u001b[0m \u001b[0mEvalEnvironment\u001b[0m\u001b[0;34m.\u001b[0m\u001b[0mcapture\u001b[0m\u001b[0;34m(\u001b[0m\u001b[0meval_env\u001b[0m\u001b[0;34m,\u001b[0m \u001b[0mreference\u001b[0m\u001b[0;34m=\u001b[0m\u001b[0;36m1\u001b[0m\u001b[0;34m)\u001b[0m\u001b[0;34m\u001b[0m\u001b[0;34m\u001b[0m\u001b[0m\n\u001b[1;32m    309\u001b[0m     (lhs, rhs) = _do_highlevel_design(formula_like, data, eval_env,\n\u001b[0;32m--> 310\u001b[0;31m                                       NA_action, return_type)\n\u001b[0m\u001b[1;32m    311\u001b[0m     \u001b[0;32mif\u001b[0m \u001b[0mlhs\u001b[0m\u001b[0;34m.\u001b[0m\u001b[0mshape\u001b[0m\u001b[0;34m[\u001b[0m\u001b[0;36m1\u001b[0m\u001b[0;34m]\u001b[0m \u001b[0;34m==\u001b[0m \u001b[0;36m0\u001b[0m\u001b[0;34m:\u001b[0m\u001b[0;34m\u001b[0m\u001b[0;34m\u001b[0m\u001b[0m\n\u001b[1;32m    312\u001b[0m         \u001b[0;32mraise\u001b[0m \u001b[0mPatsyError\u001b[0m\u001b[0;34m(\u001b[0m\u001b[0;34m\"model is missing required outcome variables\"\u001b[0m\u001b[0;34m)\u001b[0m\u001b[0;34m\u001b[0m\u001b[0;34m\u001b[0m\u001b[0m\n",
      "\u001b[0;32m/opt/anaconda3/lib/python3.7/site-packages/patsy/highlevel.py\u001b[0m in \u001b[0;36m_do_highlevel_design\u001b[0;34m(formula_like, data, eval_env, NA_action, return_type)\u001b[0m\n\u001b[1;32m    163\u001b[0m         \u001b[0;32mreturn\u001b[0m \u001b[0miter\u001b[0m\u001b[0;34m(\u001b[0m\u001b[0;34m[\u001b[0m\u001b[0mdata\u001b[0m\u001b[0;34m]\u001b[0m\u001b[0;34m)\u001b[0m\u001b[0;34m\u001b[0m\u001b[0;34m\u001b[0m\u001b[0m\n\u001b[1;32m    164\u001b[0m     design_infos = _try_incr_builders(formula_like, data_iter_maker, eval_env,\n\u001b[0;32m--> 165\u001b[0;31m                                       NA_action)\n\u001b[0m\u001b[1;32m    166\u001b[0m     \u001b[0;32mif\u001b[0m \u001b[0mdesign_infos\u001b[0m \u001b[0;32mis\u001b[0m \u001b[0;32mnot\u001b[0m \u001b[0;32mNone\u001b[0m\u001b[0;34m:\u001b[0m\u001b[0;34m\u001b[0m\u001b[0;34m\u001b[0m\u001b[0m\n\u001b[1;32m    167\u001b[0m         return build_design_matrices(design_infos, data,\n",
      "\u001b[0;32m/opt/anaconda3/lib/python3.7/site-packages/patsy/highlevel.py\u001b[0m in \u001b[0;36m_try_incr_builders\u001b[0;34m(formula_like, data_iter_maker, eval_env, NA_action)\u001b[0m\n\u001b[1;32m     60\u001b[0m                 \"ascii-only, or else upgrade to Python 3.\")\n\u001b[1;32m     61\u001b[0m     \u001b[0;32mif\u001b[0m \u001b[0misinstance\u001b[0m\u001b[0;34m(\u001b[0m\u001b[0mformula_like\u001b[0m\u001b[0;34m,\u001b[0m \u001b[0mstr\u001b[0m\u001b[0;34m)\u001b[0m\u001b[0;34m:\u001b[0m\u001b[0;34m\u001b[0m\u001b[0;34m\u001b[0m\u001b[0m\n\u001b[0;32m---> 62\u001b[0;31m         \u001b[0mformula_like\u001b[0m \u001b[0;34m=\u001b[0m \u001b[0mModelDesc\u001b[0m\u001b[0;34m.\u001b[0m\u001b[0mfrom_formula\u001b[0m\u001b[0;34m(\u001b[0m\u001b[0mformula_like\u001b[0m\u001b[0;34m)\u001b[0m\u001b[0;34m\u001b[0m\u001b[0;34m\u001b[0m\u001b[0m\n\u001b[0m\u001b[1;32m     63\u001b[0m         \u001b[0;31m# fallthrough\u001b[0m\u001b[0;34m\u001b[0m\u001b[0;34m\u001b[0m\u001b[0;34m\u001b[0m\u001b[0m\n\u001b[1;32m     64\u001b[0m     \u001b[0;32mif\u001b[0m \u001b[0misinstance\u001b[0m\u001b[0;34m(\u001b[0m\u001b[0mformula_like\u001b[0m\u001b[0;34m,\u001b[0m \u001b[0mModelDesc\u001b[0m\u001b[0;34m)\u001b[0m\u001b[0;34m:\u001b[0m\u001b[0;34m\u001b[0m\u001b[0;34m\u001b[0m\u001b[0m\n",
      "\u001b[0;32m/opt/anaconda3/lib/python3.7/site-packages/patsy/desc.py\u001b[0m in \u001b[0;36mfrom_formula\u001b[0;34m(cls, tree_or_string)\u001b[0m\n\u001b[1;32m    162\u001b[0m             \u001b[0mtree\u001b[0m \u001b[0;34m=\u001b[0m \u001b[0mtree_or_string\u001b[0m\u001b[0;34m\u001b[0m\u001b[0;34m\u001b[0m\u001b[0m\n\u001b[1;32m    163\u001b[0m         \u001b[0;32melse\u001b[0m\u001b[0;34m:\u001b[0m\u001b[0;34m\u001b[0m\u001b[0;34m\u001b[0m\u001b[0m\n\u001b[0;32m--> 164\u001b[0;31m             \u001b[0mtree\u001b[0m \u001b[0;34m=\u001b[0m \u001b[0mparse_formula\u001b[0m\u001b[0;34m(\u001b[0m\u001b[0mtree_or_string\u001b[0m\u001b[0;34m)\u001b[0m\u001b[0;34m\u001b[0m\u001b[0;34m\u001b[0m\u001b[0m\n\u001b[0m\u001b[1;32m    165\u001b[0m         \u001b[0mvalue\u001b[0m \u001b[0;34m=\u001b[0m \u001b[0mEvaluator\u001b[0m\u001b[0;34m(\u001b[0m\u001b[0;34m)\u001b[0m\u001b[0;34m.\u001b[0m\u001b[0meval\u001b[0m\u001b[0;34m(\u001b[0m\u001b[0mtree\u001b[0m\u001b[0;34m,\u001b[0m \u001b[0mrequire_evalexpr\u001b[0m\u001b[0;34m=\u001b[0m\u001b[0;32mFalse\u001b[0m\u001b[0;34m)\u001b[0m\u001b[0;34m\u001b[0m\u001b[0;34m\u001b[0m\u001b[0m\n\u001b[1;32m    166\u001b[0m         \u001b[0;32massert\u001b[0m \u001b[0misinstance\u001b[0m\u001b[0;34m(\u001b[0m\u001b[0mvalue\u001b[0m\u001b[0;34m,\u001b[0m \u001b[0mcls\u001b[0m\u001b[0;34m)\u001b[0m\u001b[0;34m\u001b[0m\u001b[0;34m\u001b[0m\u001b[0m\n",
      "\u001b[0;32m/opt/anaconda3/lib/python3.7/site-packages/patsy/parse_formula.py\u001b[0m in \u001b[0;36mparse_formula\u001b[0;34m(code, extra_operators)\u001b[0m\n\u001b[1;32m    146\u001b[0m     tree = infix_parse(_tokenize_formula(code, operator_strings),\n\u001b[1;32m    147\u001b[0m                        \u001b[0moperators\u001b[0m\u001b[0;34m,\u001b[0m\u001b[0;34m\u001b[0m\u001b[0;34m\u001b[0m\u001b[0m\n\u001b[0;32m--> 148\u001b[0;31m                        _atomic_token_types)\n\u001b[0m\u001b[1;32m    149\u001b[0m     \u001b[0;32mif\u001b[0m \u001b[0;32mnot\u001b[0m \u001b[0misinstance\u001b[0m\u001b[0;34m(\u001b[0m\u001b[0mtree\u001b[0m\u001b[0;34m,\u001b[0m \u001b[0mParseNode\u001b[0m\u001b[0;34m)\u001b[0m \u001b[0;32mor\u001b[0m \u001b[0mtree\u001b[0m\u001b[0;34m.\u001b[0m\u001b[0mtype\u001b[0m \u001b[0;34m!=\u001b[0m \u001b[0;34m\"~\"\u001b[0m\u001b[0;34m:\u001b[0m\u001b[0;34m\u001b[0m\u001b[0;34m\u001b[0m\u001b[0m\n\u001b[1;32m    150\u001b[0m         \u001b[0mtree\u001b[0m \u001b[0;34m=\u001b[0m \u001b[0mParseNode\u001b[0m\u001b[0;34m(\u001b[0m\u001b[0;34m\"~\"\u001b[0m\u001b[0;34m,\u001b[0m \u001b[0;32mNone\u001b[0m\u001b[0;34m,\u001b[0m \u001b[0;34m[\u001b[0m\u001b[0mtree\u001b[0m\u001b[0;34m]\u001b[0m\u001b[0;34m,\u001b[0m \u001b[0mtree\u001b[0m\u001b[0;34m.\u001b[0m\u001b[0morigin\u001b[0m\u001b[0;34m)\u001b[0m\u001b[0;34m\u001b[0m\u001b[0;34m\u001b[0m\u001b[0m\n",
      "\u001b[0;32m/opt/anaconda3/lib/python3.7/site-packages/patsy/infix_parser.py\u001b[0m in \u001b[0;36minfix_parse\u001b[0;34m(tokens, operators, atomic_types, trace)\u001b[0m\n\u001b[1;32m    220\u001b[0m     \u001b[0;32mif\u001b[0m \u001b[0mwant_noun\u001b[0m\u001b[0;34m:\u001b[0m\u001b[0;34m\u001b[0m\u001b[0;34m\u001b[0m\u001b[0m\n\u001b[1;32m    221\u001b[0m         raise PatsyError(\"expected a noun, but instead the expression ended\",\n\u001b[0;32m--> 222\u001b[0;31m                             c.op_stack[-1].token.origin)\n\u001b[0m\u001b[1;32m    223\u001b[0m \u001b[0;34m\u001b[0m\u001b[0m\n\u001b[1;32m    224\u001b[0m     \u001b[0;32mwhile\u001b[0m \u001b[0mc\u001b[0m\u001b[0;34m.\u001b[0m\u001b[0mop_stack\u001b[0m\u001b[0;34m:\u001b[0m\u001b[0;34m\u001b[0m\u001b[0;34m\u001b[0m\u001b[0m\n",
      "\u001b[0;31mPatsyError\u001b[0m: expected a noun, but instead the expression ended\n    Q(\"final\") ~ Q(\"total_watch_time\")+\n                                      ^"
     ]
    }
   ],
   "source": [
    "x_labels = cols\n",
    "y_label = 'final'\n",
    "forward_selection(DSAP107_sub, cols, y_label)"
   ]
  },
  {
   "cell_type": "markdown",
   "metadata": {},
   "source": [
    "## Check the outliers"
   ]
  },
  {
   "cell_type": "code",
   "execution_count": null,
   "metadata": {},
   "outputs": [],
   "source": [
    "outliers = pd.DataFrame(data[(abs(data[:,10]))>2])"
   ]
  },
  {
   "cell_type": "code",
   "execution_count": null,
   "metadata": {},
   "outputs": [],
   "source": [
    "outliers"
   ]
  },
  {
   "cell_type": "code",
   "execution_count": 354,
   "metadata": {
    "scrolled": true
   },
   "outputs": [
    {
     "data": {
      "text/html": [
       "<div>\n",
       "<style scoped>\n",
       "    .dataframe tbody tr th:only-of-type {\n",
       "        vertical-align: middle;\n",
       "    }\n",
       "\n",
       "    .dataframe tbody tr th {\n",
       "        vertical-align: top;\n",
       "    }\n",
       "\n",
       "    .dataframe thead th {\n",
       "        text-align: right;\n",
       "    }\n",
       "</style>\n",
       "<table border=\"1\" class=\"dataframe\">\n",
       "  <thead>\n",
       "    <tr style=\"text-align: right;\">\n",
       "      <th></th>\n",
       "      <th>student_id</th>\n",
       "      <th>Midterm (2042)</th>\n",
       "      <th>Final (2346)</th>\n",
       "      <th>total_watch_time</th>\n",
       "      <th>watch_freq</th>\n",
       "      <th>backward_sec</th>\n",
       "      <th>backward_times</th>\n",
       "      <th>forward_sec</th>\n",
       "      <th>forward_times</th>\n",
       "      <th>pause_freq</th>\n",
       "      <th>period 0</th>\n",
       "      <th>period 1</th>\n",
       "      <th>period 2</th>\n",
       "      <th>period 3</th>\n",
       "      <th>period 4</th>\n",
       "      <th>period 5</th>\n",
       "      <th>avg_playback_rate</th>\n",
       "    </tr>\n",
       "  </thead>\n",
       "  <tbody>\n",
       "    <tr>\n",
       "      <th>20.0</th>\n",
       "      <td>87</td>\n",
       "      <td>0</td>\n",
       "      <td>0.0</td>\n",
       "      <td>14.000000</td>\n",
       "      <td>0.002193</td>\n",
       "      <td>0</td>\n",
       "      <td>0</td>\n",
       "      <td>100</td>\n",
       "      <td>4</td>\n",
       "      <td>2</td>\n",
       "      <td>0.000000</td>\n",
       "      <td>1.0</td>\n",
       "      <td>0.000000</td>\n",
       "      <td>0.000000</td>\n",
       "      <td>0.000000</td>\n",
       "      <td>0.000000</td>\n",
       "      <td>1.000000</td>\n",
       "    </tr>\n",
       "    <tr>\n",
       "      <th>35.0</th>\n",
       "      <td>108</td>\n",
       "      <td>13</td>\n",
       "      <td>0.0</td>\n",
       "      <td>14514.733333</td>\n",
       "      <td>0.540704</td>\n",
       "      <td>5051</td>\n",
       "      <td>64</td>\n",
       "      <td>5789</td>\n",
       "      <td>357</td>\n",
       "      <td>138</td>\n",
       "      <td>0.074242</td>\n",
       "      <td>0.0</td>\n",
       "      <td>0.185526</td>\n",
       "      <td>0.286509</td>\n",
       "      <td>0.132178</td>\n",
       "      <td>0.321545</td>\n",
       "      <td>1.277874</td>\n",
       "    </tr>\n",
       "    <tr>\n",
       "      <th>44.0</th>\n",
       "      <td>117</td>\n",
       "      <td>87</td>\n",
       "      <td>57.0</td>\n",
       "      <td>14376.400000</td>\n",
       "      <td>0.768865</td>\n",
       "      <td>702</td>\n",
       "      <td>47</td>\n",
       "      <td>1332</td>\n",
       "      <td>21</td>\n",
       "      <td>125</td>\n",
       "      <td>0.163764</td>\n",
       "      <td>0.0</td>\n",
       "      <td>0.251303</td>\n",
       "      <td>0.356077</td>\n",
       "      <td>0.101252</td>\n",
       "      <td>0.127605</td>\n",
       "      <td>1.893729</td>\n",
       "    </tr>\n",
       "    <tr>\n",
       "      <th>50.0</th>\n",
       "      <td>126</td>\n",
       "      <td>0</td>\n",
       "      <td>0.0</td>\n",
       "      <td>2638.500000</td>\n",
       "      <td>0.167370</td>\n",
       "      <td>27</td>\n",
       "      <td>1</td>\n",
       "      <td>0</td>\n",
       "      <td>0</td>\n",
       "      <td>12</td>\n",
       "      <td>0.461626</td>\n",
       "      <td>0.0</td>\n",
       "      <td>0.000000</td>\n",
       "      <td>0.000000</td>\n",
       "      <td>0.485882</td>\n",
       "      <td>0.052492</td>\n",
       "      <td>1.977639</td>\n",
       "    </tr>\n",
       "  </tbody>\n",
       "</table>\n",
       "</div>"
      ],
      "text/plain": [
       "      student_id  Midterm (2042)  Final (2346)  total_watch_time  watch_freq  \\\n",
       "20.0          87               0           0.0         14.000000    0.002193   \n",
       "35.0         108              13           0.0      14514.733333    0.540704   \n",
       "44.0         117              87          57.0      14376.400000    0.768865   \n",
       "50.0         126               0           0.0       2638.500000    0.167370   \n",
       "\n",
       "      backward_sec  backward_times  forward_sec  forward_times  pause_freq  \\\n",
       "20.0             0               0          100              4           2   \n",
       "35.0          5051              64         5789            357         138   \n",
       "44.0           702              47         1332             21         125   \n",
       "50.0            27               1            0              0          12   \n",
       "\n",
       "      period 0  period 1  period 2  period 3  period 4  period 5  \\\n",
       "20.0  0.000000       1.0  0.000000  0.000000  0.000000  0.000000   \n",
       "35.0  0.074242       0.0  0.185526  0.286509  0.132178  0.321545   \n",
       "44.0  0.163764       0.0  0.251303  0.356077  0.101252  0.127605   \n",
       "50.0  0.461626       0.0  0.000000  0.000000  0.485882  0.052492   \n",
       "\n",
       "      avg_playback_rate  \n",
       "20.0           1.000000  \n",
       "35.0           1.277874  \n",
       "44.0           1.893729  \n",
       "50.0           1.977639  "
      ]
     },
     "execution_count": 354,
     "metadata": {},
     "output_type": "execute_result"
    }
   ],
   "source": [
    "DSAP107_sub.loc[list(outliers[0])]"
   ]
  },
  {
   "cell_type": "markdown",
   "metadata": {},
   "source": [
    "## check influential observations"
   ]
  },
  {
   "cell_type": "code",
   "execution_count": 355,
   "metadata": {},
   "outputs": [],
   "source": [
    "influ_obs = pd.DataFrame(data[ (abs(data[:,11]))>1])"
   ]
  },
  {
   "cell_type": "code",
   "execution_count": 356,
   "metadata": {},
   "outputs": [
    {
     "data": {
      "text/html": [
       "<div>\n",
       "<style scoped>\n",
       "    .dataframe tbody tr th:only-of-type {\n",
       "        vertical-align: middle;\n",
       "    }\n",
       "\n",
       "    .dataframe tbody tr th {\n",
       "        vertical-align: top;\n",
       "    }\n",
       "\n",
       "    .dataframe thead th {\n",
       "        text-align: right;\n",
       "    }\n",
       "</style>\n",
       "<table border=\"1\" class=\"dataframe\">\n",
       "  <thead>\n",
       "    <tr style=\"text-align: right;\">\n",
       "      <th></th>\n",
       "      <th>0</th>\n",
       "      <th>1</th>\n",
       "      <th>2</th>\n",
       "      <th>3</th>\n",
       "      <th>4</th>\n",
       "      <th>5</th>\n",
       "      <th>6</th>\n",
       "      <th>7</th>\n",
       "      <th>8</th>\n",
       "      <th>9</th>\n",
       "      <th>10</th>\n",
       "      <th>11</th>\n",
       "    </tr>\n",
       "  </thead>\n",
       "  <tbody>\n",
       "    <tr>\n",
       "      <th>0</th>\n",
       "      <td>21.0</td>\n",
       "      <td>0.0</td>\n",
       "      <td>11.506457</td>\n",
       "      <td>23.354519</td>\n",
       "      <td>-34.96171</td>\n",
       "      <td>57.974624</td>\n",
       "      <td>-56.200761</td>\n",
       "      <td>79.213675</td>\n",
       "      <td>-11.506457</td>\n",
       "      <td>8.192188</td>\n",
       "      <td>-1.404565</td>\n",
       "      <td>1.336116</td>\n",
       "    </tr>\n",
       "  </tbody>\n",
       "</table>\n",
       "</div>"
      ],
      "text/plain": [
       "      0    1          2          3         4          5          6          7  \\\n",
       "0  21.0  0.0  11.506457  23.354519 -34.96171  57.974624 -56.200761  79.213675   \n",
       "\n",
       "           8         9        10        11  \n",
       "0 -11.506457  8.192188 -1.404565  1.336116  "
      ]
     },
     "execution_count": 356,
     "metadata": {},
     "output_type": "execute_result"
    }
   ],
   "source": [
    "influ_obs"
   ]
  },
  {
   "cell_type": "code",
   "execution_count": 357,
   "metadata": {},
   "outputs": [
    {
     "data": {
      "text/html": [
       "<div>\n",
       "<style scoped>\n",
       "    .dataframe tbody tr th:only-of-type {\n",
       "        vertical-align: middle;\n",
       "    }\n",
       "\n",
       "    .dataframe tbody tr th {\n",
       "        vertical-align: top;\n",
       "    }\n",
       "\n",
       "    .dataframe thead th {\n",
       "        text-align: right;\n",
       "    }\n",
       "</style>\n",
       "<table border=\"1\" class=\"dataframe\">\n",
       "  <thead>\n",
       "    <tr style=\"text-align: right;\">\n",
       "      <th></th>\n",
       "      <th>0</th>\n",
       "      <th>1</th>\n",
       "      <th>2</th>\n",
       "      <th>3</th>\n",
       "      <th>4</th>\n",
       "      <th>5</th>\n",
       "      <th>6</th>\n",
       "      <th>7</th>\n",
       "      <th>8</th>\n",
       "      <th>9</th>\n",
       "      <th>10</th>\n",
       "      <th>11</th>\n",
       "    </tr>\n",
       "  </thead>\n",
       "  <tbody>\n",
       "    <tr>\n",
       "      <th>0</th>\n",
       "      <td>21.0</td>\n",
       "      <td>0.0</td>\n",
       "      <td>11.506457</td>\n",
       "      <td>23.354519</td>\n",
       "      <td>-34.96171</td>\n",
       "      <td>57.974624</td>\n",
       "      <td>-56.200761</td>\n",
       "      <td>79.213675</td>\n",
       "      <td>-11.506457</td>\n",
       "      <td>8.192188</td>\n",
       "      <td>-1.404565</td>\n",
       "      <td>1.336116</td>\n",
       "    </tr>\n",
       "  </tbody>\n",
       "</table>\n",
       "</div>"
      ],
      "text/plain": [
       "      0    1          2          3         4          5          6          7  \\\n",
       "0  21.0  0.0  11.506457  23.354519 -34.96171  57.974624 -56.200761  79.213675   \n",
       "\n",
       "           8         9        10        11  \n",
       "0 -11.506457  8.192188 -1.404565  1.336116  "
      ]
     },
     "execution_count": 357,
     "metadata": {},
     "output_type": "execute_result"
    }
   ],
   "source": [
    "influ_obs"
   ]
  },
  {
   "cell_type": "code",
   "execution_count": 358,
   "metadata": {
    "scrolled": false
   },
   "outputs": [
    {
     "data": {
      "text/html": [
       "<div>\n",
       "<style scoped>\n",
       "    .dataframe tbody tr th:only-of-type {\n",
       "        vertical-align: middle;\n",
       "    }\n",
       "\n",
       "    .dataframe tbody tr th {\n",
       "        vertical-align: top;\n",
       "    }\n",
       "\n",
       "    .dataframe thead th {\n",
       "        text-align: right;\n",
       "    }\n",
       "</style>\n",
       "<table border=\"1\" class=\"dataframe\">\n",
       "  <thead>\n",
       "    <tr style=\"text-align: right;\">\n",
       "      <th></th>\n",
       "      <th>student_id</th>\n",
       "      <th>Midterm (2042)</th>\n",
       "      <th>Final (2346)</th>\n",
       "      <th>total_watch_time</th>\n",
       "      <th>watch_freq</th>\n",
       "      <th>backward_sec</th>\n",
       "      <th>backward_times</th>\n",
       "      <th>forward_sec</th>\n",
       "      <th>forward_times</th>\n",
       "      <th>pause_freq</th>\n",
       "      <th>period 0</th>\n",
       "      <th>period 1</th>\n",
       "      <th>period 2</th>\n",
       "      <th>period 3</th>\n",
       "      <th>period 4</th>\n",
       "      <th>period 5</th>\n",
       "      <th>avg_playback_rate</th>\n",
       "    </tr>\n",
       "  </thead>\n",
       "  <tbody>\n",
       "    <tr>\n",
       "      <th>21.0</th>\n",
       "      <td>91</td>\n",
       "      <td>0</td>\n",
       "      <td>0.0</td>\n",
       "      <td>3111.05</td>\n",
       "      <td>0.11756</td>\n",
       "      <td>686</td>\n",
       "      <td>40</td>\n",
       "      <td>753</td>\n",
       "      <td>90</td>\n",
       "      <td>41</td>\n",
       "      <td>0.148653</td>\n",
       "      <td>0.0</td>\n",
       "      <td>0.0</td>\n",
       "      <td>0.0</td>\n",
       "      <td>0.0</td>\n",
       "      <td>0.851347</td>\n",
       "      <td>1.332348</td>\n",
       "    </tr>\n",
       "  </tbody>\n",
       "</table>\n",
       "</div>"
      ],
      "text/plain": [
       "      student_id  Midterm (2042)  Final (2346)  total_watch_time  watch_freq  \\\n",
       "21.0          91               0           0.0           3111.05     0.11756   \n",
       "\n",
       "      backward_sec  backward_times  forward_sec  forward_times  pause_freq  \\\n",
       "21.0           686              40          753             90          41   \n",
       "\n",
       "      period 0  period 1  period 2  period 3  period 4  period 5  \\\n",
       "21.0  0.148653       0.0       0.0       0.0       0.0  0.851347   \n",
       "\n",
       "      avg_playback_rate  \n",
       "21.0           1.332348  "
      ]
     },
     "execution_count": 358,
     "metadata": {},
     "output_type": "execute_result"
    }
   ],
   "source": [
    "DSAP107_sub.loc[list(influ_obs[0])]"
   ]
  },
  {
   "cell_type": "markdown",
   "metadata": {},
   "source": [
    "## Extract outliers and influential data"
   ]
  },
  {
   "cell_type": "code",
   "execution_count": 359,
   "metadata": {
    "scrolled": true
   },
   "outputs": [
    {
     "data": {
      "text/html": [
       "<div>\n",
       "<style scoped>\n",
       "    .dataframe tbody tr th:only-of-type {\n",
       "        vertical-align: middle;\n",
       "    }\n",
       "\n",
       "    .dataframe tbody tr th {\n",
       "        vertical-align: top;\n",
       "    }\n",
       "\n",
       "    .dataframe thead th {\n",
       "        text-align: right;\n",
       "    }\n",
       "</style>\n",
       "<table border=\"1\" class=\"dataframe\">\n",
       "  <thead>\n",
       "    <tr style=\"text-align: right;\">\n",
       "      <th></th>\n",
       "      <th>student_id</th>\n",
       "      <th>Midterm (2042)</th>\n",
       "      <th>Final (2346)</th>\n",
       "      <th>total_watch_time</th>\n",
       "      <th>watch_freq</th>\n",
       "      <th>backward_sec</th>\n",
       "      <th>backward_times</th>\n",
       "      <th>forward_sec</th>\n",
       "      <th>forward_times</th>\n",
       "      <th>pause_freq</th>\n",
       "      <th>period 0</th>\n",
       "      <th>period 1</th>\n",
       "      <th>period 2</th>\n",
       "      <th>period 3</th>\n",
       "      <th>period 4</th>\n",
       "      <th>period 5</th>\n",
       "      <th>avg_playback_rate</th>\n",
       "    </tr>\n",
       "  </thead>\n",
       "  <tbody>\n",
       "    <tr>\n",
       "      <th>20.0</th>\n",
       "      <td>87</td>\n",
       "      <td>0</td>\n",
       "      <td>0.0</td>\n",
       "      <td>14.000000</td>\n",
       "      <td>0.002193</td>\n",
       "      <td>0</td>\n",
       "      <td>0</td>\n",
       "      <td>100</td>\n",
       "      <td>4</td>\n",
       "      <td>2</td>\n",
       "      <td>0.000000</td>\n",
       "      <td>1.0</td>\n",
       "      <td>0.000000</td>\n",
       "      <td>0.000000</td>\n",
       "      <td>0.000000</td>\n",
       "      <td>0.000000</td>\n",
       "      <td>1.000000</td>\n",
       "    </tr>\n",
       "    <tr>\n",
       "      <th>35.0</th>\n",
       "      <td>108</td>\n",
       "      <td>13</td>\n",
       "      <td>0.0</td>\n",
       "      <td>14514.733333</td>\n",
       "      <td>0.540704</td>\n",
       "      <td>5051</td>\n",
       "      <td>64</td>\n",
       "      <td>5789</td>\n",
       "      <td>357</td>\n",
       "      <td>138</td>\n",
       "      <td>0.074242</td>\n",
       "      <td>0.0</td>\n",
       "      <td>0.185526</td>\n",
       "      <td>0.286509</td>\n",
       "      <td>0.132178</td>\n",
       "      <td>0.321545</td>\n",
       "      <td>1.277874</td>\n",
       "    </tr>\n",
       "    <tr>\n",
       "      <th>44.0</th>\n",
       "      <td>117</td>\n",
       "      <td>87</td>\n",
       "      <td>57.0</td>\n",
       "      <td>14376.400000</td>\n",
       "      <td>0.768865</td>\n",
       "      <td>702</td>\n",
       "      <td>47</td>\n",
       "      <td>1332</td>\n",
       "      <td>21</td>\n",
       "      <td>125</td>\n",
       "      <td>0.163764</td>\n",
       "      <td>0.0</td>\n",
       "      <td>0.251303</td>\n",
       "      <td>0.356077</td>\n",
       "      <td>0.101252</td>\n",
       "      <td>0.127605</td>\n",
       "      <td>1.893729</td>\n",
       "    </tr>\n",
       "    <tr>\n",
       "      <th>50.0</th>\n",
       "      <td>126</td>\n",
       "      <td>0</td>\n",
       "      <td>0.0</td>\n",
       "      <td>2638.500000</td>\n",
       "      <td>0.167370</td>\n",
       "      <td>27</td>\n",
       "      <td>1</td>\n",
       "      <td>0</td>\n",
       "      <td>0</td>\n",
       "      <td>12</td>\n",
       "      <td>0.461626</td>\n",
       "      <td>0.0</td>\n",
       "      <td>0.000000</td>\n",
       "      <td>0.000000</td>\n",
       "      <td>0.485882</td>\n",
       "      <td>0.052492</td>\n",
       "      <td>1.977639</td>\n",
       "    </tr>\n",
       "    <tr>\n",
       "      <th>21.0</th>\n",
       "      <td>91</td>\n",
       "      <td>0</td>\n",
       "      <td>0.0</td>\n",
       "      <td>3111.050000</td>\n",
       "      <td>0.117560</td>\n",
       "      <td>686</td>\n",
       "      <td>40</td>\n",
       "      <td>753</td>\n",
       "      <td>90</td>\n",
       "      <td>41</td>\n",
       "      <td>0.148653</td>\n",
       "      <td>0.0</td>\n",
       "      <td>0.000000</td>\n",
       "      <td>0.000000</td>\n",
       "      <td>0.000000</td>\n",
       "      <td>0.851347</td>\n",
       "      <td>1.332348</td>\n",
       "    </tr>\n",
       "  </tbody>\n",
       "</table>\n",
       "</div>"
      ],
      "text/plain": [
       "      student_id  Midterm (2042)  Final (2346)  total_watch_time  watch_freq  \\\n",
       "20.0          87               0           0.0         14.000000    0.002193   \n",
       "35.0         108              13           0.0      14514.733333    0.540704   \n",
       "44.0         117              87          57.0      14376.400000    0.768865   \n",
       "50.0         126               0           0.0       2638.500000    0.167370   \n",
       "21.0          91               0           0.0       3111.050000    0.117560   \n",
       "\n",
       "      backward_sec  backward_times  forward_sec  forward_times  pause_freq  \\\n",
       "20.0             0               0          100              4           2   \n",
       "35.0          5051              64         5789            357         138   \n",
       "44.0           702              47         1332             21         125   \n",
       "50.0            27               1            0              0          12   \n",
       "21.0           686              40          753             90          41   \n",
       "\n",
       "      period 0  period 1  period 2  period 3  period 4  period 5  \\\n",
       "20.0  0.000000       1.0  0.000000  0.000000  0.000000  0.000000   \n",
       "35.0  0.074242       0.0  0.185526  0.286509  0.132178  0.321545   \n",
       "44.0  0.163764       0.0  0.251303  0.356077  0.101252  0.127605   \n",
       "50.0  0.461626       0.0  0.000000  0.000000  0.485882  0.052492   \n",
       "21.0  0.148653       0.0  0.000000  0.000000  0.000000  0.851347   \n",
       "\n",
       "      avg_playback_rate  \n",
       "20.0           1.000000  \n",
       "35.0           1.277874  \n",
       "44.0           1.893729  \n",
       "50.0           1.977639  \n",
       "21.0           1.332348  "
      ]
     },
     "execution_count": 359,
     "metadata": {},
     "output_type": "execute_result"
    }
   ],
   "source": [
    "DSAP107_sub.loc[list(outliers[0])+list(influ_obs[0])]"
   ]
  },
  {
   "cell_type": "code",
   "execution_count": 360,
   "metadata": {},
   "outputs": [
    {
     "data": {
      "text/plain": [
       "20.0     87\n",
       "35.0    108\n",
       "44.0    117\n",
       "50.0    126\n",
       "21.0     91\n",
       "Name: student_id, dtype: int64"
      ]
     },
     "execution_count": 360,
     "metadata": {},
     "output_type": "execute_result"
    }
   ],
   "source": [
    "DSAP107_sub.loc[list(outliers[0])+list(influ_obs[0])]['student_id']"
   ]
  },
  {
   "cell_type": "code",
   "execution_count": 361,
   "metadata": {},
   "outputs": [],
   "source": [
    "DSAP107_sub = DSAP107_sub[~DSAP107_sub.index.isin(list(outliers[0])+list(influ_obs[0]))]"
   ]
  },
  {
   "cell_type": "code",
   "execution_count": 362,
   "metadata": {},
   "outputs": [],
   "source": [
    "DSAP107_sub.reset_index(drop=True, inplace=True)"
   ]
  },
  {
   "cell_type": "code",
   "execution_count": 363,
   "metadata": {},
   "outputs": [
    {
     "data": {
      "text/plain": [
       "88"
      ]
     },
     "execution_count": 363,
     "metadata": {},
     "output_type": "execute_result"
    }
   ],
   "source": [
    "len(DSAP107_sub)"
   ]
  },
  {
   "cell_type": "code",
   "execution_count": null,
   "metadata": {},
   "outputs": [],
   "source": []
  }
 ],
 "metadata": {
  "kernelspec": {
   "display_name": "Python 3",
   "language": "python",
   "name": "python3"
  },
  "language_info": {
   "codemirror_mode": {
    "name": "ipython",
    "version": 3
   },
   "file_extension": ".py",
   "mimetype": "text/x-python",
   "name": "python",
   "nbconvert_exporter": "python",
   "pygments_lexer": "ipython3",
   "version": "3.7.6"
  }
 },
 "nbformat": 4,
 "nbformat_minor": 4
}
